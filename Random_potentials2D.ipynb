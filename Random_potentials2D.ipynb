{
  "nbformat": 4,
  "nbformat_minor": 0,
  "metadata": {
    "colab": {
      "name": "Random_potentials2D.ipynb",
      "provenance": [],
      "collapsed_sections": []
    },
    "kernelspec": {
      "name": "python3",
      "display_name": "Python 3"
    },
    "accelerator": "GPU"
  },
  "cells": [
    {
      "cell_type": "markdown",
      "metadata": {
        "id": "nbU5D8zwFHSn"
      },
      "source": [
        "[![Open In Colab](https://colab.research.google.com/assets/colab-badge.svg)](https://colab.research.google.com/github/laiadc/DL-schrodinger/blob/main/Random_potentials2D.ipynb)"
      ]
    },
    {
      "cell_type": "code",
      "metadata": {
        "id": "u46K6DlyZhEC",
        "colab": {
          "base_uri": "https://localhost:8080/"
        },
        "outputId": "8483ee3c-5a77-4570-f688-cc31c476fa36"
      },
      "source": [
        "!git clone https://github.com/laiadc/DL-schrodinger.git"
      ],
      "execution_count": 1,
      "outputs": [
        {
          "output_type": "stream",
          "text": [
            "Cloning into 'DL-schrodinger'...\n",
            "remote: Enumerating objects: 12, done.\u001b[K\n",
            "remote: Counting objects: 100% (12/12), done.\u001b[K\n",
            "remote: Compressing objects: 100% (9/9), done.\u001b[K\n",
            "remote: Total 316 (delta 5), reused 7 (delta 3), pack-reused 304\u001b[K\n",
            "Receiving objects: 100% (316/316), 962.18 MiB | 22.04 MiB/s, done.\n",
            "Resolving deltas: 100% (63/63), done.\n",
            "Checking out files: 100% (133/133), done.\n"
          ],
          "name": "stdout"
        }
      ]
    },
    {
      "cell_type": "code",
      "metadata": {
        "id": "vaJ_1ARvZmYS",
        "colab": {
          "base_uri": "https://localhost:8080/"
        },
        "outputId": "ed9c9346-9ecc-4aad-e307-84537cb3c6c6"
      },
      "source": [
        "cd DL-schrodinger"
      ],
      "execution_count": 2,
      "outputs": [
        {
          "output_type": "stream",
          "text": [
            "/content/DL-schrodinger\n"
          ],
          "name": "stdout"
        }
      ]
    },
    {
      "cell_type": "code",
      "metadata": {
        "id": "ad_hYcoLZrvc"
      },
      "source": [
        "%tensorflow_version 2.x"
      ],
      "execution_count": 3,
      "outputs": []
    },
    {
      "cell_type": "markdown",
      "metadata": {
        "id": "VnyRGTvu98LT"
      },
      "source": [
        "# Integrating the Schrödinger equation with Deep Learning in 2D\n",
        "\n",
        "This notebook extends the work developed in *Random potentials1D.ipynb* by using two-dimensional potentials. In this case, we will train a neural network to  find the stationary states of the Time-Independent Schrödinger equation in 2D:\n",
        "\n",
        "$$\n",
        "\\Big( - \\frac{\\hbar^2}{2m} (\\frac{\\partial^2}{\\partial x^2} + \\frac{\\partial^2}{\\partial y^2}) + V(x,y) \\Big) \\phi_n(x,y) = E_n \\phi_n(x,y) \n",
        "$$\n",
        "\n",
        "Where $\\hbar$ is the reduced Plank constant, $m$ is the mass of the particle, $V(x,y)$ is the potential under which the particle evolves. $\\phi_n(x,y)$ is the $n$-th stationary state of the quantum system, with energy $E_n$. The subscrit $n$ can be discrete ($n \\in \\mathbb{Z}$) or continuous ($n \\in \\mathbb{R}$).\n",
        "\n",
        "The stationary wave functions $\\phi_n(x,y)$ have a trivial time evolution:\n",
        "\n",
        "$$\n",
        "\\phi_n(x,y,t) = \\phi_n(x,y) e^{-i \\frac{E_n}{\\hbar}t}\n",
        "$$\n",
        "\n",
        "They form a basis of the Hilbert Space of the Hamiltonian of the system\n",
        "\n",
        "$$\n",
        "\\hat{H} = \\frac{\\hat{p}^2}{2m} + V(\\hat{x,y})\n",
        "$$\n",
        "\n",
        "Therefore, the evolution of an arbitrary state of the system $\\psi(x,t)$ will be given by:\n",
        "\n",
        "$$\n",
        "\\psi(x,y,t) = \\sum_k c_k \\phi_k(x,y) e^{-i \\frac{E_k}{\\hbar}t} \n",
        "$$\n",
        "\n",
        "Where $c_k$ are linear coefficients and the sum over $k$ can be either discrete or continuous (an integral). The modulus square of the coefficients $|c_k|^2$ represents the probability of being in the $k$-th excited state. \n",
        "\n"
      ]
    },
    {
      "cell_type": "markdown",
      "metadata": {
        "id": "0anUhPJYXzy1"
      },
      "source": [
        "# Variational method with the H.O basis in 2D\n",
        "\n",
        "We choose as a basis of $\\mathcal{H}$ the eigenfunctions of the Harmonic Oscillator with $m=1$, $\\hbar=1$ and $\\omega_x=1$, $\\omega_y=\\omega \\in \\mathbb{R}-\\mathbb{Q}$ in 2D:\n",
        "\n",
        "\\begin{equation}\n",
        "\\hat{H} = \\frac{\\hat{p}^2}{2m} + \\frac{1}{2}m(x^2 + \\omega^2y^2)\n",
        "\\end{equation}\n",
        "\n",
        "Notice that the angular frequency is different for the two dimensions. Since the H.O is not coupled, the Schrödinger Equation is separable, and thus the eigenfunctions are the product of the 1D eigenfunctions in both axis:\n",
        "\n",
        "\\begin{equation}\n",
        "\\phi_{n_x, n_y}(x,y) = \\frac{1}{\\sqrt{n_x!2^{n_x} \\sqrt{\\pi}}}\\frac{1}{\\sqrt{n_y!2^{n_y} \\sqrt{\\pi/\\omega}}} e^{-x^2/2}e^{-y^2\\omega/2} H_{n_x}(x)H_{n_y}(\\sqrt{\\omega}y) = \\phi_{n_x}(x)\\phi_{n_y,\\omega}(y)\n",
        "\\end{equation}\n",
        "\n",
        "Where $H_n(x)$ is the $n$th Hermite polynomial. Notice that $n_x$ is the energy level in direction $x$ and $n_y$ is the energy level in direction $y$. \n",
        "\n",
        "The energy of an eigenstate with energy levels $n_x$ and $n_y$ is:\n",
        "\n",
        "\\begin{equation}\n",
        "E_{n_x, n_y} = \\hbar (n_x + \\omega n_y +1) \n",
        "\\end{equation}\n",
        "\n",
        "\n",
        "Since $\\omega \\in \\mathbb{R}-\\mathbb{Q}$ there is no degeneracy of energy, and so the energy levels can be ordered in an ascending mode. Therefore, there exists a unique bijective order $n(n_x,n_y)$ which sorts the energy levels. Hence we can write $\\phi_{n_x,n_y}(x,y) = \\phi_n(x,y)$ where $n = n(n_x,n_y)$. Since $\\{\\phi_n(x,y)\\}_n$ form a basis of $\\mathcal{H}$, we can write any wavefunction $\\psi(x,y)$ as a linear combination of the eigenfunctions:\n",
        "\n",
        "\\begin{equation}\n",
        "\\psi(x,y) = \\sum_{n=0}^\\infty a_n \\phi_n(x,y)\n",
        "\\end{equation}\n",
        "\n",
        "\n",
        "Thus, the mean energy of $\\psi$ is\n",
        "\n",
        "\\begin{multline}\n",
        "<H>= <\\psi|H|\\psi>= \\int_{-\\infty}^\\infty\\int_{-\\infty}^\\infty \\Big(\\sum_{n=0}^\\infty a_n \\phi_n(x,y)\\Big) \\hat{H} \\Big(\\sum_{m=0}^\\infty a_m \\phi_{m,\\omega}(x,y)\\Big) dx dy=\\\\\n",
        "\\sum_{n=0}^\\infty \\sum_{m=0}^\\infty a_n a_m\\int_{-\\infty}^\\infty \\int_{-\\infty}^\\infty \\phi_n(x,y) H(x,y) \\phi_{m,\\omega}(x,y)dx = \\sum_{n=0}^\\infty \\sum_{m=0}^\\infty a_n a_m C_{nm}\n",
        "\\end{multline}\n",
        "\n",
        "\n",
        "\n",
        "where\n",
        "\n",
        "\\begin{multline}\n",
        "C_{nm} = \\int_{-\\infty}^\\infty \\int_{-\\infty}^\\infty A_n e^{-x^2/2} H_{n_x}(x)e^{-y^2\\omega/2} H_{n_y}(\\sqrt{\\omega}y) \\Big(-\\frac{1}{2} \\frac{\\partial^2}{\\partial x^2} -\\frac{1}{2} \\frac{\\partial^2}{\\partial y^2} + V(x,y) \\Big)\\cdot \\\\ A_m e^{-x^2/2}e^{-y^2\\omega/2} H_{m_x}(x) H_{m_y}(\\sqrt{\\omega}y) dx dy, \\qquad A_n = \\frac{1}{\\sqrt{n_x!2^{n_x} \\sqrt{\\pi}}}, \\ A_m = \\frac{1}{\\sqrt{n_y!2^{n_y} \\sqrt{\\pi/\\omega}}}\n",
        "\\end{multline}\n",
        "\n"
      ]
    },
    {
      "cell_type": "code",
      "metadata": {
        "id": "3socfVfj3ogN",
        "cellView": "form"
      },
      "source": [
        "#@title Code to calculate the order of eigenstates\n",
        "#@markdown Double click to see the code\n",
        "\n",
        "import numpy as np\n",
        "from scipy.special import factorial\n",
        "from scipy import linalg as LA\n",
        "import scipy.sparse as sps\n",
        "from scipy.linalg import eigh\n",
        "from scipy.special import eval_hermite\n",
        "from scipy.signal import argrelextrema\n",
        "\n",
        "\n",
        "def get_nx_ny(n):\n",
        "  s=0\n",
        "  i=-1 \n",
        "  while s<n:\n",
        "    i+=1\n",
        "    s+=i+1\n",
        "  if s==n:\n",
        "    N=i+1\n",
        "  else:\n",
        "    s-=i+1\n",
        "    N=i # N= nx+ny\n",
        "  nx = n-s\n",
        "  ny = N-nx\n",
        "  return nx,ny\n",
        "\n",
        "\n",
        "def get_n(nx,ny):\n",
        "  return np.sum([i+1 for i in range(nx+ny)]) + nx"
      ],
      "execution_count": 4,
      "outputs": []
    },
    {
      "cell_type": "markdown",
      "metadata": {
        "id": "wYKovScDFPLB"
      },
      "source": [
        "## Calculating $C_{nm}$\n",
        "Given the potential:\n",
        "\n",
        "\\begin{equation}\n",
        "V(x,y) = \\sum_{j+j\\leq k} \\alpha_{ij} x^i y^j\n",
        "\\end{equation}\n",
        "\n",
        "\n",
        "Recall that:\n",
        "\n",
        "\\begin{equation}\n",
        "\\frac{\\partial^2}{\\partial x^2}(H_m(x) e^{-x^2/2} ) = e^{-x^2/2}\\Big((x^2-1) H_m(x) - 4mx H_{m-1}(x) + 4m(m-1)H_{m-2}(x)\\Big) := e^{-x^2/2} P_m(x)\n",
        "\\end{equation}\n",
        "\n",
        "We define a new variable $\\tilde{y} = \\sqrt{\\omega}y$ so that the expression of $C_{nm}$ becomes:\n",
        "\n",
        "\\begin{multline}\n",
        "C_{nm} = \\int_{-\\infty}^\\infty \\int_{-\\infty}^\\infty A_n e^{-x^2/2} H_{n_x}(x)e^{-\\tilde{y}^2/2} H_{n_y}(\\tilde{y}) \\Big(-\\frac{1}{2} \\frac{\\partial^2}{\\partial x^2} -\\frac{\\omega}{2} \\frac{\\partial^2}{\\partial \\tilde{y}^2} + V(x,\\tilde{y}/\\sqrt{\\omega}) \\Big)\\cdot \\\\ A_m e^{-x^2/2}e^{-\\tilde{y}^2/2} H_{m_x}(x) H_{m_y}(\\tilde{y}) dx d\\tilde{y}\n",
        "\\end{multline}\n",
        "\n",
        "Finally, we obtain\n",
        "\\begin{multline}\n",
        "C_{nm} = A_n A_m \\Big( - \\frac{1}{2} \\int_{-\\infty}^\\infty e^{-\\tilde{y}^2} H_{n_y}(\\tilde{y}) H_{m_y}(\\tilde{y}) d\\tilde{y}\\int_{-\\infty}^\\infty  H_{n_x}(x) P_{m_x}(x) e^{-x^2} dx - \\\\\n",
        "\\frac{\\omega}{2} \\int_{-\\infty}^\\infty e^{-x^2} H_{n_x}(x) H_{m_x}(x) dx\\int_{-\\infty}^\\infty  H_{n_y}(\\tilde{y}) P_{m_y}(\\tilde{y}) e^{-\\tilde{y}^2} d\\tilde{y} \\ + \\\\\n",
        " \\int_{-\\infty}^\\infty \\int_{-\\infty}^\\infty e^{-x^2-\\tilde{y}^2} H_{n_x}(x)H_{n_y}(\\tilde{y})H_{m_x}(x)H_{m_y}(\\tilde{y})V(x,\\tilde{y}/\\sqrt{\\omega}) dxd\\tilde{y}\\Big) = \\\\\n",
        "A_nA_m\\Big( \\sqrt{\\pi}2^{n_y}n_y! \\delta_{n_ym_y}I_P(n_x,m_x) + \\omega\\sqrt{\\pi}2^{n_x}n_x! \\delta_{n_xm_x}I_P(n_y,m_y) + \\sum_{i+j\\leq k} \\alpha_{ij} \\omega^{-j/2} I(n_x, m_x, i)I(n_y,m_y,j) \\Big)\n",
        "\\end{multline}\n",
        "\n",
        "Where $I_P(n,m)$ is:\n",
        "\n",
        "$$\n",
        "I_P(n,m) = - \\frac{1}{2} I(n,m,2) + 1/2 I(n,m,0) + 2mI(n,m-1,1) - 2m(m-1)I(n, m-2, 0)\n",
        "$$\n",
        "\n",
        "And recall that\n",
        "\n",
        "$$\n",
        "I(n,m,r) = \\int_{-\\infty}^\\infty x^r e^{-x^2} H_n(x) H_m(x) dx\n",
        "$$\n",
        "\n",
        "\n",
        "\n",
        "\n",
        "\n"
      ]
    },
    {
      "cell_type": "markdown",
      "metadata": {
        "id": "ILxcdY7ZTJVB"
      },
      "source": [
        "## Code\n",
        "\n",
        "In the following cell we define a class which calculates the ground state energy and wavefunction of a potential of the form:\n",
        "\n",
        "$$\n",
        "V(x,y) = \\sum_{i=1}^k \\sum_{j=1}^k \\alpha_{ij} x^i y^j\n",
        "$$\n",
        "\n",
        "The calculation is analytical (by using the Hermite integrals). This class generates random values of $\\vec{\\alpha}$ following a uniform distribution between $\\vec{\\alpha}_{min}$ and $\\vec{\\alpha}_{max}$. Then it calculates the $n_{state}$-th excited state for these potentials. It returns the energy of such states, the coefficients $\\{a_n\\}$, the potentials $V(x,y)$ and the wavefunctions $\\psi(x,y) = \\sum_{n=0}^N a_n \\phi_n(x,y)$. "
      ]
    },
    {
      "cell_type": "code",
      "metadata": {
        "id": "u_y3ZHoDVOyx",
        "cellView": "form"
      },
      "source": [
        "#@title Class to find eigenstates using the H.O basis\n",
        "#@markdown Double click to see the code\n",
        "import numpy as np\n",
        "from scipy.special import factorial\n",
        "from scipy import linalg as LA\n",
        "import scipy.sparse as sps\n",
        "from scipy.linalg import eigh\n",
        "from scipy.special import eval_hermite\n",
        "from scipy.signal import argrelextrema\n",
        "\n",
        "class eigen_state_potential2D:\n",
        "\n",
        "  def __init__(self, alpha_min=None, alpha_max=None, N=10):\n",
        "    '''\n",
        "    Class to generate data (V(x) and phi(x) ground state) for potentials of the form\n",
        "    V(x) = sum_i alpha_i x^i, using the H.O basis\n",
        "    Args:\n",
        "      alpha_min: vector of length N, with the minimum value of the coefficients alpha\n",
        "      alpha_max: vector of length N, with the maximum value of the coefficients alpha\n",
        "      the values of alpha will be randomly distributed in [alpha_min, alpha_max]\n",
        "    '''\n",
        "    if len(alpha_min)!=len(alpha_max):\n",
        "      print(\"Error. Inconsisten shapes\")\n",
        "    self.alpha_min = np.array(alpha_min)\n",
        "    self.alpha_max = np.array(alpha_max)\n",
        "    self.N = N # Length of H.O basis\n",
        "    self.k = len(alpha_min) #Number of alphas for V(x)\n",
        "\n",
        "  def I_nmr(self,n,m,r):\n",
        "    '''\n",
        "    Calculates the value of the integral of the Hermitte polynomials\n",
        "    Args:\n",
        "      n (int): n of I(n,m,r)\n",
        "      m (int): m of I(n,m,r)\n",
        "      r (int): r of I(n,m,r)\n",
        "    Returns:\n",
        "      I(n,m,r)\n",
        "    '''\n",
        "    if r<0 or n<0 or m<0:\n",
        "      return 0\n",
        "    if r==0:\n",
        "      if n==m:\n",
        "        return np.sqrt(np.pi)*2**n*factorial(n)\n",
        "      else:\n",
        "        return 0\n",
        "    return 1./2*self.I_nmr(n+1,m,r-1) + n*self.I_nmr(n-1,m,r-1)\n",
        "\n",
        "\n",
        "  def int_P(self,n,m):\n",
        "    I1 = -1/2*self.I_nmr(n,m,2)\n",
        "    I2 = 1/2*self.I_nmr(n,m,0)\n",
        "    I3 = 2*m*self.I_nmr(n,m-1,1)\n",
        "    I4 = -2*m*(m-1)*self.I_nmr(n, m-2,0)\n",
        "    return I1 + I2 + I3 + I4\n",
        "\n",
        "\n",
        "  def C_nm(self,n,m, alphas):\n",
        "    '''\n",
        "    Calculates the coefficient C_{nm} for the potential V(x,y) = \\sum_i \\sum_j alpha[i,j]x^iy^j\n",
        "    Args:\n",
        "      n (int): n of C_nm\n",
        "      m (int): m of C_nm\n",
        "      alphas (np.array): size kxk. Coefficients of the potential V(x,y)\n",
        "    Returns:\n",
        "      C_{nm}\n",
        "    '''\n",
        "    # Given n and m find nx, ny, mx, my\n",
        "    nx, ny = get_nx_ny(n)\n",
        "    mx, my = get_nx_ny(m)\n",
        "\n",
        "    # Find the normalization constants\n",
        "    anx = np.sqrt(np.pi)*factorial(nx)*2**nx\n",
        "    any = np.sqrt(np.pi)*factorial(ny)*2**ny\n",
        "    amx = np.sqrt(np.pi)*factorial(mx)*2**mx\n",
        "    amy = np.sqrt(np.pi)*factorial(my)*2**my\n",
        "    A = 1./np.sqrt(anx*any*amx*amy)\n",
        "\n",
        "    # Calculate integrals\n",
        "    #Ix\n",
        "    if ny==my:\n",
        "      Ix = any*self.int_P(nx,mx)\n",
        "    else:\n",
        "      Ix = 0\n",
        "    #Iy\n",
        "    if nx==mx:\n",
        "      Iy = anx*self.int_P(ny,my)\n",
        "    else:\n",
        "      Iy = 0\n",
        "    #Iv\n",
        "    Iv = 0\n",
        "    for i in range(alphas.shape[0]):\n",
        "      for j in range(alphas.shape[1]):\n",
        "        Iv+=alphas[i,j]*self.I_nmr(nx,mx,i)*self.I_nmr(ny,my,j)\n",
        "    return A*(Ix+Iy+Iv)\n",
        "\n",
        "  def find_eigen_state(self,alphas, n_state=0):\n",
        "    '''\n",
        "    Finds the eigen state of a potential V(x) = sum_i alpha_i x^i\n",
        "    Args:\n",
        "      alphas(np array): size kxk. Coefficients of the potential V(x)\n",
        "      n_state (int): Number of excited state (default n_state=0, ground state)\n",
        "    Returns:\n",
        "      E_a (float): Energy of the ground state for potential V\n",
        "      a (np.array): size N. Coefficients in the basis of the H.O potential\n",
        "    '''\n",
        "    N = self.N\n",
        "    # 0. Generate matrix of C_nm\n",
        "    C = np.zeros((N,N))\n",
        "    for n in range(N):\n",
        "      for m in range(N):\n",
        "        C[n,m] = self.C_nm(n,m,alphas)\n",
        "\n",
        "    # 1. Generate matrix D\n",
        "    D = np.zeros((N,N))\n",
        "    for n in range(N):\n",
        "      for m in range(n+1):\n",
        "        D[n,m] = C[n,m] + C[m,n]\n",
        "        D[m,n] = D[n,m]\n",
        "\n",
        "    # 2. Diagonalize matrix D\n",
        "    vaps, veps = eigh(D)\n",
        "\n",
        "    # 3. Calculate <H> for all a\n",
        "    Hs = np.zeros(N)\n",
        "    for i in range(N):\n",
        "      a = veps[:, i]\n",
        "      for n in range(N):\n",
        "        for m in range(N):\n",
        "          Hs[i]+=a[n]*a[m]*C[n,m]\n",
        "\n",
        "    # 4. We choose the vector which minimizes <H>\n",
        "    # If n_state!=0, we choose the vector with n_state-th lowest energy\n",
        "    # as an approximation of the n_state excited state \n",
        "    sel = np.argsort(Hs)[n_state]#np.argmin(Hs)\n",
        "    a = veps[:, sel] # Final value of eigenvalues for state n_state\n",
        "    E_a = Hs[sel] # Value of the energy\n",
        "    return E_a, a\n",
        "\n",
        "  def generate_data(self,n_samples, alpha=np.array([None]), n_state=0, display=50):\n",
        "    '''\n",
        "    Generates samples of potentials  with random coefficients and finds the n_state excited state for them\n",
        "    Args:\n",
        "      n_samples (int): Number of samples of potentials (alphas)\n",
        "      alpha (np.array): Values of alpha. If you want to generate them randomly, don't provide anything\n",
        "      n_state (int): Number of excited state (default n_state=0, ground state)\n",
        "      display (int): Display step\n",
        "    Returns:\n",
        "      E (np.array): size n_samples. Ground energy for each V\n",
        "      a (np.array): size n_samples x N. Coefficients in the H.O basis for each V\n",
        "      alpha (np.array): size n_samples x k x k. Coefficients of the potentials V(x,y)\n",
        "    '''\n",
        "    data = np.zeros((n_samples, self.N))\n",
        "\n",
        "    # Generate random value of alphas\n",
        "    if (alpha==None).any():\n",
        "      print(\"Random alphas\")\n",
        "      r_alpha = np.random.random((n_samples, self.k,self.k)) # Values between 0 and 1\n",
        "      alpha = r_alpha*(self.alpha_max - self.alpha_min)+ self.alpha_min # random alpha\n",
        "    \n",
        "    # Prepare vectors of energies and coefficients\n",
        "    E = np.zeros(n_samples)\n",
        "    a = np.zeros((n_samples, self.N))\n",
        "    # Find ground state for each sample\n",
        "    for i in range(n_samples):\n",
        "      if i%display==0:\n",
        "        print(\"\\rGenerating data: {}/{}\".format(i,n_samples), end='')\n",
        "      E_new, a_new = self.find_eigen_state(alpha[i,:,:], n_state)\n",
        "      E[i] = E_new\n",
        "      if a_new[0]<0:\n",
        "        a[i,:] = -a_new\n",
        "      else:\n",
        "        a[i,:] = a_new\n",
        "    return E, a, alpha   \n",
        "\n",
        "  def evaluate_potential(self,xmin, xmax, n_points, alpha):\n",
        "    '''\n",
        "    Given the coeefficients alphas, it evaluates the potential in V(x)\n",
        "    Args:\n",
        "      xmin(float): minimum value of x\n",
        "      xmax (float): maximum value of x\n",
        "      n_points (int): Number of points between xmin and xmax\n",
        "      alpha (np.array): size n_samples x k x k. Matrix of coefficients of V(x) (each row a different potential)\n",
        "    Returns:\n",
        "      V(np.array): size n_samples x n_points x n_points. V(x) for every sample\n",
        "      x(np.array): size n_points. Values of x and y\n",
        "    '''\n",
        "    x = np.arange(xmin, xmax, (xmax - xmin)/n_points)\n",
        "    y = np.arange(xmin, xmax, (xmax - xmin)/n_points)\n",
        "    n_samples, k,_ = alpha.shape\n",
        "    V = np.zeros((n_samples, n_points, n_points))# V(x,y) in each row different alpha\n",
        "    x_mat = (x**np.arange(k)[:,None])# Matrix of powers of x: x^0, x^1, x^2, ..., x^N (in every row)\n",
        "    y_mat = (y**np.arange(k)[:,None])# Matrix of powers of y: y^0, y^1, y^2, ..., y^N (in every row)\n",
        "\n",
        "    for n in range(n_samples):\n",
        "      for i in range(n_points):\n",
        "        for j in range(n_points):\n",
        "          V[n,i,j] = np.sum(alpha[n,:,:]*np.outer(x_mat[:,i], y_mat[:,j]).T)\n",
        "    \n",
        "    return V, x\n",
        "\n",
        "  def HO_wavefunction(self,n, xmin, xmax, n_points):\n",
        "      '''\n",
        "      Returns the nth eigenfunction of the harmonic oscillator in the points x\n",
        "      Args:\n",
        "        n (int): Energy level\n",
        "        xmin(float): minimum value of x\n",
        "        xmax (float): maximum value of x\n",
        "        n_points (int): Number of points between xmin and xmax\n",
        "      Returns:\n",
        "        phi_n (np.array): size n_points. Phi_n(x)\n",
        "      '''\n",
        "      x = np.arange(xmin, xmax, (xmax - xmin)/n_points)\n",
        "      herm = eval_hermite(n, x) # H_n(x)\n",
        "      exp = np.exp(- x**2/2) # Exponential term\n",
        "      phi_n = exp*herm\n",
        "      \n",
        "      # Normalization\n",
        "      h = (xmax - xmin)/n_points\n",
        "      C = 1./np.sqrt(np.sum(phi_n*phi_n*h))\n",
        "      phi_n = C*phi_n\n",
        "\n",
        "      return phi_n\n",
        "\n",
        "  def final_wavefunction(self, xmin, xmax, n_points, a):\n",
        "      '''\n",
        "      Returns the final wavefunctions psi(x) = sum_i alpha_i phi_i(x) for each alpha.\n",
        "      Args:\n",
        "        xmin(float): minimum value of x\n",
        "        xmax (float): maximum value of x\n",
        "        n_points (int): Number of points between xmin and xmax\n",
        "        a (np.array): size n_samples x N. Coefficients in the H.O basis for each V\n",
        "      Returns:\n",
        "        waves(np.array): size n_samples x n_points x n_points. psi(x,y) for each value of V (given by alpha)\n",
        "      '''\n",
        "      x = np.arange(xmin, xmax, (xmax - xmin)/n_points)\n",
        "      y = np.arange(xmin, xmax, (xmax - xmin)/n_points)\n",
        "      n_samples, _ = a.shape\n",
        "      # Construct matrix of phi_n\n",
        "      phis = np.zeros((self.N, n_points, n_points))\n",
        "      for i in range(self.N):\n",
        "        nx,ny = get_nx_ny(i)\n",
        "        phis[i,:,:] = np.outer(self.HO_wavefunction(nx, xmin, xmax, n_points), self.HO_wavefunction(ny, xmin, xmax, n_points))\n",
        "      \n",
        "      waves = np.zeros((n_samples, n_points, n_points))\n",
        "      for n in range(n_samples):\n",
        "        waves[n,:,:] = np.average(phis, axis=0, weights=a[n,:])*np.sum(a[n,:])\n",
        "\n",
        "      return waves, x, phis\n"
      ],
      "execution_count": 5,
      "outputs": []
    },
    {
      "cell_type": "markdown",
      "metadata": {
        "id": "_RWQB9OPHdTX"
      },
      "source": [
        "## Example of 2D potential"
      ]
    },
    {
      "cell_type": "code",
      "metadata": {
        "id": "vD0a0rMn2zMo",
        "cellView": "form",
        "colab": {
          "base_uri": "https://localhost:8080/"
        },
        "outputId": "e0184c43-be7e-4be1-92b3-888155f7dbda"
      },
      "source": [
        "#@title Generate data\n",
        "\n",
        "#@markdown Double click to see the code\n",
        "\n",
        "\n",
        "#@markdown ---\n",
        "#@markdown ### Enter parameters:\n",
        "xmin = -5#@param {type:\"number\"}\n",
        "xmax = 5#@param {type:\"number\"}\n",
        "N=10#@param {type:\"slider\", min:5, max:30, step:1}\n",
        "n_state=0#@param {type:\"slider\", min:0, max:10, step:1}\n",
        "n_points = 100#@param {type:\"integer\"}\n",
        "n_samples=2#@param {type:\"integer\"}\n",
        "#@markdown ---\n",
        "alpha_min = np.array([[0,0,0.2],\n",
        "                      [0,0,0],\n",
        "                      [0.2,0,0]])\n",
        "\n",
        "alpha_max = np.array([[0,0,1.0],\n",
        "                      [0,0,0],\n",
        "                      [1.0,0,0]])\n",
        "k = alpha_min.shape[0]\n",
        "\n",
        "data_gen = eigen_state_potential2D(alpha_min, alpha_max, N)\n",
        "E, a, alpha = data_gen.generate_data(n_samples, n_state=n_state)\n",
        "waves, x, phis = data_gen.final_wavefunction( xmin, xmax, n_points, a)\n",
        "V, _ = data_gen.evaluate_potential( xmin, xmax, n_points, alpha)"
      ],
      "execution_count": 6,
      "outputs": [
        {
          "output_type": "stream",
          "text": [
            "Random alphas\n",
            "\rGenerating data: 0/2"
          ],
          "name": "stdout"
        }
      ]
    },
    {
      "cell_type": "code",
      "metadata": {
        "id": "_HPSmKKn2zDg",
        "cellView": "form",
        "colab": {
          "base_uri": "https://localhost:8080/",
          "height": 350
        },
        "outputId": "d82ae23c-c222-496d-f5ff-e19ca4d8683f"
      },
      "source": [
        "#@title Example potential and wavefunction\n",
        "import matplotlib.pyplot as plt\n",
        "from matplotlib import ticker, cm\n",
        "\n",
        "idx = 1\n",
        "fig, (ax1, ax2) = plt.subplots(1, 2,figsize=(15,5))\n",
        "\n",
        "cs1 = ax1.contourf(waves[idx,:,:])\n",
        "ax1.set_title(\"Wavefunction\")\n",
        "ax1.set_xlabel(\"x\")\n",
        "ax1.set_ylabel(\"y\")\n",
        "cs2 = ax2.contourf(V[idx,:,:])\n",
        "ax2.set_title(\"Potential\")\n",
        "ax2.set_xlabel(\"x\")\n",
        "ax2.set_ylabel(\"y\")\n",
        "cbar1 = fig.colorbar(cs1, ax=ax1)\n",
        "cbar2 = fig.colorbar(cs2, ax=ax2)\n",
        "plt.show()"
      ],
      "execution_count": 7,
      "outputs": [
        {
          "output_type": "display_data",
          "data": {
            "image/png": "[encoded data removed]",
            "text/plain": [
              "<Figure size 1080x360 with 4 Axes>"
            ]
          },
          "metadata": {
            "tags": [],
            "needs_background": "light"
          }
        }
      ]
    },
    {
      "cell_type": "markdown",
      "metadata": {
        "id": "EvjEN5SWKpHW"
      },
      "source": [
        "# Ground state potentials\n",
        "\n",
        "Now that we have generated the code to approximate the eigenstates of a random potential, we are going to generate random potentials of the form:\n",
        "\n",
        "$$\n",
        "V(x,y) = \\alpha_{00} + \\alpha_{10} x + \\alpha_{01}y + \\alpha_{11}xy + \\alpha_{20} x^2 + \\alpha_{02}y^2 + \\alpha_{21}x^2y + \\alpha_{12}xy^2 + \\alpha_{03}y^3 + \\alpha_{30}x^3 + \\alpha_{04}y^4 + \\alpha_{13}xy^3 + \\alpha_{22}x^2y^2 + \\alpha_{31}x^3y + \\alpha_{40}x^4\n",
        "$$\n",
        "\n",
        "To ensure that the eigenstates have discrete energies (and thus are physical states), we will impose some properties on the coefficients, so that the even terms ($x^2$ and $x^4$) dominate over the odd term ($x^3$). Also, we allow the potential to be negative and non-centered by including negative values of $\\alpha_0$ and $\\alpha_1$. Finally, we will use small values of the coefficients so that the potential does not achieve very high values, which can lead to numerical unstability.\n"
      ]
    },
    {
      "cell_type": "code",
      "metadata": {
        "id": "_JazG2wDy8al",
        "cellView": "form"
      },
      "source": [
        "#@title Code to generate data\n",
        "\n",
        "#@markdown Double click to see the code\n",
        "\n",
        "\n",
        "#@markdown ---\n",
        "#@markdown ### Enter parameters:\n",
        "xmin = -8#@param {type:\"number\"}\n",
        "xmax = 8#@param {type:\"number\"}\n",
        "n_state=0#@param {type:\"slider\", min:0, max:10, step:1}\n",
        "n_points = 200#@param {type:\"integer\"}\n",
        "n_samples = 100#@param {type:\"integer\"}\n",
        "#@markdown ---\n",
        "\n",
        "alpha_min = np.array([[-150,-10,0.2, -0.05, 0],\n",
        "                      [-10,-0.1,-0.1, -0.05, 0],\n",
        "                      [0.2,-0.1,0, 0, 0],\n",
        "                      [-0.05, -0.05,0,0,0],\n",
        "                      [0,0,0,0,0]])/50\n",
        "\n",
        "alpha_max = np.array([[50,5,1.0, 0.05, 0.2],\n",
        "                      [5,0.1,0.1, 0.05, 0],\n",
        "                      [1.0,0.1,0.2,0,0],\n",
        "                      [0.05, 0.05, 0,0,0],\n",
        "                      [0.2,0,0,0,0]])/50\n",
        "\n",
        "k = alpha_min.shape[0]\n",
        "\n",
        "r_alpha = np.random.random((int(n_samples*0.8), k,k)) # Values between 0 and 1\n",
        "alpha1 = r_alpha*(alpha_max - alpha_min)+ alpha_min # random alpha\n",
        "\n",
        "alpha_min2 = np.array([[-150,-10,0.2,0,0],\n",
        "                      [-10,-0.1,0,0,0],\n",
        "                      [0.2,0,0,0,0],\n",
        "                      [0,0,0,0,0],\n",
        "                      [0,0,0,0,0]])\n",
        "\n",
        "alpha_max2 = np.array([[50,5,1.0,0,0],\n",
        "                      [5,0.1,0,0,0],\n",
        "                      [1.0,0,0,0,0],\n",
        "                      [0,0,0,0,0],\n",
        "                      [0,0,0,0,0]])\n",
        "\n",
        "r_alpha = np.random.random((int(n_samples*0.2), k,k)) # Values between 0 and 1\n",
        "alpha2 = r_alpha*(alpha_max2 - alpha_min2)+ alpha_min2 # random alpha\n",
        "alpha = np.concatenate((alpha1, alpha2))\n"
      ],
      "execution_count": null,
      "outputs": []
    },
    {
      "cell_type": "markdown",
      "metadata": {
        "id": "mSdxb2QVdeU1"
      },
      "source": [
        "## Convergence of the method\n",
        "\n",
        "In order to choose the value of $N$, we will generate the ground-state energies for different vales of $N$ and compute the difference. When the value of the energy stabilizes up to certain precision $\\gamma$, we will fix the value of $N$. We will evaluate the performance for $n\\_samples$ different samples."
      ]
    },
    {
      "cell_type": "code",
      "metadata": {
        "id": "5JvZC9exehDD"
      },
      "source": [
        "gamma = 0.001\n",
        "Ns = np.arange(3,51)\n",
        "Es = np.zeros(( Ns.shape[0], n_samples))\n",
        "\n",
        "for i in range(Ns.shape[0]):\n",
        "  print(\"\\nSample {}\\{}\".format(i, Ns.shape[0]))\n",
        "  data_gen = eigen_state_potential2D(alpha_min, alpha_max, Ns[i])\n",
        "  E, a, _ = data_gen.generate_data(n_samples, alpha)\n",
        "  Es[i,:] = E"
      ],
      "execution_count": null,
      "outputs": []
    },
    {
      "cell_type": "code",
      "metadata": {
        "id": "e1MokNAojZYj",
        "cellView": "form",
        "colab": {
          "base_uri": "https://localhost:8080/",
          "height": 542
        },
        "outputId": "701a27d6-b965-4f61-e240-c4e69c04ebdb"
      },
      "source": [
        "#@title Example energy as a function of N\n",
        "import plotly\n",
        "from plotly.graph_objs import graph_objs as go\n",
        "from plotly.subplots import make_subplots\n",
        "from plotly.offline import iplot\n",
        "\n",
        "\n",
        "fig = go.Figure()\n",
        "fig.add_trace(go.Scatter(\n",
        "    x=Ns,\n",
        "    y=Es[:,0],\n",
        "    mode=\"lines\",\n",
        "    name = \"sample1\")\n",
        "    )\n",
        "\n",
        "fig.add_trace(go.Scatter(\n",
        "    x=Ns,\n",
        "    y=np.repeat(Es[-1,0], Ns.shape[0]),\n",
        "    mode=\"lines\",\n",
        "    name = \"sample2\")\n",
        "    )\n",
        "\n",
        "\n",
        "fig.update_layout(\n",
        "    title=\"Energies as a function of N\",\n",
        "    xaxis_title=\"N\")\n",
        "\n",
        "fig.show()"
      ],
      "execution_count": null,
      "outputs": [
        {
          "output_type": "display_data",
          "data": {
            "text/html": [
              "<html>\n",
              "<head><meta charset=\"utf-8\" /></head>\n",
              "<body>\n",
              "    <div>\n",
              "            <script src=\"https://cdnjs.cloudflare.com/ajax/libs/mathjax/2.7.5/MathJax.js?config=TeX-AMS-MML_SVG\"></script><script type=\"text/javascript\">if (window.MathJax) {MathJax.Hub.Config({SVG: {font: \"STIX-Web\"}});}</script>\n",
              "                <script type=\"text/javascript\">window.PlotlyConfig = {MathJaxConfig: 'local'};</script>\n",
              "        <script src=\"https://cdn.plot.ly/plotly-latest.min.js\"></script>    \n",
              "            <div id=\"3e539f6e-7acb-48a5-ae8d-9a17b10a73a8\" class=\"plotly-graph-div\" style=\"height:525px; width:100%;\"></div>\n",
              "            <script type=\"text/javascript\">\n",
              "                \n",
              "                    window.PLOTLYENV=window.PLOTLYENV || {};\n",
              "                    \n",
              "                if (document.getElementById(\"3e539f6e-7acb-48a5-ae8d-9a17b10a73a8\")) {\n",
              "                    Plotly.newPlot(\n",
              "                        '3e539f6e-7acb-48a5-ae8d-9a17b10a73a8',\n",
              "                        [{\"mode\": \"lines\", \"name\": \"sample1\", \"type\": \"scatter\", \"x\": [3, 4, 5, 6, 7, 8, 9, 10, 11, 12, 13, 14, 15, 16, 17, 18, 19, 20, 21, 22, 23, 24, 25, 26, 27, 28, 29, 30, 31, 32, 33, 34, 35, 36, 37, 38, 39, 40, 41, 42, 43, 44, 45, 46, 47, 48, 49, 50], \"y\": [-1.8932120920534616, -1.9899504531440442, -1.9900470385818128, -2.0861584873474452, -2.087594508335483, -2.0928112588470915, -2.0937012180788703, -2.1173704534006146, -2.13664794145155, -2.136815069939397, -2.1548833231379048, -2.1551253875429137, -2.1902543251818942, -2.1912026545055077, -2.1933566334676278, -2.194040812968203, -2.1996658925723285, -2.2002235634867615, -2.2183088493231558, -2.2231324918272506, -2.2232822754194945, -2.2283221382677287, -2.228584926822925, -2.2361810652711465, -2.2364843685680693, -2.254654637930488, -2.2551142237024324, -2.255922017666736, -2.256316211206341, -2.258315449980365, -2.2587359602810784, -2.262930446926012, -2.2633191625711007, -2.275281386250037, -2.2765252656582735, -2.276615579088692, -2.278087850404086, -2.2782672825229886, -2.2806020992068667, -2.280860030350389, -2.2848923859869132, -2.285166580206978, -2.295349303958082, -2.2955247851763407, -2.2957892222412686, -2.2959705899531575, -2.2966470165249713, -2.2968811539821514]}, {\"mode\": \"lines\", \"name\": \"sample2\", \"type\": \"scatter\", \"x\": [3, 4, 5, 6, 7, 8, 9, 10, 11, 12, 13, 14, 15, 16, 17, 18, 19, 20, 21, 22, 23, 24, 25, 26, 27, 28, 29, 30, 31, 32, 33, 34, 35, 36, 37, 38, 39, 40, 41, 42, 43, 44, 45, 46, 47, 48, 49, 50], \"y\": [-2.2968811539821514, -2.2968811539821514, -2.2968811539821514, -2.2968811539821514, -2.2968811539821514, -2.2968811539821514, -2.2968811539821514, -2.2968811539821514, -2.2968811539821514, -2.2968811539821514, -2.2968811539821514, -2.2968811539821514, -2.2968811539821514, -2.2968811539821514, -2.2968811539821514, -2.2968811539821514, -2.2968811539821514, -2.2968811539821514, -2.2968811539821514, -2.2968811539821514, -2.2968811539821514, -2.2968811539821514, -2.2968811539821514, -2.2968811539821514, -2.2968811539821514, -2.2968811539821514, -2.2968811539821514, -2.2968811539821514, -2.2968811539821514, -2.2968811539821514, -2.2968811539821514, -2.2968811539821514, -2.2968811539821514, -2.2968811539821514, -2.2968811539821514, -2.2968811539821514, -2.2968811539821514, -2.2968811539821514, -2.2968811539821514, -2.2968811539821514, -2.2968811539821514, -2.2968811539821514, -2.2968811539821514, -2.2968811539821514, -2.2968811539821514, -2.2968811539821514, -2.2968811539821514, -2.2968811539821514]}],\n",
              "                        {\"template\": {\"data\": {\"bar\": [{\"error_x\": {\"color\": \"#2a3f5f\"}, \"error_y\": {\"color\": \"#2a3f5f\"}, \"marker\": {\"line\": {\"color\": \"#E5ECF6\", \"width\": 0.5}}, \"type\": \"bar\"}], \"barpolar\": [{\"marker\": {\"line\": {\"color\": \"#E5ECF6\", \"width\": 0.5}}, \"type\": \"barpolar\"}], \"carpet\": [{\"aaxis\": {\"endlinecolor\": \"#2a3f5f\", \"gridcolor\": \"white\", \"linecolor\": \"white\", \"minorgridcolor\": \"white\", \"startlinecolor\": \"#2a3f5f\"}, \"baxis\": {\"endlinecolor\": \"#2a3f5f\", \"gridcolor\": \"white\", \"linecolor\": \"white\", \"minorgridcolor\": \"white\", \"startlinecolor\": \"#2a3f5f\"}, \"type\": \"carpet\"}], \"choropleth\": [{\"colorbar\": {\"outlinewidth\": 0, \"ticks\": \"\"}, \"type\": \"choropleth\"}], \"contour\": [{\"colorbar\": {\"outlinewidth\": 0, \"ticks\": \"\"}, \"colorscale\": [[0.0, \"#0d0887\"], [0.1111111111111111, \"#46039f\"], [0.2222222222222222, \"#7201a8\"], [0.3333333333333333, \"#9c179e\"], [0.4444444444444444, \"#bd3786\"], [0.5555555555555556, \"#d8576b\"], [0.6666666666666666, \"#ed7953\"], [0.7777777777777778, \"#fb9f3a\"], [0.8888888888888888, \"#fdca26\"], [1.0, \"#f0f921\"]], \"type\": \"contour\"}], \"contourcarpet\": [{\"colorbar\": {\"outlinewidth\": 0, \"ticks\": \"\"}, \"type\": \"contourcarpet\"}], \"heatmap\": [{\"colorbar\": {\"outlinewidth\": 0, \"ticks\": \"\"}, \"colorscale\": [[0.0, \"#0d0887\"], [0.1111111111111111, \"#46039f\"], [0.2222222222222222, \"#7201a8\"], [0.3333333333333333, \"#9c179e\"], [0.4444444444444444, \"#bd3786\"], [0.5555555555555556, \"#d8576b\"], [0.6666666666666666, \"#ed7953\"], [0.7777777777777778, \"#fb9f3a\"], [0.8888888888888888, \"#fdca26\"], [1.0, \"#f0f921\"]], \"type\": \"heatmap\"}], \"heatmapgl\": [{\"colorbar\": {\"outlinewidth\": 0, \"ticks\": \"\"}, \"colorscale\": [[0.0, \"#0d0887\"], [0.1111111111111111, \"#46039f\"], [0.2222222222222222, \"#7201a8\"], [0.3333333333333333, \"#9c179e\"], [0.4444444444444444, \"#bd3786\"], [0.5555555555555556, \"#d8576b\"], [0.6666666666666666, \"#ed7953\"], [0.7777777777777778, \"#fb9f3a\"], [0.8888888888888888, \"#fdca26\"], [1.0, \"#f0f921\"]], \"type\": \"heatmapgl\"}], \"histogram\": [{\"marker\": {\"colorbar\": {\"outlinewidth\": 0, \"ticks\": \"\"}}, \"type\": \"histogram\"}], \"histogram2d\": [{\"colorbar\": {\"outlinewidth\": 0, \"ticks\": \"\"}, \"colorscale\": [[0.0, \"#0d0887\"], [0.1111111111111111, \"#46039f\"], [0.2222222222222222, \"#7201a8\"], [0.3333333333333333, \"#9c179e\"], [0.4444444444444444, \"#bd3786\"], [0.5555555555555556, \"#d8576b\"], [0.6666666666666666, \"#ed7953\"], [0.7777777777777778, \"#fb9f3a\"], [0.8888888888888888, \"#fdca26\"], [1.0, \"#f0f921\"]], \"type\": \"histogram2d\"}], \"histogram2dcontour\": [{\"colorbar\": {\"outlinewidth\": 0, \"ticks\": \"\"}, \"colorscale\": [[0.0, \"#0d0887\"], [0.1111111111111111, \"#46039f\"], [0.2222222222222222, \"#7201a8\"], [0.3333333333333333, \"#9c179e\"], [0.4444444444444444, \"#bd3786\"], [0.5555555555555556, \"#d8576b\"], [0.6666666666666666, \"#ed7953\"], [0.7777777777777778, \"#fb9f3a\"], [0.8888888888888888, \"#fdca26\"], [1.0, \"#f0f921\"]], \"type\": \"histogram2dcontour\"}], \"mesh3d\": [{\"colorbar\": {\"outlinewidth\": 0, \"ticks\": \"\"}, \"type\": \"mesh3d\"}], \"parcoords\": [{\"line\": {\"colorbar\": {\"outlinewidth\": 0, \"ticks\": \"\"}}, \"type\": \"parcoords\"}], \"pie\": [{\"automargin\": true, \"type\": \"pie\"}], \"scatter\": [{\"marker\": {\"colorbar\": {\"outlinewidth\": 0, \"ticks\": \"\"}}, \"type\": \"scatter\"}], \"scatter3d\": [{\"line\": {\"colorbar\": {\"outlinewidth\": 0, \"ticks\": \"\"}}, \"marker\": {\"colorbar\": {\"outlinewidth\": 0, \"ticks\": \"\"}}, \"type\": \"scatter3d\"}], \"scattercarpet\": [{\"marker\": {\"colorbar\": {\"outlinewidth\": 0, \"ticks\": \"\"}}, \"type\": \"scattercarpet\"}], \"scattergeo\": [{\"marker\": {\"colorbar\": {\"outlinewidth\": 0, \"ticks\": \"\"}}, \"type\": \"scattergeo\"}], \"scattergl\": [{\"marker\": {\"colorbar\": {\"outlinewidth\": 0, \"ticks\": \"\"}}, \"type\": \"scattergl\"}], \"scattermapbox\": [{\"marker\": {\"colorbar\": {\"outlinewidth\": 0, \"ticks\": \"\"}}, \"type\": \"scattermapbox\"}], \"scatterpolar\": [{\"marker\": {\"colorbar\": {\"outlinewidth\": 0, \"ticks\": \"\"}}, \"type\": \"scatterpolar\"}], \"scatterpolargl\": [{\"marker\": {\"colorbar\": {\"outlinewidth\": 0, \"ticks\": \"\"}}, \"type\": \"scatterpolargl\"}], \"scatterternary\": [{\"marker\": {\"colorbar\": {\"outlinewidth\": 0, \"ticks\": \"\"}}, \"type\": \"scatterternary\"}], \"surface\": [{\"colorbar\": {\"outlinewidth\": 0, \"ticks\": \"\"}, \"colorscale\": [[0.0, \"#0d0887\"], [0.1111111111111111, \"#46039f\"], [0.2222222222222222, \"#7201a8\"], [0.3333333333333333, \"#9c179e\"], [0.4444444444444444, \"#bd3786\"], [0.5555555555555556, \"#d8576b\"], [0.6666666666666666, \"#ed7953\"], [0.7777777777777778, \"#fb9f3a\"], [0.8888888888888888, \"#fdca26\"], [1.0, \"#f0f921\"]], \"type\": \"surface\"}], \"table\": [{\"cells\": {\"fill\": {\"color\": \"#EBF0F8\"}, \"line\": {\"color\": \"white\"}}, \"header\": {\"fill\": {\"color\": \"#C8D4E3\"}, \"line\": {\"color\": \"white\"}}, \"type\": \"table\"}]}, \"layout\": {\"annotationdefaults\": {\"arrowcolor\": \"#2a3f5f\", \"arrowhead\": 0, \"arrowwidth\": 1}, \"coloraxis\": {\"colorbar\": {\"outlinewidth\": 0, \"ticks\": \"\"}}, \"colorscale\": {\"diverging\": [[0, \"#8e0152\"], [0.1, \"#c51b7d\"], [0.2, \"#de77ae\"], [0.3, \"#f1b6da\"], [0.4, \"#fde0ef\"], [0.5, \"#f7f7f7\"], [0.6, \"#e6f5d0\"], [0.7, \"#b8e186\"], [0.8, \"#7fbc41\"], [0.9, \"#4d9221\"], [1, \"#276419\"]], \"sequential\": [[0.0, \"#0d0887\"], [0.1111111111111111, \"#46039f\"], [0.2222222222222222, \"#7201a8\"], [0.3333333333333333, \"#9c179e\"], [0.4444444444444444, \"#bd3786\"], [0.5555555555555556, \"#d8576b\"], [0.6666666666666666, \"#ed7953\"], [0.7777777777777778, \"#fb9f3a\"], [0.8888888888888888, \"#fdca26\"], [1.0, \"#f0f921\"]], \"sequentialminus\": [[0.0, \"#0d0887\"], [0.1111111111111111, \"#46039f\"], [0.2222222222222222, \"#7201a8\"], [0.3333333333333333, \"#9c179e\"], [0.4444444444444444, \"#bd3786\"], [0.5555555555555556, \"#d8576b\"], [0.6666666666666666, \"#ed7953\"], [0.7777777777777778, \"#fb9f3a\"], [0.8888888888888888, \"#fdca26\"], [1.0, \"#f0f921\"]]}, \"colorway\": [\"#636efa\", \"#EF553B\", \"#00cc96\", \"#ab63fa\", \"#FFA15A\", \"#19d3f3\", \"#FF6692\", \"#B6E880\", \"#FF97FF\", \"#FECB52\"], \"font\": {\"color\": \"#2a3f5f\"}, \"geo\": {\"bgcolor\": \"white\", \"lakecolor\": \"white\", \"landcolor\": \"#E5ECF6\", \"showlakes\": true, \"showland\": true, \"subunitcolor\": \"white\"}, \"hoverlabel\": {\"align\": \"left\"}, \"hovermode\": \"closest\", \"mapbox\": {\"style\": \"light\"}, \"paper_bgcolor\": \"white\", \"plot_bgcolor\": \"#E5ECF6\", \"polar\": {\"angularaxis\": {\"gridcolor\": \"white\", \"linecolor\": \"white\", \"ticks\": \"\"}, \"bgcolor\": \"#E5ECF6\", \"radialaxis\": {\"gridcolor\": \"white\", \"linecolor\": \"white\", \"ticks\": \"\"}}, \"scene\": {\"xaxis\": {\"backgroundcolor\": \"#E5ECF6\", \"gridcolor\": \"white\", \"gridwidth\": 2, \"linecolor\": \"white\", \"showbackground\": true, \"ticks\": \"\", \"zerolinecolor\": \"white\"}, \"yaxis\": {\"backgroundcolor\": \"#E5ECF6\", \"gridcolor\": \"white\", \"gridwidth\": 2, \"linecolor\": \"white\", \"showbackground\": true, \"ticks\": \"\", \"zerolinecolor\": \"white\"}, \"zaxis\": {\"backgroundcolor\": \"#E5ECF6\", \"gridcolor\": \"white\", \"gridwidth\": 2, \"linecolor\": \"white\", \"showbackground\": true, \"ticks\": \"\", \"zerolinecolor\": \"white\"}}, \"shapedefaults\": {\"line\": {\"color\": \"#2a3f5f\"}}, \"ternary\": {\"aaxis\": {\"gridcolor\": \"white\", \"linecolor\": \"white\", \"ticks\": \"\"}, \"baxis\": {\"gridcolor\": \"white\", \"linecolor\": \"white\", \"ticks\": \"\"}, \"bgcolor\": \"#E5ECF6\", \"caxis\": {\"gridcolor\": \"white\", \"linecolor\": \"white\", \"ticks\": \"\"}}, \"title\": {\"x\": 0.05}, \"xaxis\": {\"automargin\": true, \"gridcolor\": \"white\", \"linecolor\": \"white\", \"ticks\": \"\", \"title\": {\"standoff\": 15}, \"zerolinecolor\": \"white\", \"zerolinewidth\": 2}, \"yaxis\": {\"automargin\": true, \"gridcolor\": \"white\", \"linecolor\": \"white\", \"ticks\": \"\", \"title\": {\"standoff\": 15}, \"zerolinecolor\": \"white\", \"zerolinewidth\": 2}}}, \"title\": {\"text\": \"Energies as a function of N\"}, \"xaxis\": {\"title\": {\"text\": \"N\"}}},\n",
              "                        {\"responsive\": true}\n",
              "                    ).then(function(){\n",
              "                            \n",
              "var gd = document.getElementById('3e539f6e-7acb-48a5-ae8d-9a17b10a73a8');\n",
              "var x = new MutationObserver(function (mutations, observer) {{\n",
              "        var display = window.getComputedStyle(gd).display;\n",
              "        if (!display || display === 'none') {{\n",
              "            console.log([gd, 'removed!']);\n",
              "            Plotly.purge(gd);\n",
              "            observer.disconnect();\n",
              "        }}\n",
              "}});\n",
              "\n",
              "// Listen for the removal of the full notebook cells\n",
              "var notebookContainer = gd.closest('#notebook-container');\n",
              "if (notebookContainer) {{\n",
              "    x.observe(notebookContainer, {childList: true});\n",
              "}}\n",
              "\n",
              "// Listen for the clearing of the current output cell\n",
              "var outputEl = gd.closest('.output');\n",
              "if (outputEl) {{\n",
              "    x.observe(outputEl, {childList: true});\n",
              "}}\n",
              "\n",
              "                        })\n",
              "                };\n",
              "                \n",
              "            </script>\n",
              "        </div>\n",
              "</body>\n",
              "</html>"
            ]
          },
          "metadata": {
            "tags": []
          }
        }
      ]
    },
    {
      "cell_type": "markdown",
      "metadata": {
        "id": "-Q6ytluBsH8P"
      },
      "source": [
        "We see that the energy stabilizes fast. Now, for $\\gamma =0.001$, let's see which is the $N$ needed on average to ensure convergence."
      ]
    },
    {
      "cell_type": "code",
      "metadata": {
        "id": "4kZ3dSE7lRo2",
        "cellView": "form",
        "colab": {
          "base_uri": "https://localhost:8080/",
          "height": 542
        },
        "outputId": "e47f6170-6c14-460e-dc12-91481086dd89"
      },
      "source": [
        "#@title Evolution of difference of energy\n",
        "gamma=0.02\n",
        "E_dif = np.abs(Es[:-1,:] - Es[1:,:])\n",
        "\n",
        "E_dif_mean = np.mean(E_dif, axis=1)\n",
        "\n",
        "fig = go.Figure()\n",
        "fig.add_trace(go.Scatter(\n",
        "    x=Ns[1:],\n",
        "    y=E_dif_mean,\n",
        "    mode=\"lines\",\n",
        "    name = \"Difference in energy\")\n",
        "    )\n",
        "fig.add_trace(go.Scatter(\n",
        "    x=Ns[:-1:],\n",
        "    y=np.repeat(gamma, (Ns[1:]).shape[0]),\n",
        "    mode=\"lines\",\n",
        "    name = \"Gamma\")\n",
        "    )"
      ],
      "execution_count": null,
      "outputs": [
        {
          "output_type": "display_data",
          "data": {
            "text/html": [
              "<html>\n",
              "<head><meta charset=\"utf-8\" /></head>\n",
              "<body>\n",
              "    <div>\n",
              "            <script src=\"https://cdnjs.cloudflare.com/ajax/libs/mathjax/2.7.5/MathJax.js?config=TeX-AMS-MML_SVG\"></script><script type=\"text/javascript\">if (window.MathJax) {MathJax.Hub.Config({SVG: {font: \"STIX-Web\"}});}</script>\n",
              "                <script type=\"text/javascript\">window.PlotlyConfig = {MathJaxConfig: 'local'};</script>\n",
              "        <script src=\"https://cdn.plot.ly/plotly-latest.min.js\"></script>    \n",
              "            <div id=\"bf54a47b-c4ac-4458-834b-5708f7e8b83a\" class=\"plotly-graph-div\" style=\"height:525px; width:100%;\"></div>\n",
              "            <script type=\"text/javascript\">\n",
              "                \n",
              "                    window.PLOTLYENV=window.PLOTLYENV || {};\n",
              "                    \n",
              "                if (document.getElementById(\"bf54a47b-c4ac-4458-834b-5708f7e8b83a\")) {\n",
              "                    Plotly.newPlot(\n",
              "                        'bf54a47b-c4ac-4458-834b-5708f7e8b83a',\n",
              "                        [{\"mode\": \"lines\", \"name\": \"Difference in energy\", \"type\": \"scatter\", \"x\": [4, 5, 6, 7, 8, 9, 10, 11, 12, 13, 14, 15, 16, 17, 18, 19, 20, 21, 22, 23, 24, 25, 26, 27, 28, 29, 30, 31, 32, 33, 34, 35, 36, 37, 38, 39, 40, 41, 42, 43, 44, 45, 46, 47, 48, 49, 50], \"y\": [0.3838399875113472, 0.1575775561620929, 0.2098689275462987, 0.18888890021126037, 0.10087239948704088, 0.08678182434451542, 0.09511781185564029, 0.14719472152370996, 0.06303252481993947, 0.07838053632815471, 0.05155853296571844, 0.0832726466350071, 0.09815280835369117, 0.043741519956083545, 0.04779159004355554, 0.04541622714081505, 0.03465922709817993, 0.05310581090367487, 0.08066936317516267, 0.03137295708884839, 0.03739228641868082, 0.03548907154448831, 0.034803016973654816, 0.023401979766482887, 0.0469474561463586, 0.06158530014734744, 0.023668388525770974, 0.02604955252230685, 0.027165100499592247, 0.027665790950077807, 0.02231180557223972, 0.017141414484118867, 0.035661409018917234, 0.05195904311753855, 0.017786405482209142, 0.021469904344971133, 0.020664247251858347, 0.023290986463586058, 0.020512920227891893, 0.01688675768107499, 0.012582145922854004, 0.03166350338666802, 0.04265799049076785, 0.013783880732283814, 0.016239122976851678, 0.017184611555330704, 0.01746728608528914]}, {\"mode\": \"lines\", \"name\": \"Gamma\", \"type\": \"scatter\", \"x\": [3, 4, 5, 6, 7, 8, 9, 10, 11, 12, 13, 14, 15, 16, 17, 18, 19, 20, 21, 22, 23, 24, 25, 26, 27, 28, 29, 30, 31, 32, 33, 34, 35, 36, 37, 38, 39, 40, 41, 42, 43, 44, 45, 46, 47, 48, 49], \"y\": [0.02, 0.02, 0.02, 0.02, 0.02, 0.02, 0.02, 0.02, 0.02, 0.02, 0.02, 0.02, 0.02, 0.02, 0.02, 0.02, 0.02, 0.02, 0.02, 0.02, 0.02, 0.02, 0.02, 0.02, 0.02, 0.02, 0.02, 0.02, 0.02, 0.02, 0.02, 0.02, 0.02, 0.02, 0.02, 0.02, 0.02, 0.02, 0.02, 0.02, 0.02, 0.02, 0.02, 0.02, 0.02, 0.02, 0.02]}],\n",
              "                        {\"template\": {\"data\": {\"bar\": [{\"error_x\": {\"color\": \"#2a3f5f\"}, \"error_y\": {\"color\": \"#2a3f5f\"}, \"marker\": {\"line\": {\"color\": \"#E5ECF6\", \"width\": 0.5}}, \"type\": \"bar\"}], \"barpolar\": [{\"marker\": {\"line\": {\"color\": \"#E5ECF6\", \"width\": 0.5}}, \"type\": \"barpolar\"}], \"carpet\": [{\"aaxis\": {\"endlinecolor\": \"#2a3f5f\", \"gridcolor\": \"white\", \"linecolor\": \"white\", \"minorgridcolor\": \"white\", \"startlinecolor\": \"#2a3f5f\"}, \"baxis\": {\"endlinecolor\": \"#2a3f5f\", \"gridcolor\": \"white\", \"linecolor\": \"white\", \"minorgridcolor\": \"white\", \"startlinecolor\": \"#2a3f5f\"}, \"type\": \"carpet\"}], \"choropleth\": [{\"colorbar\": {\"outlinewidth\": 0, \"ticks\": \"\"}, \"type\": \"choropleth\"}], \"contour\": [{\"colorbar\": {\"outlinewidth\": 0, \"ticks\": \"\"}, \"colorscale\": [[0.0, \"#0d0887\"], [0.1111111111111111, \"#46039f\"], [0.2222222222222222, \"#7201a8\"], [0.3333333333333333, \"#9c179e\"], [0.4444444444444444, \"#bd3786\"], [0.5555555555555556, \"#d8576b\"], [0.6666666666666666, \"#ed7953\"], [0.7777777777777778, \"#fb9f3a\"], [0.8888888888888888, \"#fdca26\"], [1.0, \"#f0f921\"]], \"type\": \"contour\"}], \"contourcarpet\": [{\"colorbar\": {\"outlinewidth\": 0, \"ticks\": \"\"}, \"type\": \"contourcarpet\"}], \"heatmap\": [{\"colorbar\": {\"outlinewidth\": 0, \"ticks\": \"\"}, \"colorscale\": [[0.0, \"#0d0887\"], [0.1111111111111111, \"#46039f\"], [0.2222222222222222, \"#7201a8\"], [0.3333333333333333, \"#9c179e\"], [0.4444444444444444, \"#bd3786\"], [0.5555555555555556, \"#d8576b\"], [0.6666666666666666, \"#ed7953\"], [0.7777777777777778, \"#fb9f3a\"], [0.8888888888888888, \"#fdca26\"], [1.0, \"#f0f921\"]], \"type\": \"heatmap\"}], \"heatmapgl\": [{\"colorbar\": {\"outlinewidth\": 0, \"ticks\": \"\"}, \"colorscale\": [[0.0, \"#0d0887\"], [0.1111111111111111, \"#46039f\"], [0.2222222222222222, \"#7201a8\"], [0.3333333333333333, \"#9c179e\"], [0.4444444444444444, \"#bd3786\"], [0.5555555555555556, \"#d8576b\"], [0.6666666666666666, \"#ed7953\"], [0.7777777777777778, \"#fb9f3a\"], [0.8888888888888888, \"#fdca26\"], [1.0, \"#f0f921\"]], \"type\": \"heatmapgl\"}], \"histogram\": [{\"marker\": {\"colorbar\": {\"outlinewidth\": 0, \"ticks\": \"\"}}, \"type\": \"histogram\"}], \"histogram2d\": [{\"colorbar\": {\"outlinewidth\": 0, \"ticks\": \"\"}, \"colorscale\": [[0.0, \"#0d0887\"], [0.1111111111111111, \"#46039f\"], [0.2222222222222222, \"#7201a8\"], [0.3333333333333333, \"#9c179e\"], [0.4444444444444444, \"#bd3786\"], [0.5555555555555556, \"#d8576b\"], [0.6666666666666666, \"#ed7953\"], [0.7777777777777778, \"#fb9f3a\"], [0.8888888888888888, \"#fdca26\"], [1.0, \"#f0f921\"]], \"type\": \"histogram2d\"}], \"histogram2dcontour\": [{\"colorbar\": {\"outlinewidth\": 0, \"ticks\": \"\"}, \"colorscale\": [[0.0, \"#0d0887\"], [0.1111111111111111, \"#46039f\"], [0.2222222222222222, \"#7201a8\"], [0.3333333333333333, \"#9c179e\"], [0.4444444444444444, \"#bd3786\"], [0.5555555555555556, \"#d8576b\"], [0.6666666666666666, \"#ed7953\"], [0.7777777777777778, \"#fb9f3a\"], [0.8888888888888888, \"#fdca26\"], [1.0, \"#f0f921\"]], \"type\": \"histogram2dcontour\"}], \"mesh3d\": [{\"colorbar\": {\"outlinewidth\": 0, \"ticks\": \"\"}, \"type\": \"mesh3d\"}], \"parcoords\": [{\"line\": {\"colorbar\": {\"outlinewidth\": 0, \"ticks\": \"\"}}, \"type\": \"parcoords\"}], \"pie\": [{\"automargin\": true, \"type\": \"pie\"}], \"scatter\": [{\"marker\": {\"colorbar\": {\"outlinewidth\": 0, \"ticks\": \"\"}}, \"type\": \"scatter\"}], \"scatter3d\": [{\"line\": {\"colorbar\": {\"outlinewidth\": 0, \"ticks\": \"\"}}, \"marker\": {\"colorbar\": {\"outlinewidth\": 0, \"ticks\": \"\"}}, \"type\": \"scatter3d\"}], \"scattercarpet\": [{\"marker\": {\"colorbar\": {\"outlinewidth\": 0, \"ticks\": \"\"}}, \"type\": \"scattercarpet\"}], \"scattergeo\": [{\"marker\": {\"colorbar\": {\"outlinewidth\": 0, \"ticks\": \"\"}}, \"type\": \"scattergeo\"}], \"scattergl\": [{\"marker\": {\"colorbar\": {\"outlinewidth\": 0, \"ticks\": \"\"}}, \"type\": \"scattergl\"}], \"scattermapbox\": [{\"marker\": {\"colorbar\": {\"outlinewidth\": 0, \"ticks\": \"\"}}, \"type\": \"scattermapbox\"}], \"scatterpolar\": [{\"marker\": {\"colorbar\": {\"outlinewidth\": 0, \"ticks\": \"\"}}, \"type\": \"scatterpolar\"}], \"scatterpolargl\": [{\"marker\": {\"colorbar\": {\"outlinewidth\": 0, \"ticks\": \"\"}}, \"type\": \"scatterpolargl\"}], \"scatterternary\": [{\"marker\": {\"colorbar\": {\"outlinewidth\": 0, \"ticks\": \"\"}}, \"type\": \"scatterternary\"}], \"surface\": [{\"colorbar\": {\"outlinewidth\": 0, \"ticks\": \"\"}, \"colorscale\": [[0.0, \"#0d0887\"], [0.1111111111111111, \"#46039f\"], [0.2222222222222222, \"#7201a8\"], [0.3333333333333333, \"#9c179e\"], [0.4444444444444444, \"#bd3786\"], [0.5555555555555556, \"#d8576b\"], [0.6666666666666666, \"#ed7953\"], [0.7777777777777778, \"#fb9f3a\"], [0.8888888888888888, \"#fdca26\"], [1.0, \"#f0f921\"]], \"type\": \"surface\"}], \"table\": [{\"cells\": {\"fill\": {\"color\": \"#EBF0F8\"}, \"line\": {\"color\": \"white\"}}, \"header\": {\"fill\": {\"color\": \"#C8D4E3\"}, \"line\": {\"color\": \"white\"}}, \"type\": \"table\"}]}, \"layout\": {\"annotationdefaults\": {\"arrowcolor\": \"#2a3f5f\", \"arrowhead\": 0, \"arrowwidth\": 1}, \"coloraxis\": {\"colorbar\": {\"outlinewidth\": 0, \"ticks\": \"\"}}, \"colorscale\": {\"diverging\": [[0, \"#8e0152\"], [0.1, \"#c51b7d\"], [0.2, \"#de77ae\"], [0.3, \"#f1b6da\"], [0.4, \"#fde0ef\"], [0.5, \"#f7f7f7\"], [0.6, \"#e6f5d0\"], [0.7, \"#b8e186\"], [0.8, \"#7fbc41\"], [0.9, \"#4d9221\"], [1, \"#276419\"]], \"sequential\": [[0.0, \"#0d0887\"], [0.1111111111111111, \"#46039f\"], [0.2222222222222222, \"#7201a8\"], [0.3333333333333333, \"#9c179e\"], [0.4444444444444444, \"#bd3786\"], [0.5555555555555556, \"#d8576b\"], [0.6666666666666666, \"#ed7953\"], [0.7777777777777778, \"#fb9f3a\"], [0.8888888888888888, \"#fdca26\"], [1.0, \"#f0f921\"]], \"sequentialminus\": [[0.0, \"#0d0887\"], [0.1111111111111111, \"#46039f\"], [0.2222222222222222, \"#7201a8\"], [0.3333333333333333, \"#9c179e\"], [0.4444444444444444, \"#bd3786\"], [0.5555555555555556, \"#d8576b\"], [0.6666666666666666, \"#ed7953\"], [0.7777777777777778, \"#fb9f3a\"], [0.8888888888888888, \"#fdca26\"], [1.0, \"#f0f921\"]]}, \"colorway\": [\"#636efa\", \"#EF553B\", \"#00cc96\", \"#ab63fa\", \"#FFA15A\", \"#19d3f3\", \"#FF6692\", \"#B6E880\", \"#FF97FF\", \"#FECB52\"], \"font\": {\"color\": \"#2a3f5f\"}, \"geo\": {\"bgcolor\": \"white\", \"lakecolor\": \"white\", \"landcolor\": \"#E5ECF6\", \"showlakes\": true, \"showland\": true, \"subunitcolor\": \"white\"}, \"hoverlabel\": {\"align\": \"left\"}, \"hovermode\": \"closest\", \"mapbox\": {\"style\": \"light\"}, \"paper_bgcolor\": \"white\", \"plot_bgcolor\": \"#E5ECF6\", \"polar\": {\"angularaxis\": {\"gridcolor\": \"white\", \"linecolor\": \"white\", \"ticks\": \"\"}, \"bgcolor\": \"#E5ECF6\", \"radialaxis\": {\"gridcolor\": \"white\", \"linecolor\": \"white\", \"ticks\": \"\"}}, \"scene\": {\"xaxis\": {\"backgroundcolor\": \"#E5ECF6\", \"gridcolor\": \"white\", \"gridwidth\": 2, \"linecolor\": \"white\", \"showbackground\": true, \"ticks\": \"\", \"zerolinecolor\": \"white\"}, \"yaxis\": {\"backgroundcolor\": \"#E5ECF6\", \"gridcolor\": \"white\", \"gridwidth\": 2, \"linecolor\": \"white\", \"showbackground\": true, \"ticks\": \"\", \"zerolinecolor\": \"white\"}, \"zaxis\": {\"backgroundcolor\": \"#E5ECF6\", \"gridcolor\": \"white\", \"gridwidth\": 2, \"linecolor\": \"white\", \"showbackground\": true, \"ticks\": \"\", \"zerolinecolor\": \"white\"}}, \"shapedefaults\": {\"line\": {\"color\": \"#2a3f5f\"}}, \"ternary\": {\"aaxis\": {\"gridcolor\": \"white\", \"linecolor\": \"white\", \"ticks\": \"\"}, \"baxis\": {\"gridcolor\": \"white\", \"linecolor\": \"white\", \"ticks\": \"\"}, \"bgcolor\": \"#E5ECF6\", \"caxis\": {\"gridcolor\": \"white\", \"linecolor\": \"white\", \"ticks\": \"\"}}, \"title\": {\"x\": 0.05}, \"xaxis\": {\"automargin\": true, \"gridcolor\": \"white\", \"linecolor\": \"white\", \"ticks\": \"\", \"title\": {\"standoff\": 15}, \"zerolinecolor\": \"white\", \"zerolinewidth\": 2}, \"yaxis\": {\"automargin\": true, \"gridcolor\": \"white\", \"linecolor\": \"white\", \"ticks\": \"\", \"title\": {\"standoff\": 15}, \"zerolinecolor\": \"white\", \"zerolinewidth\": 2}}}},\n",
              "                        {\"responsive\": true}\n",
              "                    ).then(function(){\n",
              "                            \n",
              "var gd = document.getElementById('bf54a47b-c4ac-4458-834b-5708f7e8b83a');\n",
              "var x = new MutationObserver(function (mutations, observer) {{\n",
              "        var display = window.getComputedStyle(gd).display;\n",
              "        if (!display || display === 'none') {{\n",
              "            console.log([gd, 'removed!']);\n",
              "            Plotly.purge(gd);\n",
              "            observer.disconnect();\n",
              "        }}\n",
              "}});\n",
              "\n",
              "// Listen for the removal of the full notebook cells\n",
              "var notebookContainer = gd.closest('#notebook-container');\n",
              "if (notebookContainer) {{\n",
              "    x.observe(notebookContainer, {childList: true});\n",
              "}}\n",
              "\n",
              "// Listen for the clearing of the current output cell\n",
              "var outputEl = gd.closest('.output');\n",
              "if (outputEl) {{\n",
              "    x.observe(outputEl, {childList: true});\n",
              "}}\n",
              "\n",
              "                        })\n",
              "                };\n",
              "                \n",
              "            </script>\n",
              "        </div>\n",
              "</body>\n",
              "</html>"
            ]
          },
          "metadata": {
            "tags": []
          }
        }
      ]
    },
    {
      "cell_type": "markdown",
      "metadata": {
        "id": "M3TWWwucsV9Q"
      },
      "source": [
        "We see that for $N=32$ the difference in the ground energy is below $\\gamma$. Thus, we select this value to generate the wavefunctions. "
      ]
    },
    {
      "cell_type": "markdown",
      "metadata": {
        "id": "52GFXuq6skPG"
      },
      "source": [
        "## Generating the data to train a neural network model"
      ]
    },
    {
      "cell_type": "code",
      "metadata": {
        "id": "OmtAI39XdZhb",
        "cellView": "form"
      },
      "source": [
        "#@title Code to generate data\n",
        "\n",
        "#@markdown Double click to see the code \\\\\n",
        "#@markdown **Note: This cell may take some hours to run. \n",
        "#@markdown You can skip it and load the generated data instead**\n",
        "\n",
        "\n",
        "#@markdown ---\n",
        "#@markdown ### Enter parameters:\n",
        "xmin = -8#@param {type:\"number\"}\n",
        "xmax = 8#@param {type:\"number\"}\n",
        "N=32#@param {type:\"slider\", min:20, max:50, step:1}\n",
        "n_state=0#@param {type:\"slider\", min:0, max:10, step:1}\n",
        "n_points = 100#@param {type:\"integer\"}\n",
        "n_samples=10000#@param {type:\"integer\"}\n",
        "#@markdown ---\n",
        "\n",
        "\n",
        "alpha_min = np.array([[-150,-10,0.2, -0.05, 0],\n",
        "                      [-10,-0.1,-0.1, -0.05, 0],\n",
        "                      [0.2,-0.1,0, 0, 0],\n",
        "                      [-0.05, -0.05,0,0,0],\n",
        "                      [0,0,0,0,0]])/50\n",
        "\n",
        "alpha_max = np.array([[50,5,1.0, 0.05, 0.2],\n",
        "                      [5,0.1,0.1, 0.05, 0],\n",
        "                      [1.0,0.1,0.2,0,0],\n",
        "                      [0.05, 0.05, 0,0,0],\n",
        "                      [0.2,0,0,0,0]])/50\n",
        "\n",
        "k = alpha_min.shape[0]\n",
        "r_alpha = np.random.random((int(n_samples*0.8), k,k)) # Values between 0 and 1\n",
        "alpha1 = r_alpha*(alpha_max - alpha_min)+ alpha_min # random alpha\n",
        "\n",
        "alpha_min2 = np.array([[-0.5,-0.1,0.2,0,0],\n",
        "                      [-0.1,-0.05,0,0,0],\n",
        "                      [0.2,0,0,0,0],\n",
        "                      [0,0,0,0,0],\n",
        "                      [0,0,0,0,0]])\n",
        "\n",
        "alpha_max2 = np.array([[0.5,0.5,1.0,0,0],\n",
        "                      [0.5,0.1,0,0,0],\n",
        "                      [1.0,0,0,0,0],\n",
        "                      [0,0,0,0,0],\n",
        "                      [0,0,0,0,0]])\n",
        "\n",
        "\n",
        "r_alpha = np.random.random((int(n_samples*0.2), k,k)) # Values between 0 and 1\n",
        "alpha2 = r_alpha*(alpha_max2 - alpha_min2)+ alpha_min2 # random alpha\n",
        "alpha = np.concatenate((alpha1, alpha2))\n",
        "\n",
        "\n",
        "data_gen = eigen_state_potential2D(alpha_min, alpha_max, N)\n",
        "# Generate the energies, wavefunctions and potentials\n",
        "E, a, alpha = data_gen.generate_data(n_samples, alpha)\n",
        "waves, x,phis = data_gen.final_wavefunction( xmin, xmax, n_points, a)\n",
        "V, _ = data_gen.evaluate_potential( xmin, xmax, n_points, alpha)\n",
        "idx=-1\n"
      ],
      "execution_count": null,
      "outputs": []
    },
    {
      "cell_type": "code",
      "metadata": {
        "id": "9kKpN6sLTKzl",
        "cellView": "form"
      },
      "source": [
        "#@title Code to save the generated data\n",
        "#@markdown Double click to see the code \\\\\n",
        "#@markdown **Note: Only run this cell if you have generated new data and want \n",
        "#@markdown  to overwrite the previously saved one. Notice that this could alter \n",
        "#@markdown the results of the notebook.**\n",
        "# Save data\n",
        "with open(\"./training_data/random_potentials/2D/V.npy\", 'wb') as f:\n",
        "  np.save(f, V)\n",
        "with open(\"./training_data/random_potentials/2D/waves.npy\", 'wb') as f:\n",
        "  np.save(f, waves)\n",
        "with open(\"./training_data/random_potentials/2D/x.npy\", 'wb') as f:\n",
        "  np.save(f, x)\n",
        "with open(\"./training_data/random_potentials/2D/alpha.npy\", 'wb') as f:\n",
        "  np.save(f, alpha)\n",
        "with open(\"./training_data/random_potentials/2D/a.npy\", 'wb') as f:\n",
        "  np.save(f, a)"
      ],
      "execution_count": null,
      "outputs": []
    },
    {
      "cell_type": "code",
      "metadata": {
        "id": "men_RpPd4Vm_",
        "cellView": "form"
      },
      "source": [
        "#@title Code to load the data { vertical-output: true }\n",
        "#@markdown Double click to see the code \\\\\n",
        "#@markdown  **Note: Run this cell to load the saved data**\n",
        "# Load data\n",
        "with open(\"./training_data/random_potentials/2D/V.npy\", 'rb') as f:\n",
        "  V = np.load(f)\n",
        "with open(\"./training_data/random_potentials/2D/waves.npy\", 'rb') as f:\n",
        "  waves = np.load(f)\n",
        "with open(\"./training_data/random_potentials/2D/x.npy\", 'rb') as f:\n",
        "  x = np.load(f)\n",
        "with open(\"./training_data/random_potentials/2D/alpha.npy\", 'rb') as f:\n",
        "  alpha = np.load(f)\n",
        "with open(\"./training_data/random_potentials/2D/a.npy\", 'rb') as f:\n",
        "  a = np.load(f)"
      ],
      "execution_count": 8,
      "outputs": []
    },
    {
      "cell_type": "code",
      "metadata": {
        "id": "G8DRYSbV-CIF",
        "colab": {
          "base_uri": "https://localhost:8080/",
          "height": 350
        },
        "cellView": "form",
        "outputId": "8333eaa3-c997-416c-d554-3f00b4e1551a"
      },
      "source": [
        "#@title Example of potential and wavefunction\n",
        "import matplotlib.pyplot as plt\n",
        "from matplotlib import ticker, cm\n",
        "\n",
        "idx =0\n",
        "fig, (ax1, ax2) = plt.subplots(1, 2,figsize=(15,5))\n",
        "\n",
        "cs1 = ax1.contourf(waves[idx,:,:])\n",
        "ax1.set_title(\"Wavefunction\")\n",
        "ax1.set_xlabel(\"x\")\n",
        "ax1.set_ylabel(\"y\")\n",
        "cs2 = ax2.contourf(V[idx,:,:])\n",
        "ax2.set_title(\"Potential\")\n",
        "ax2.set_xlabel(\"x\")\n",
        "ax2.set_ylabel(\"y\")\n",
        "cbar1 = fig.colorbar(cs1, ax=ax1)\n",
        "cbar2 = fig.colorbar(cs2, ax=ax2)\n",
        "plt.show()"
      ],
      "execution_count": 9,
      "outputs": [
        {
          "output_type": "display_data",
          "data": {
            "image/png": "[encoded data removed]",
            "text/plain": [
              "<Figure size 1080x360 with 4 Axes>"
            ]
          },
          "metadata": {
            "tags": [],
            "needs_background": "light"
          }
        }
      ]
    },
    {
      "cell_type": "markdown",
      "metadata": {
        "id": "Td9DHiVSNjSM"
      },
      "source": [
        "## Training a neural network\n",
        "\n"
      ]
    },
    {
      "cell_type": "code",
      "metadata": {
        "id": "aNintqEmJfyB",
        "cellView": "form"
      },
      "source": [
        "#@title Class to define the neural network\n",
        "#@markdown Double click to see the code\n",
        "\n",
        "import tensorflow as tf\n",
        "from tensorflow.keras import Model, layers\n",
        "class Conv_Model2D(tf.keras.Model):\n",
        "    '''\n",
        "    Subclassed keras tf.keras.Model API. The input will be the potential V(x)\n",
        "    and the output will be the wave function phi_n(x).\n",
        "    Args:\n",
        "      input_size (int): Number of x points\n",
        "    Attributes:\n",
        "      input_size (int): Number of x points\n",
        "      fc1 (layer): First  fully cinnected layer with 512 filters and relu activation function\n",
        "      dropout1 (layer): Dropout layer with dropout parameter of 0.2\n",
        "      fc2 (layer): Second  fully cinnected layer with 256 filters and relu activation function\n",
        "      dropout2 (layer): Dropout layer with dropout parameter of 0.2\n",
        "      fc3 (layer): Third  fully cinnected layer with 256 filters and relu activation function\n",
        "      dropout3 (layer): Dropout layer with dropout parameter of 0.2\n",
        "      fc4 (layer): Fourth  fully cinnected layer with 128 filters and relu activation function\n",
        "      dropout4 (layer): Dropout layer with dropout parameter of 0.2\n",
        "      out (layer): Output layer predicting phi_n(x)\n",
        "    '''\n",
        "    def __init__(self,\n",
        "                 name='fc_model', input_size=100,\n",
        "                 n1 = 64, n2= 64, n3=128, n4=128, nfc=128, drop=0.2,\n",
        "                 **kwargs):\n",
        "        self.input_size = input_size\n",
        "        self.shape_input = (input_size, input_size,1)\n",
        "        super(Conv_Model2D, self).__init__(name=name, **kwargs)\n",
        "\n",
        "        # Convolution Layer \n",
        "        self.conv1 = layers.Conv2D(filters=n1, kernel_size = 3, strides=(2, 2),\n",
        "                                   activation=tf.nn.relu, padding='same',\n",
        "                                   input_shape = self.shape_input)\n",
        "        # Max Pooling (down-sampling)\n",
        "        self.maxpool1 = layers.MaxPool2D(pool_size=(2, 2), strides=(1, 1), padding='same')\n",
        "        self.dropout1= tf.keras.layers.Dropout(drop)\n",
        "\n",
        "        # Convolution Layer \n",
        "        self.conv2 = layers.Conv2D(filters=n2, kernel_size =3, strides=(2, 2),\n",
        "                                   activation=tf.nn.relu, padding='same')\n",
        "        # Max Pooling (down-sampling)\n",
        "        self.maxpool2 = layers.MaxPool2D(pool_size=(2, 2), strides=(1, 1), padding='same')\n",
        "        self.dropout2= tf.keras.layers.Dropout(drop)\n",
        "\n",
        "        # Convolution Layer \n",
        "        self.conv3 = layers.Conv2D(filters=n3, kernel_size =3, strides=(2, 2),\n",
        "                                   activation=tf.nn.relu, padding='same')\n",
        "        # Max Pooling (down-sampling)\n",
        "        self.maxpool3 = layers.MaxPool2D(pool_size=(2, 2), strides=(1, 1), padding='same')\n",
        "        self.dropout3= tf.keras.layers.Dropout(drop)\n",
        "\n",
        "        # Convolution Layer \n",
        "        self.conv4 = layers.Conv2D(filters=n4, kernel_size =3, strides=(2, 2),\n",
        "                                   activation=tf.nn.relu, padding='same')\n",
        "        # Max Pooling (down-sampling)\n",
        "        self.maxpool4 = layers.MaxPool2D(pool_size=(2, 2), strides=(1, 1), padding='same')\n",
        "        self.dropout4= tf.keras.layers.Dropout(drop)\n",
        "\n",
        "        # Flatten the data to a 1-D vector for the fully connected layer.\n",
        "        self.flatten = layers.Flatten()\n",
        "\n",
        "        # Fully connected layer.\n",
        "        self.fc1 = layers.Dense(nfc, activation=tf.nn.relu)\n",
        "        # Apply Dropout (if is_training is False, dropout is not applied).\n",
        "        self.dropoutfc1 = layers.Dropout(rate=drop)\n",
        "\n",
        "        # Fully connected layer.\n",
        "        self.fc2 = layers.Dense(nfc, activation=tf.nn.relu)\n",
        "\n",
        "        # Output layer (fully connected with input_size neurons and linear activation function )\n",
        "        self.out = tf.keras.layers.Dense(input_size*input_size, activation ='linear')\n",
        "\n",
        "\n",
        "    @tf.function\n",
        "    def call(self, inputs, is_training=False):\n",
        "        '''\n",
        "        Forward pass of the fully connected model\n",
        "\n",
        "        Args:\n",
        "          inputs (tensor): X data to pass through the network (V(x))\n",
        "          is_training (bool): If training, True, otherwise, False\n",
        "        \n",
        "        Returns:\n",
        "          out (tensor): Output tensor containing the values of phi_n(x)\n",
        "        '''\n",
        "        x = tf.reshape(inputs, tf.constant([-1, self.input_size, self.input_size, 1]))\n",
        "        x = self.conv1(x)\n",
        "        x = self.maxpool1(x)\n",
        "        x = self.dropout1(x, training=is_training)\n",
        "        x = self.conv2(x)\n",
        "        x = self.maxpool2(x)\n",
        "        x = self.dropout2(x, training=is_training)\n",
        "        x = self.conv3(x)\n",
        "        x = self.maxpool3(x)\n",
        "        x = self.dropout3(x, training=is_training)\n",
        "        x = self.conv4(x)\n",
        "        x = self.maxpool4(x)\n",
        "        x = self.dropout4(x, training=is_training)\n",
        "        x = self.flatten(x)\n",
        "        x = self.fc1(x)\n",
        "        x = self.dropoutfc1(x, training=is_training)\n",
        "        x = self.fc2(x)\n",
        "        out = self.out(x)\n",
        "        return out\n"
      ],
      "execution_count": 14,
      "outputs": []
    },
    {
      "cell_type": "code",
      "metadata": {
        "id": "AEwRKb7rO9jT",
        "cellView": "form"
      },
      "source": [
        "#@title Class to train the network\n",
        "#@markdown Double click to see the code\n",
        "class Training():\n",
        "  '''\n",
        "  Performs the training of the autoencoder model using mean absolute error loss\n",
        "\n",
        "  Args:\n",
        "    net (Model): Model to train\n",
        "    learning_rate (float): Learning Rate for Adam optimizer\n",
        "    training_iters (int): Numer of training iterations\n",
        "    batch_size (int): Batch size\n",
        "    display_step (int): Number of iterations to wait to print the current performance of the model\n",
        "    early_stopping (int): Number of epochs to wait for the validation loss to increase before performing early stopping\n",
        "    filepath (str): File path to store and recover the model weights\n",
        "    restore (bool): If true, it looks for existing weights to reestore them\n",
        "\n",
        "  Attributes: \n",
        "    net (Model): Model to train\n",
        "    learning_rate (float): Learning Rate for Adam optimizer\n",
        "    training_iters (int): Numer of training iterations\n",
        "    batch_size (int): Batch size\n",
        "    display_step (int): Number of iterations to wait to print the current performance of the model\n",
        "    stopping_step (int): How many epochs we have waited so far without the validation loss decreasing\n",
        "    early_stopping (int): Number of epochs to wait for the validation loss to increase before performing early stopping\n",
        "    filepath (str): File path to store and recover the model weights\n",
        "    restore (bool): If true, it looks for existing weights to reestore them\n",
        "    loss (function): Loss function to optimize. In this case, mean square error\n",
        "    optimizer (tf.Optimizer): Adam optimizer for the learning steps\n",
        "    ckpt (tf.Checkpoint): Checkpoint that stores weights and optimizer state\n",
        "    manager (tf.CheckpointManager): Controls that not too many checkpoint files are stored \n",
        "    \n",
        "\n",
        "  '''\n",
        "\n",
        "  def __init__(self, net, learning_rate, training_iters, batch_size, display_step, early_stopping=50, filepath=None, restore =True):\n",
        "    self.net = net\n",
        "    self.learning_rate = learning_rate\n",
        "    self.training_iters = training_iters\n",
        "    self.batch_size = batch_size\n",
        "    self.display_step = display_step\n",
        "    self.stopping_step=0\n",
        "    self.early_stopping = early_stopping\n",
        "    self.optimizer = tf.keras.optimizers.Adam(self.learning_rate)\n",
        "    self.filepath = filepath\n",
        "    self.ckpt = tf.train.Checkpoint(optimizer=self.optimizer, net=self.net)\n",
        "    self.manager = tf.train.CheckpointManager(self.ckpt, directory = filepath , max_to_keep=3)\n",
        "    if restore:\n",
        "      self.ckpt.restore(self.manager.latest_checkpoint)\n",
        "      if self.manager.latest_checkpoint:\n",
        "          print(\"Restored from {}\".format(self.manager.latest_checkpoint))\n",
        "      else:\n",
        "          print(\"Initializing from scratch.\")\n",
        "\n",
        "  def loss(self, y_true, y_pred):\n",
        "    '''\n",
        "    Calculates MSE\n",
        "    Args:\n",
        "      y_true (tensor): True values of wavefunctions\n",
        "      y_pred (tensor): predicted values of wavefunctions\n",
        "    Returns:\n",
        "      MSE\n",
        "    '''\n",
        "    y_true = tf.convert_to_tensor(y_true)\n",
        "    y_true_reshaped = tf.reshape(y_true, y_pred.shape)\n",
        "    return tf.reduce_mean(tf.square(tf.subtract(y_true_reshaped, y_pred)))#tf.keras.losses.MeanSquaredError(y_true_reshaped, y_pred)\n",
        "\n",
        "\n",
        "  def loss_val(self, x_val, y_val):\n",
        "      '''\n",
        "      Computes the validation loss \n",
        "      Args:\n",
        "        x_val(tensor): batch of validation sample\n",
        "        y_val (tensor): labels for validation\n",
        "      Returns:\n",
        "         val_loss(tensor): validation loss\n",
        "      '''\n",
        "      pred_val = self.net(x_val, False)\n",
        "      val_loss = self.loss( y_val, pred_val)\n",
        "      return val_loss\n",
        "\n",
        "  def early_stop(self, epoch, val_loss, stop):\n",
        "      '''\n",
        "      Assesses if we have to stop training\n",
        "      Args:\n",
        "         epoch (int): current epoch\n",
        "         val_loss (tensor): current validation loss\n",
        "         stop (bool): early stop parameter\n",
        "      Returns:\n",
        "         stop(bool): True if the models stops training, false if it continues training\n",
        "      '''\n",
        "      #Store best validation loss\n",
        "      if epoch == 0:\n",
        "          self.best_loss = val_loss\n",
        "      else:\n",
        "          if val_loss < self.best_loss:\n",
        "              self.stopping_step = 0\n",
        "              self.best_loss = val_loss\n",
        "          else:\n",
        "              #If the validation loss does not decrease, we increase the number of stopping steps\n",
        "              self.stopping_step += 1\n",
        "      #If such number reaches the maximum, we stop training\n",
        "      if self.stopping_step == self.early_stopping:\n",
        "          stop = True\n",
        "          print('Early stopping was triggered ')\n",
        "      return stop\n",
        "\n",
        "    # Optimization process. \n",
        "  @tf.function()\n",
        "  def run_optimization(self,x, y):\n",
        "      '''\n",
        "      Performs one step of the learning process. It calculates the loss function and\n",
        "      appies backpropagation algorithm to update the weights.\n",
        "\n",
        "      Args:\n",
        "        x (tensor): Samples of training data used to train the model\n",
        "        y (tensor): Labels for training data\n",
        "      \n",
        "      Returns:\n",
        "        -\n",
        "      '''\n",
        "      # Wrap computation inside a GradientTape for automatic differentiation.\n",
        "      with tf.GradientTape() as g:\n",
        "          # Forward pass.\n",
        "          pred = self.net(x)\n",
        "          # Compute loss.\n",
        "          loss = self.loss(y, pred)\n",
        "          \n",
        "      # Variables to update, i.e. trainable variables.\n",
        "      trainable_variables = self.net.trainable_variables\n",
        "\n",
        "      # Compute gradients.\n",
        "      gradients = g.gradient(loss, trainable_variables)\n",
        "      \n",
        "      # Update W and b following gradients.\n",
        "      self.optimizer.apply_gradients(zip(gradients, trainable_variables))\n",
        "      return loss\n",
        "\n",
        "  #@tf.function\n",
        "  def fit(self, X_train,y_train, X_test,y_test, save=True):\n",
        "    '''\n",
        "    Main fit function \n",
        "\n",
        "    Args:\n",
        "      X_train (numpy array): Processed training data\n",
        "      y_train (numpy array): Labels training data\n",
        "      X_test (numpy array): Processed test data\n",
        "      y_test (numpy array): Labels test data\n",
        "      save (bool): If true, we save the weights at the end of the training\n",
        "    Returns:\n",
        "      -\n",
        "    '''\n",
        "    # Create train and test datasets\n",
        "    # Use tf.data API to shuffle and batch data.\n",
        "    X_train = tf.convert_to_tensor(X_train, dtype=tf.float32)\n",
        "    y_train = tf.convert_to_tensor(y_train, dtype=tf.float32)\n",
        "    X_test = tf.convert_to_tensor(X_test, dtype=tf.float32)\n",
        "    y_test = tf.convert_to_tensor(y_test, dtype=tf.float32)\n",
        "\n",
        "    train_data = tf.data.Dataset.from_tensor_slices((X_train, y_train))\n",
        "    train_data = train_data.repeat().shuffle(5000).batch(self.batch_size).prefetch(1)\n",
        "    \n",
        "\n",
        "    test_data = tf.data.Dataset.from_tensor_slices((X_test, y_test))\n",
        "    test_data = test_data.shuffle(buffer_size=1024).batch(self.batch_size) \n",
        "\n",
        "    loss_batch = []\n",
        "    val_loss_batch = []\n",
        "\n",
        "    stop = False\n",
        "    epoch = 0\n",
        "    \n",
        "    # Run training for the given number of steps (and while not early stopping).\n",
        "    while epoch < self.training_iters and stop == False:\n",
        "        for step, (batch_x_train, batch_y_train) in enumerate(train_data.take(self.training_iters), 1):\n",
        "            #Apply backpropagation algorithm\n",
        "            loss = self.run_optimization(batch_x_train, batch_y_train)\n",
        "            loss_batch.append(loss.numpy())\n",
        "\n",
        "        for (test_x, test_y) in test_data:\n",
        "            #Compute validation loss\n",
        "            val_loss = self.loss_val(test_x, test_y)\n",
        "            val_loss_batch.append(val_loss.numpy())\n",
        "        \n",
        "        stop = self.early_stop(epoch, val_loss, stop)\n",
        "        epoch += 1\n",
        "\n",
        "        #Display the result\n",
        "        if epoch % self.display_step == 0:\n",
        "          print('Epoch: ', epoch, \"Validation loss: \", val_loss.numpy(), \"Loss: \", loss.numpy())\n",
        "    \n",
        "    #Save the weights\n",
        "    if save:\n",
        "      save_path = self.manager.save()\n",
        "      print(\"Saved checkpoint for step {}\".format(save_path))    "
      ],
      "execution_count": 15,
      "outputs": []
    },
    {
      "cell_type": "code",
      "metadata": {
        "id": "nphcO8NtPMWb"
      },
      "source": [
        "#@title Split training and test data\n",
        "from sklearn.model_selection import train_test_split\n",
        "\n",
        "# Split train and test \n",
        "idx_train, idx_test, wave_train, wave_test = train_test_split(np.arange(V.shape[0]), waves, test_size=0.33, random_state=123)\n",
        "V_train = V[idx_train,:]\n",
        "V_test = V[idx_test,:]\n",
        "\n",
        "alpha_train = alpha[idx_train]\n",
        "alpha_test = alpha[idx_test]\n"
      ],
      "execution_count": 16,
      "outputs": []
    },
    {
      "cell_type": "code",
      "metadata": {
        "id": "4ZmUUuYoPAPH",
        "cellView": "form"
      },
      "source": [
        "#@title Parameters to tran the neural network { output-height: 10 }\n",
        "#@markdown You can also include Markdown in forms.\n",
        "\n",
        "#@markdown ---\n",
        "#@markdown ### Enter the data parameters:\n",
        "xmin = -8#@param {type:\"number\"}\n",
        "xmax = 8#@param {type:\"number\"}\n",
        "N=32#@param {type:\"slider\", min:20, max:50, step:1}\n",
        "n_state=0#@param {type:\"slider\", min:0, max:10, step:1}\n",
        "n_points = 100#@param {type:\"integer\"}\n",
        "n_samples=10000#@param {type:\"integer\"}\n",
        "#@markdown ---\n",
        "\n",
        "#@markdown ---\n",
        "#@markdown ### Enter the training parameters:\n",
        "learning_rate = 0.0005#@param {type:\"number\"}\n",
        "training_iters = 1000 #@param {type:\"integer\"}\n",
        "batch_size = 64#@param {type:\"integer\"}\n",
        "display_step = 10#@param {type:\"integer\"}\n",
        "filepath = \"./trained_models/random_potentials/2D/tf_ckpts/\" #@param {type:\"string\"}\n",
        "#@markdown ---\n",
        "\n",
        "#@markdown ---\n",
        "#@markdown ### Enter the network parameters:\n",
        "n1 = 64#@param {type:\"integer\"}\n",
        "n2= 64#@param {type:\"integer\"}\n",
        "n3=32#@param {type:\"integer\"}\n",
        "n4=32#@param {type:\"integer\"}\n",
        "nfc = 128#@param {type:\"integer\"}\n",
        "drop=0.3#@param {type:\"number\"}\n",
        "#@markdown ---\n",
        "\n",
        "\n"
      ],
      "execution_count": 17,
      "outputs": []
    },
    {
      "cell_type": "code",
      "metadata": {
        "id": "ZVtih1qba6K0",
        "colab": {
          "base_uri": "https://localhost:8080/"
        },
        "outputId": "12043762-6815-42bb-e350-5d520023d421"
      },
      "source": [
        "#@title Run this cell to load model\n",
        "conv_model = Conv_Model2D(input_size=n_points,n1=n1, n2=n2,\n",
        "                          n3=n3, n4=n4, nfc = nfc, drop=drop)\n",
        "train = Training(conv_model,learning_rate, training_iters, \n",
        "                 batch_size, display_step, filepath=filepath,\n",
        "                 early_stopping=100, restore=True)\n"
      ],
      "execution_count": 18,
      "outputs": [
        {
          "output_type": "stream",
          "text": [
            "Restored from ./trained_models/random_potentials/2D/tf_ckpts/ckpt-1\n"
          ],
          "name": "stdout"
        }
      ]
    },
    {
      "cell_type": "code",
      "metadata": {
        "id": "2Nh0ApqdNl-T",
        "colab": {
          "base_uri": "https://localhost:8080/"
        },
        "outputId": "128871fa-cbb4-4925-88a5-f416c9279bb1"
      },
      "source": [
        "#@title Run this cell to train the network\n",
        "conv_model = Conv_Model2D(input_size=n_points, n1=n1, n2=n2, \n",
        "                          n3=n3, n4=n4, nfc = nfc, drop=drop)\n",
        "\n",
        "train = Training(conv_model,learning_rate, training_iters,\n",
        "                 batch_size, display_step, filepath=filepath,\n",
        "                 early_stopping=100, restore=False)\n",
        "train.fit(V_train, wave_train, V_test, wave_test)"
      ],
      "execution_count": null,
      "outputs": [
        {
          "output_type": "stream",
          "text": [
            "Epoch:  10 Validation loss:  2.465767e-06 Loss:  2.1712472e-06\n",
            "Epoch:  20 Validation loss:  1.5032363e-06 Loss:  1.6690348e-06\n",
            "Epoch:  30 Validation loss:  1.4894442e-06 Loss:  1.3491865e-06\n",
            "Epoch:  40 Validation loss:  1.1839755e-06 Loss:  1.0210193e-06\n",
            "Epoch:  50 Validation loss:  1.0865033e-06 Loss:  8.2806173e-07\n",
            "Epoch:  60 Validation loss:  1.2611702e-06 Loss:  5.927573e-07\n",
            "Epoch:  70 Validation loss:  3.2759291e-07 Loss:  5.8041496e-07\n",
            "Epoch:  80 Validation loss:  4.8936e-07 Loss:  5.679856e-07\n",
            "Epoch:  90 Validation loss:  5.198012e-07 Loss:  4.5952532e-07\n",
            "Epoch:  100 Validation loss:  3.907971e-07 Loss:  5.4915773e-07\n",
            "Epoch:  110 Validation loss:  8.307619e-07 Loss:  3.1634744e-07\n",
            "Epoch:  120 Validation loss:  3.569317e-07 Loss:  3.7883873e-07\n",
            "Epoch:  130 Validation loss:  1.5398498e-07 Loss:  3.3551572e-07\n",
            "Epoch:  140 Validation loss:  1.1598509e-07 Loss:  2.8657362e-07\n",
            "Epoch:  150 Validation loss:  3.007656e-07 Loss:  2.53586e-07\n",
            "Epoch:  160 Validation loss:  3.966612e-07 Loss:  3.2894957e-07\n",
            "Epoch:  170 Validation loss:  2.623884e-07 Loss:  3.8952484e-07\n",
            "Epoch:  180 Validation loss:  1.4889575e-07 Loss:  1.7970646e-07\n",
            "Epoch:  190 Validation loss:  1.720759e-07 Loss:  1.654878e-07\n",
            "Epoch:  200 Validation loss:  2.0098999e-07 Loss:  2.4471507e-07\n",
            "Epoch:  210 Validation loss:  2.287696e-07 Loss:  2.4198118e-07\n",
            "Epoch:  220 Validation loss:  1.8805683e-07 Loss:  1.8320935e-07\n",
            "Epoch:  230 Validation loss:  1.69408e-07 Loss:  1.6642335e-07\n",
            "Epoch:  240 Validation loss:  3.2646315e-07 Loss:  2.9712456e-07\n",
            "Epoch:  250 Validation loss:  2.1417364e-07 Loss:  2.2975728e-07\n",
            "Early stopping was triggered \n",
            "Saved checkpoint for step ./Random_potentials/2D/n0/coupled/tf_ckpts/ckpt-1\n"
          ],
          "name": "stdout"
        }
      ]
    },
    {
      "cell_type": "code",
      "metadata": {
        "id": "I3P68YavNl72",
        "colab": {
          "base_uri": "https://localhost:8080/"
        },
        "outputId": "40d1efb9-33c4-407b-8c95-ba10d8d9ef74"
      },
      "source": [
        "#@title Make predictions\n",
        "pred = conv_model(V_test)\n",
        "print(\"Test MSE: %f\" % train.loss(pred, wave_test))\n",
        "pred = pred.numpy().reshape(-1,n_points,n_points)\n",
        "idx = -1"
      ],
      "execution_count": 19,
      "outputs": [
        {
          "output_type": "stream",
          "text": [
            "Test MSE: 0.000000\n"
          ],
          "name": "stdout"
        }
      ]
    },
    {
      "cell_type": "markdown",
      "metadata": {
        "id": "GkOQFlVzdsqT"
      },
      "source": [
        "## Plot the results\n",
        "\n",
        "We plot the prediction and the real values of the wave function."
      ]
    },
    {
      "cell_type": "code",
      "metadata": {
        "id": "BaYrQ5HYdkQF",
        "colab": {
          "base_uri": "https://localhost:8080/",
          "height": 350
        },
        "cellView": "form",
        "outputId": "c23cd8aa-24d7-4bb7-f409-f06908f831e6"
      },
      "source": [
        "#@title\n",
        "import matplotlib.pyplot as plt\n",
        "from matplotlib import ticker, cm\n",
        "\n",
        "idx +=1\n",
        "fig, (ax1, ax2,ax3) = plt.subplots(1, 3,figsize=(15,5))\n",
        "\n",
        "cs1 = ax1.contourf(wave_test[idx,:,:])\n",
        "ax1.set_title(\"Real\")\n",
        "ax1.set_xlabel(\"x\")\n",
        "ax1.set_ylabel(\"y\")\n",
        "\n",
        "cs2 = ax2.contourf(pred[idx,:,:])\n",
        "ax2.set_title(\"Predicted\")\n",
        "ax2.set_xlabel(\"x\")\n",
        "ax2.set_ylabel(\"y\")\n",
        "\n",
        "cs3 = ax3.contourf(V_test[idx,:,:])\n",
        "ax3.set_title(\"Potential\")\n",
        "ax3.set_xlabel(\"x\")\n",
        "ax3.set_ylabel(\"y\")\n",
        "\n",
        "cbar1 = fig.colorbar(cs1, ax=ax1)\n",
        "cbar2 = fig.colorbar(cs2, ax=ax2)\n",
        "cbar3 = fig.colorbar(cs3, ax=ax3)\n",
        "plt.show()"
      ],
      "execution_count": 20,
      "outputs": [
        {
          "output_type": "display_data",
          "data": {
            "image/png": "[encoded data removed]",
            "text/plain": [
              "<Figure size 1080x360 with 6 Axes>"
            ]
          },
          "metadata": {
            "tags": [],
            "needs_background": "light"
          }
        }
      ]
    },
    {
      "cell_type": "code",
      "metadata": {
        "id": "6hYVR6VeUkJc",
        "cellView": "form"
      },
      "source": [
        "#@title Code to calculate the empirical energy\n",
        "#@markdown Double click to show code\n",
        "def empirical_energy(phi, potential, xmin=-10, xmax = 10,\n",
        "                       ymin=-10, ymax = 10,\n",
        "                       n_points=100, hbar=1, m=1):\n",
        "    '''\n",
        "    Calculates empirical energy for 2D potentials\n",
        "    Args:\n",
        "      phi (np.array): Wavefunction\n",
        "      potential (np.array): Potentials V(x,y)\n",
        "      xmin (int): minimum value of x\n",
        "      xmax (int): maximum value of x\n",
        "      ymin (int): minimum value of y\n",
        "      ymax (int): maximum value of y\n",
        "      n_points (int): number of points in the grid\n",
        "      hbar (float): h bar\n",
        "      m (float): mass\n",
        "    Returns:\n",
        "      energy (np.array): mean empirical energy for each sample\n",
        "    '''\n",
        "    h1 = (xmax - xmin)/n_points\n",
        "    h2 = (ymax - ymin)/n_points\n",
        "    phi = np.asarray(phi)\n",
        "    if phi.shape!= potential.shape:\n",
        "      phi = np.reshape(phi, potential.shape)\n",
        "\n",
        "    # We first calculate the second derivative of phi\n",
        "    # derivative x\n",
        "    phir = phi.copy()\n",
        "    phir[:,:,0] = 0\n",
        "    phir[:,:,1:] = phi[:,:,:-1]\n",
        "    phil = phi.copy()\n",
        "    phil[:,:,-1] = 0\n",
        "    phil[:,:,:-1] = phi[:,:,1:]\n",
        "    deriv_x = (phir - 2*phi + phil)/(h1*h2)\n",
        "\n",
        "    # derivative y\n",
        "    phir = phi.copy()\n",
        "    phir[:,0,:] = 0\n",
        "    phir[:,1:,:] = phi[:,:-1,:]\n",
        "    phil = phi.copy()\n",
        "    phil[:,-1,:] = 0\n",
        "    phil[:,:-1,:] = phi[:,1:,:]\n",
        "    deriv_y = (phir - 2*phi + phil)/(h1*h2)\n",
        "\n",
        "    # Now we calculate the mean energy\n",
        "    energy = np.sum((-hbar*hbar/(2*m)*phi*(deriv_x + deriv_y) + potential*(phi*phi))*h1*h2, axis=(1,2))\n",
        "    return energy"
      ],
      "execution_count": 21,
      "outputs": []
    },
    {
      "cell_type": "code",
      "metadata": {
        "id": "kA85r9qDV1d_",
        "colab": {
          "base_uri": "https://localhost:8080/"
        },
        "outputId": "155a9e2b-3109-428b-832e-93b778ac72f5"
      },
      "source": [
        "E = empirical_energy(wave_test, V_test,xmin=-10, xmax = 10, ymin = -10, ymax = 10, n_points=100)\n",
        "E_emp = empirical_energy(pred, V_test,xmin=-10, xmax = 10, ymin=-10, ymax=10, n_points= 100)\n",
        "\n",
        "print('MSE(E) = ', np.mean((E-E_emp)**2))"
      ],
      "execution_count": 23,
      "outputs": [
        {
          "output_type": "stream",
          "text": [
            "MSE(E) =  3.5175417370082486e-05\n"
          ],
          "name": "stdout"
        }
      ]
    },
    {
      "cell_type": "code",
      "metadata": {
        "id": "74hlyNdeV1eM",
        "cellView": "form",
        "colab": {
          "base_uri": "https://localhost:8080/",
          "height": 542
        },
        "outputId": "27dbc51c-8100-4842-ad40-afdc34538d13"
      },
      "source": [
        "#@title Predicted and Real mean energies\n",
        "import plotly\n",
        "from plotly.graph_objs import graph_objs as go\n",
        "from plotly.subplots import make_subplots\n",
        "from plotly.offline import iplot\n",
        "\n",
        "fig = go.Figure()\n",
        "fig.add_trace(go.Scatter(\n",
        "    x=E,\n",
        "    y=E_emp,\n",
        "    mode=\"markers\", name = \"empirical\"))\n",
        "\n",
        "fig.add_trace(go.Scatter(\n",
        "    x=E,\n",
        "    y=E,\n",
        "    mode=\"lines\", name = \"theorerical\"))\n",
        "\n",
        "fig.update_layout(\n",
        "    title=\"Energies\",\n",
        "    xaxis_title=\"Theoretical\",\n",
        "    yaxis_title=\"Empirical\")\n",
        "\n",
        "fig.show()"
      ],
      "execution_count": null,
      "outputs": [
        {
          "output_type": "display_data",
          "data": {
            "text/html": [
              "<html>\n",
              "<head><meta charset=\"utf-8\" /></head>\n",
              "<body>\n",
              "    <div>\n",
              "            <script src=\"https://cdnjs.cloudflare.com/ajax/libs/mathjax/2.7.5/MathJax.js?config=TeX-AMS-MML_SVG\"></script><script type=\"text/javascript\">if (window.MathJax) {MathJax.Hub.Config({SVG: {font: \"STIX-Web\"}});}</script>\n",
              "                <script type=\"text/javascript\">window.PlotlyConfig = {MathJaxConfig: 'local'};</script>\n",
              "        <script src=\"https://cdn.plot.ly/plotly-latest.min.js\"></script>    \n",
              "            <div id=\"e43395b4-7846-4e83-a6fa-358ce99fe35a\" class=\"plotly-graph-div\" style=\"height:525px; width:100%;\"></div>\n",
              "            <script type=\"text/javascript\">\n",
              "                \n",
              "                    window.PLOTLYENV=window.PLOTLYENV || {};\n",
              "                    \n",
              "                if (document.getElementById(\"e43395b4-7846-4e83-a6fa-358ce99fe35a\")) {\n",
              "                    Plotly.newPlot(\n",
              "                        'e43395b4-7846-4e83-a6fa-358ce99fe35a',\n",
              "                        [{\"mode\": \"markers\", \"name\": \"empirical\", \"type\": \"scatter\", \"x\": [0.5180156326278651, -15.487883394602115, 1.0111313546180623, -2.8916606581120186, 0.6708721475167292, -0.5286204216482538, -18.566117981949482, -17.376048716480167, -13.666913525713873, 0.006484239452226211, -16.729943614182762, -0.9846670252453802, -0.17956645925596532, -16.840802413867415, -18.31105532049795, -14.99946715580259, -13.922003826128464, -16.68586823040625, -17.001643808908938, 0.16746689639643916, -16.829744836881773, -1.0325421950578604, -16.62210187296442, -18.545003266368255, -18.705816651854125, -17.74923323833235, -2.222460486302428, 0.8609592883933107, -0.9240522097684225, -2.5868161199833817, -2.0413830409962355, -2.479920177102223, -2.643592567737596, -16.390565050546964, -2.6674665607861616, -15.383052969243476, 0.08511239976460246, -2.3427921293269827, -16.407284358560908, 1.284389800591683, 0.44907168022684524, 1.2626059833572616, -0.4023572383766885, -1.9418493542954685, -1.8671382285665536, -16.626720108692368, -14.726617652224919, 1.3387230556660643, -19.062191220420047, -17.8772062418794, -2.252271072906124, -17.15294354183099, 1.1133928142021843, 1.3165538004702482, -17.293285545451393, -13.929078224509439, 1.115762518751469, -0.1938660508634557, -15.984648715650692, -14.29061256994862, -18.39370093040654, -0.9127067885358803, -2.6729274198340245, -1.1840817257571914, -14.44923592184425, -2.686643533502811, -16.763464570796224, -17.032990894240424, -16.830624018369864, -1.3957356942083485, -0.12595543649075283, 0.8158879730270859, 0.9014898855820409, 0.980199842345112, -15.41922119244331, -0.6605209271878465, -1.1972503619926262, -17.498747234298595, -13.911084056972966, -1.9060749931248675, -16.34820876720858, 1.1799389992304201, -15.454450569241402, -0.8659233173243396, -17.335997624162623, -15.54923811812213, -0.15742804917425146, -18.028331853785104, -15.651320895541453, -0.49106970868122807, 0.20966769985957853, -0.5641546385923488, 0.3166380303213247, -18.36159614121846, -1.5745159897215175, -16.416133258589205, -16.887337822018257, -15.641760134992902, 0.7889587228193893, -16.145362627252258, -18.697838511188998, 0.010410160233963503, -16.1304213053097, -1.0184278285753674, -15.986251947747222, 0.3319881262829086, 0.8156302244939342, -17.54977511695853, 0.5922986933432005, -1.325780378154787, -0.9776613266185498, -18.119191317570845, -14.91246585873845, -16.066936838348468, -2.8082268669236585, 0.43182493859645366, 1.172763704832012, 1.634289627892704, 0.43729086878123696, -15.160665530292386, -1.5612751653354346, -14.804962095869856, -15.544744699074604, 0.5961525592424052, -16.3869636033304, -1.7523147950870268, -18.08167171730492, -15.980299274952413, -2.578295296469173, -19.324312420627873, 0.8092763896045662, -2.638368896835178, 0.5436002178233416, -2.7124808584066145, -16.477887098694392, -15.977425481258283, -2.567912872922684, -18.78810787014943, 0.48520014794261596, 0.8562203864378735, 0.5894795307636579, 1.0085533345721753, -15.85271970801516, -16.18894353544588, -15.926576405595771, -17.14303447292098, 1.5430498456528112, 0.8646660158403301, -1.0581981928876212, 1.5819825949035344, 1.1405745294885206, 0.012887561285697987, 0.8951150687191611, 0.7184584865505531, -17.252906952815902, -2.8390517702940956, -0.7851286879301372, -18.099951318918805, 0.5336957808903745, 1.575081122838898, -2.4961337817993656, 0.9544290610769436, 0.9920741556709031, -14.890447356478484, -2.200669195287134, -0.5599638999238008, -14.597055462794108, -2.011146576506476, -0.3180072574726261, 0.46692379169373355, -2.4526777891068914, -1.4489704129816905, -17.694440879598595, -1.0169415391426617, -1.064296966380843, 0.16771360534969856, -13.996827066248605, 1.0137951190504564, -13.74857097063097, -15.700106879700314, -15.079699273802113, 0.9882840407198529, -1.9643437228564462, -1.413911311831368, -1.6032370160535958, 1.0489300139782474, -0.7238690610059, -16.632433724577822, -15.332056209289869, -17.575639098983366, -16.365233569918892, -17.220204779579568, -17.408349234730284, -16.072374110958293, -0.03888275555227381, -16.139406462275605, -0.8656205746075895, -16.44403058232244, -2.4896051912399058, 0.643357034919609, -1.3362667946470541, -15.461398915013168, -16.29179061133031, -15.123745933329399, -13.826300699712155, -15.087538224399722, 0.417950493277373, -2.894087001578667, 0.16923101529038792, -2.3303742929419187, -2.1770667079142165, -16.3425644662552, -18.135432843005855, 1.6708491278661952, -15.853478139559787, -1.3991744433845292, 0.6643123191784497, -16.609224932966892, 1.5689330073852492, -1.421850616997205, -17.325568850287507, -13.966997940746005, 0.2880173526720293, 0.14409375929737417, -18.050974427430944, 1.2900106061006635, -18.59563490147702, -1.6362830306425147, 1.5826775720951471, -16.29628082876972, -16.036250555005765, -18.348460526371298, 0.9133448138010226, -0.24429577298963884, -18.43308533766724, -18.825249045301184, -1.0558695802309643, -16.54158475910951, -2.7535685205883955, -1.6059630412880352, -19.19488700600371, -16.55116946272659, -15.115591388564809, -16.283397099525683, 0.9068576625771928, -1.790001895705928, -1.6281837143603353, -1.0185451488512185, -16.82195347082306, -0.65685055234041, -1.8636041891704254, -2.749850149863725, 0.19287007893816996, -2.165611298473744, -0.5669486013518067, -1.3735771667379155, -0.5898403699534065, -14.841979981924318, -15.841108804042623, -2.1489030116326218, -0.8279187912848586, -16.250200455582895, -2.6948382009784035, -17.52546505097055, 0.4064512131051192, -18.61027636830493, -18.04404446277968, -2.2485575672121043, -19.304274078188495, -17.34266720800522, 1.5317004004163697, -0.22316494899670217, -14.928716226976208, -15.081509366213895, 0.8983379716410331, 0.1867840714376667, -0.5220390610942354, -15.442648377103044, -2.504681101163952, -16.837441026956355, -16.71285958082316, -16.698069716595118, -17.75587263009009, -16.11046477815477, -17.55928319065992, -1.3991744433845292, -2.7717217566590513, -2.816346947826462, -2.902285159993283, -16.58370042766164, 1.181829016179088, -2.3275629324711042, -0.1007374974208377, -1.7203721539214971, -14.554935079908565, 0.7960567375909715, -1.1973736697008068, -18.87872122275962, -0.7863010214331076, -14.155148567870402, -1.2929516502219003, -15.856842603595277, -17.547286576546604, 0.7064069461107058, -18.555602468830134, 0.609876181508455, -1.0144293529529063, -0.6646491721092467, 0.719530020257867, -0.9053568305889781, -2.27566408751494, -1.4396491098293676, -16.315699768165832, 0.5521396118533415, -0.5162515971186183, -18.65550329249182, -15.817403594999623, -14.680384366596236, -16.587550207801577, -18.53202651595433, 1.0915876936728446, -14.986128842977596, -16.86923157529254, -18.05211356206087, -2.149898231904523, -17.34253349048034, 0.4825644663629877, -2.023565165763533, -17.941139503559256, -15.072965241113792], \"y\": [0.5211872157107988, -15.508001873570542, 1.002192288712909, -2.8838613664105064, 0.6710795313515562, -0.5310990889699724, -18.580990756152474, -17.36907196000611, -13.66915744807863, 0.009198286626149991, -16.721381584301806, -0.9844246164360609, -0.17930078343288125, -16.846701212116056, -18.322322900692853, -15.004976622329668, -13.930012438893979, -16.68519209270445, -17.016869866829687, 0.16775216546037028, -16.84029852945847, -1.0339370439970308, -16.642501609518565, -18.586204903923896, -18.733513889007767, -17.785354820665372, -2.2266469280004517, 0.8573918740612724, -0.9204477651117293, -2.577317781305356, -2.0408643375262585, -2.470058837008553, -2.6377880314225584, -16.394105892148275, -2.663734100797971, -15.404352742309458, 0.08468152286525547, -2.3411541009311927, -16.444639828953544, 1.2769152385103721, 0.4508965986269062, 1.2614536272920038, -0.4029518923049822, -1.9402557779847731, -1.877286415693417, -16.62653786042427, -14.73104697528217, 1.326685403223753, -19.116381443531797, -17.871384908170626, -2.2464111636782964, -17.169914791189083, 1.108750696358352, 1.3113012262910126, -17.298258657187265, -13.924503825655528, 1.117538760916505, -0.19295153928398193, -15.99611252720924, -14.309796553397991, -18.400319033318816, -0.9085684840470236, -2.6794600701189704, -1.187094219229005, -14.46359252963518, -2.675802431101135, -16.767964202696515, -17.038290506830545, -16.840097007604587, -1.401120668397564, -0.12587405962421575, 0.8132759256966464, 0.8993888175972734, 0.9805627454885729, -15.424231867112045, -0.65894737292652, -1.1985905563397075, -17.525327025491887, -13.917112636598768, -1.8987101759112583, -16.359780773620795, 1.1699890173472614, -15.451258097724441, -0.8665441007165803, -17.348742143576825, -15.56792479732696, -0.157338488394199, -18.03008206220795, -15.64722259404379, -0.4891762176820936, 0.20937352906823273, -0.564134938825207, 0.31766315338127693, -18.375126534682625, -1.5784488564414416, -16.435782039472944, -16.90804486389148, -15.652961260385204, 0.7826677078703247, -16.16749403080121, -18.69598108556092, 0.010263562436775665, -16.146211197132683, -1.015243410416325, -15.998120928804807, 0.3298252119001069, 0.8187734600175178, -17.55621558700219, 0.5926898687484292, -1.3277578732883575, -0.9776735535368645, -18.13529299487983, -14.919600194419896, -16.081315385936627, -2.7989323755995543, 0.43122993576340357, 1.1708914996988815, 1.6241860888023574, 0.4367243148619581, -15.173293894409806, -1.5581573105405198, -14.802737974566874, -15.550326988029147, 0.5936399416263808, -16.402515741178902, -1.738489301199492, -18.06345826538699, -15.973326863975124, -2.5781047151878473, -19.347112013654666, 0.8070947837675063, -2.6616310367705465, 0.5432394494563685, -2.720572326995077, -16.471530636543704, -15.990173893377495, -2.5944806652741055, -18.80077537677266, 0.4844042810822828, 0.8498071050186268, 0.5901391855426723, 1.0056237232836696, -15.859641163364122, -16.2102906107546, -15.931469021072525, -17.141329634293655, 1.5337341417326105, 0.8681921146781897, -1.0544965696353672, 1.5767078985204959, 1.1353277469331555, 0.012994758590738715, 0.889918050637701, 0.7195567822553585, -17.262419610531097, -2.855020634374602, -0.7862496936123132, -18.111138331391615, 0.548357217098573, 1.563413297152362, -2.50095788122515, 0.9499761104959855, 0.9934796955822679, -14.916290355214343, -2.1916940182139353, -0.5584797082402516, -14.616731952015835, -1.993061302843672, -0.3177436267267426, 0.46640991742395205, -2.445514573301649, -1.443384113513023, -17.724248805464203, -1.010078556700102, -1.0595224133177097, 0.1684864718483731, -14.01515866465925, 1.0128311023115026, -13.765779158939653, -15.705113309813619, -15.084645683782576, 0.9895231421906627, -1.9536053837431677, -1.405997214653131, -1.6044803489150536, 1.0459143333709622, -0.7335759553466817, -16.655684113222335, -15.344235992743993, -17.586123680523112, -16.382412754974727, -17.229441491111565, -17.434967811866944, -16.09455169396925, -0.039048647627620066, -16.154231828884438, -0.8608574392770313, -16.45212690304595, -2.494100923220565, 0.6446502360540343, -1.3347791288225284, -15.475736149753704, -16.309005385028865, -15.121896013583802, -13.846303158112784, -15.1019084173263, 0.4173659253663646, -2.8639576997379925, 0.16811802087950026, -2.329205267108511, -2.162556619983671, -16.36455712523963, -18.164453858985024, 1.662950924428414, -15.866137993470895, -1.3970302565962698, 0.6643486366914739, -16.615973515983676, 1.5579483284557052, -1.4225466147162606, -17.33323208262921, -13.988124330349951, 0.2880494404039788, 0.1454311982102165, -18.06407996890629, 1.2814462545462468, -18.605881159268247, -1.643439173700417, 1.5789750008596102, -16.31852825778789, -16.045990913298848, -18.347084626994924, 0.9140521031961599, -0.24418010458396947, -18.451395135635682, -18.843221202462242, -1.0623831016747156, -16.549678827556814, -2.7583739433334906, -1.608944812215253, -19.23456961009542, -16.564048827522175, -15.127565950694155, -16.283650414702855, 0.900610845847004, -1.787780573298647, -1.6147887363635258, -1.0128682377513882, -16.83159246964844, -0.6547454782467024, -1.868214791844789, -2.7388361743690264, 0.19299875624760066, -2.1579999945744075, -0.5613771932262721, -1.375230808016362, -0.591038709277452, -14.844382109039616, -15.865373051590797, -2.1565672697197336, -0.8252735904059083, -16.268964716322657, -2.6952519615086503, -17.53784359601929, 0.40649883435556716, -18.621099508135046, -18.087586696388477, -2.238654428402625, -19.303680711138274, -17.357618282371607, 1.5275206081177242, -0.22291509603213633, -14.95430183004242, -15.065714991867186, 0.8965518934795451, 0.1870554984802561, -0.5233228020183467, -15.434424244208458, -2.4900779470772956, -16.845278456800152, -16.699143617655892, -16.708408834998387, -17.761099466440843, -16.118946728149208, -17.560838817771955, -1.3970302565962698, -2.75926992682775, -2.816863511349892, -2.893313120877687, -16.62122763167746, 1.1773562072493373, -2.318322793430173, -0.09988426141960448, -1.7099754311644952, -14.557724267300795, 0.7947661814060407, -1.1996589868619003, -18.882978397245967, -0.7843284506950489, -14.176676575451296, -1.2968947280565504, -15.871694475514118, -17.549557639412395, 0.7065701926975804, -18.572766210873308, 0.6098544180133114, -1.009981790072434, -0.6663070286358768, 0.7197564400336125, -0.9013996798907268, -2.266515302316533, -1.436462811635591, -16.336608338703023, 0.5490521984582506, -0.5150880456888036, -18.66536022939633, -15.826311168426063, -14.677477611203916, -16.59833893176279, -18.53781008516192, 1.0878876575474525, -14.998776161361638, -16.88546364266086, -18.07664747475125, -2.1487652778426254, -17.342895836676526, 0.4805099736854646, -2.026081913586788, -17.95179466870701, -15.079860938283225]}, {\"mode\": \"lines\", \"name\": \"theorerical\", \"type\": \"scatter\", \"x\": [0.5180156326278651, -15.487883394602115, 1.0111313546180623, -2.8916606581120186, 0.6708721475167292, -0.5286204216482538, -18.566117981949482, -17.376048716480167, -13.666913525713873, 0.006484239452226211, -16.729943614182762, -0.9846670252453802, -0.17956645925596532, -16.840802413867415, -18.31105532049795, -14.99946715580259, -13.922003826128464, -16.68586823040625, -17.001643808908938, 0.16746689639643916, -16.829744836881773, -1.0325421950578604, -16.62210187296442, -18.545003266368255, -18.705816651854125, -17.74923323833235, -2.222460486302428, 0.8609592883933107, -0.9240522097684225, -2.5868161199833817, -2.0413830409962355, -2.479920177102223, -2.643592567737596, -16.390565050546964, -2.6674665607861616, -15.383052969243476, 0.08511239976460246, -2.3427921293269827, -16.407284358560908, 1.284389800591683, 0.44907168022684524, 1.2626059833572616, -0.4023572383766885, -1.9418493542954685, -1.8671382285665536, -16.626720108692368, -14.726617652224919, 1.3387230556660643, -19.062191220420047, -17.8772062418794, -2.252271072906124, -17.15294354183099, 1.1133928142021843, 1.3165538004702482, -17.293285545451393, -13.929078224509439, 1.115762518751469, -0.1938660508634557, -15.984648715650692, -14.29061256994862, -18.39370093040654, -0.9127067885358803, -2.6729274198340245, -1.1840817257571914, -14.44923592184425, -2.686643533502811, -16.763464570796224, -17.032990894240424, -16.830624018369864, -1.3957356942083485, -0.12595543649075283, 0.8158879730270859, 0.9014898855820409, 0.980199842345112, -15.41922119244331, -0.6605209271878465, -1.1972503619926262, -17.498747234298595, -13.911084056972966, -1.9060749931248675, -16.34820876720858, 1.1799389992304201, -15.454450569241402, -0.8659233173243396, -17.335997624162623, -15.54923811812213, -0.15742804917425146, -18.028331853785104, -15.651320895541453, -0.49106970868122807, 0.20966769985957853, -0.5641546385923488, 0.3166380303213247, -18.36159614121846, -1.5745159897215175, -16.416133258589205, -16.887337822018257, -15.641760134992902, 0.7889587228193893, -16.145362627252258, -18.697838511188998, 0.010410160233963503, -16.1304213053097, -1.0184278285753674, -15.986251947747222, 0.3319881262829086, 0.8156302244939342, -17.54977511695853, 0.5922986933432005, -1.325780378154787, -0.9776613266185498, -18.119191317570845, -14.91246585873845, -16.066936838348468, -2.8082268669236585, 0.43182493859645366, 1.172763704832012, 1.634289627892704, 0.43729086878123696, -15.160665530292386, -1.5612751653354346, -14.804962095869856, -15.544744699074604, 0.5961525592424052, -16.3869636033304, -1.7523147950870268, -18.08167171730492, -15.980299274952413, -2.578295296469173, -19.324312420627873, 0.8092763896045662, -2.638368896835178, 0.5436002178233416, -2.7124808584066145, -16.477887098694392, -15.977425481258283, -2.567912872922684, -18.78810787014943, 0.48520014794261596, 0.8562203864378735, 0.5894795307636579, 1.0085533345721753, -15.85271970801516, -16.18894353544588, -15.926576405595771, -17.14303447292098, 1.5430498456528112, 0.8646660158403301, -1.0581981928876212, 1.5819825949035344, 1.1405745294885206, 0.012887561285697987, 0.8951150687191611, 0.7184584865505531, -17.252906952815902, -2.8390517702940956, -0.7851286879301372, -18.099951318918805, 0.5336957808903745, 1.575081122838898, -2.4961337817993656, 0.9544290610769436, 0.9920741556709031, -14.890447356478484, -2.200669195287134, -0.5599638999238008, -14.597055462794108, -2.011146576506476, -0.3180072574726261, 0.46692379169373355, -2.4526777891068914, -1.4489704129816905, -17.694440879598595, -1.0169415391426617, -1.064296966380843, 0.16771360534969856, -13.996827066248605, 1.0137951190504564, -13.74857097063097, -15.700106879700314, -15.079699273802113, 0.9882840407198529, -1.9643437228564462, -1.413911311831368, -1.6032370160535958, 1.0489300139782474, -0.7238690610059, -16.632433724577822, -15.332056209289869, -17.575639098983366, -16.365233569918892, -17.220204779579568, -17.408349234730284, -16.072374110958293, -0.03888275555227381, -16.139406462275605, -0.8656205746075895, -16.44403058232244, -2.4896051912399058, 0.643357034919609, -1.3362667946470541, -15.461398915013168, -16.29179061133031, -15.123745933329399, -13.826300699712155, -15.087538224399722, 0.417950493277373, -2.894087001578667, 0.16923101529038792, -2.3303742929419187, -2.1770667079142165, -16.3425644662552, -18.135432843005855, 1.6708491278661952, -15.853478139559787, -1.3991744433845292, 0.6643123191784497, -16.609224932966892, 1.5689330073852492, -1.421850616997205, -17.325568850287507, -13.966997940746005, 0.2880173526720293, 0.14409375929737417, -18.050974427430944, 1.2900106061006635, -18.59563490147702, -1.6362830306425147, 1.5826775720951471, -16.29628082876972, -16.036250555005765, -18.348460526371298, 0.9133448138010226, -0.24429577298963884, -18.43308533766724, -18.825249045301184, -1.0558695802309643, -16.54158475910951, -2.7535685205883955, -1.6059630412880352, -19.19488700600371, -16.55116946272659, -15.115591388564809, -16.283397099525683, 0.9068576625771928, -1.790001895705928, -1.6281837143603353, -1.0185451488512185, -16.82195347082306, -0.65685055234041, -1.8636041891704254, -2.749850149863725, 0.19287007893816996, -2.165611298473744, -0.5669486013518067, -1.3735771667379155, -0.5898403699534065, -14.841979981924318, -15.841108804042623, -2.1489030116326218, -0.8279187912848586, -16.250200455582895, -2.6948382009784035, -17.52546505097055, 0.4064512131051192, -18.61027636830493, -18.04404446277968, -2.2485575672121043, -19.304274078188495, -17.34266720800522, 1.5317004004163697, -0.22316494899670217, -14.928716226976208, -15.081509366213895, 0.8983379716410331, 0.1867840714376667, -0.5220390610942354, -15.442648377103044, -2.504681101163952, -16.837441026956355, -16.71285958082316, -16.698069716595118, -17.75587263009009, -16.11046477815477, -17.55928319065992, -1.3991744433845292, -2.7717217566590513, -2.816346947826462, -2.902285159993283, -16.58370042766164, 1.181829016179088, -2.3275629324711042, -0.1007374974208377, -1.7203721539214971, -14.554935079908565, 0.7960567375909715, -1.1973736697008068, -18.87872122275962, -0.7863010214331076, -14.155148567870402, -1.2929516502219003, -15.856842603595277, -17.547286576546604, 0.7064069461107058, -18.555602468830134, 0.609876181508455, -1.0144293529529063, -0.6646491721092467, 0.719530020257867, -0.9053568305889781, -2.27566408751494, -1.4396491098293676, -16.315699768165832, 0.5521396118533415, -0.5162515971186183, -18.65550329249182, -15.817403594999623, -14.680384366596236, -16.587550207801577, -18.53202651595433, 1.0915876936728446, -14.986128842977596, -16.86923157529254, -18.05211356206087, -2.149898231904523, -17.34253349048034, 0.4825644663629877, -2.023565165763533, -17.941139503559256, -15.072965241113792], \"y\": [0.5180156326278651, -15.487883394602115, 1.0111313546180623, -2.8916606581120186, 0.6708721475167292, -0.5286204216482538, -18.566117981949482, -17.376048716480167, -13.666913525713873, 0.006484239452226211, -16.729943614182762, -0.9846670252453802, -0.17956645925596532, -16.840802413867415, -18.31105532049795, -14.99946715580259, -13.922003826128464, -16.68586823040625, -17.001643808908938, 0.16746689639643916, -16.829744836881773, -1.0325421950578604, -16.62210187296442, -18.545003266368255, -18.705816651854125, -17.74923323833235, -2.222460486302428, 0.8609592883933107, -0.9240522097684225, -2.5868161199833817, -2.0413830409962355, -2.479920177102223, -2.643592567737596, -16.390565050546964, -2.6674665607861616, -15.383052969243476, 0.08511239976460246, -2.3427921293269827, -16.407284358560908, 1.284389800591683, 0.44907168022684524, 1.2626059833572616, -0.4023572383766885, -1.9418493542954685, -1.8671382285665536, -16.626720108692368, -14.726617652224919, 1.3387230556660643, -19.062191220420047, -17.8772062418794, -2.252271072906124, -17.15294354183099, 1.1133928142021843, 1.3165538004702482, -17.293285545451393, -13.929078224509439, 1.115762518751469, -0.1938660508634557, -15.984648715650692, -14.29061256994862, -18.39370093040654, -0.9127067885358803, -2.6729274198340245, -1.1840817257571914, -14.44923592184425, -2.686643533502811, -16.763464570796224, -17.032990894240424, -16.830624018369864, -1.3957356942083485, -0.12595543649075283, 0.8158879730270859, 0.9014898855820409, 0.980199842345112, -15.41922119244331, -0.6605209271878465, -1.1972503619926262, -17.498747234298595, -13.911084056972966, -1.9060749931248675, -16.34820876720858, 1.1799389992304201, -15.454450569241402, -0.8659233173243396, -17.335997624162623, -15.54923811812213, -0.15742804917425146, -18.028331853785104, -15.651320895541453, -0.49106970868122807, 0.20966769985957853, -0.5641546385923488, 0.3166380303213247, -18.36159614121846, -1.5745159897215175, -16.416133258589205, -16.887337822018257, -15.641760134992902, 0.7889587228193893, -16.145362627252258, -18.697838511188998, 0.010410160233963503, -16.1304213053097, -1.0184278285753674, -15.986251947747222, 0.3319881262829086, 0.8156302244939342, -17.54977511695853, 0.5922986933432005, -1.325780378154787, -0.9776613266185498, -18.119191317570845, -14.91246585873845, -16.066936838348468, -2.8082268669236585, 0.43182493859645366, 1.172763704832012, 1.634289627892704, 0.43729086878123696, -15.160665530292386, -1.5612751653354346, -14.804962095869856, -15.544744699074604, 0.5961525592424052, -16.3869636033304, -1.7523147950870268, -18.08167171730492, -15.980299274952413, -2.578295296469173, -19.324312420627873, 0.8092763896045662, -2.638368896835178, 0.5436002178233416, -2.7124808584066145, -16.477887098694392, -15.977425481258283, -2.567912872922684, -18.78810787014943, 0.48520014794261596, 0.8562203864378735, 0.5894795307636579, 1.0085533345721753, -15.85271970801516, -16.18894353544588, -15.926576405595771, -17.14303447292098, 1.5430498456528112, 0.8646660158403301, -1.0581981928876212, 1.5819825949035344, 1.1405745294885206, 0.012887561285697987, 0.8951150687191611, 0.7184584865505531, -17.252906952815902, -2.8390517702940956, -0.7851286879301372, -18.099951318918805, 0.5336957808903745, 1.575081122838898, -2.4961337817993656, 0.9544290610769436, 0.9920741556709031, -14.890447356478484, -2.200669195287134, -0.5599638999238008, -14.597055462794108, -2.011146576506476, -0.3180072574726261, 0.46692379169373355, -2.4526777891068914, -1.4489704129816905, -17.694440879598595, -1.0169415391426617, -1.064296966380843, 0.16771360534969856, -13.996827066248605, 1.0137951190504564, -13.74857097063097, -15.700106879700314, -15.079699273802113, 0.9882840407198529, -1.9643437228564462, -1.413911311831368, -1.6032370160535958, 1.0489300139782474, -0.7238690610059, -16.632433724577822, -15.332056209289869, -17.575639098983366, -16.365233569918892, -17.220204779579568, -17.408349234730284, -16.072374110958293, -0.03888275555227381, -16.139406462275605, -0.8656205746075895, -16.44403058232244, -2.4896051912399058, 0.643357034919609, -1.3362667946470541, -15.461398915013168, -16.29179061133031, -15.123745933329399, -13.826300699712155, -15.087538224399722, 0.417950493277373, -2.894087001578667, 0.16923101529038792, -2.3303742929419187, -2.1770667079142165, -16.3425644662552, -18.135432843005855, 1.6708491278661952, -15.853478139559787, -1.3991744433845292, 0.6643123191784497, -16.609224932966892, 1.5689330073852492, -1.421850616997205, -17.325568850287507, -13.966997940746005, 0.2880173526720293, 0.14409375929737417, -18.050974427430944, 1.2900106061006635, -18.59563490147702, -1.6362830306425147, 1.5826775720951471, -16.29628082876972, -16.036250555005765, -18.348460526371298, 0.9133448138010226, -0.24429577298963884, -18.43308533766724, -18.825249045301184, -1.0558695802309643, -16.54158475910951, -2.7535685205883955, -1.6059630412880352, -19.19488700600371, -16.55116946272659, -15.115591388564809, -16.283397099525683, 0.9068576625771928, -1.790001895705928, -1.6281837143603353, -1.0185451488512185, -16.82195347082306, -0.65685055234041, -1.8636041891704254, -2.749850149863725, 0.19287007893816996, -2.165611298473744, -0.5669486013518067, -1.3735771667379155, -0.5898403699534065, -14.841979981924318, -15.841108804042623, -2.1489030116326218, -0.8279187912848586, -16.250200455582895, -2.6948382009784035, -17.52546505097055, 0.4064512131051192, -18.61027636830493, -18.04404446277968, -2.2485575672121043, -19.304274078188495, -17.34266720800522, 1.5317004004163697, -0.22316494899670217, -14.928716226976208, -15.081509366213895, 0.8983379716410331, 0.1867840714376667, -0.5220390610942354, -15.442648377103044, -2.504681101163952, -16.837441026956355, -16.71285958082316, -16.698069716595118, -17.75587263009009, -16.11046477815477, -17.55928319065992, -1.3991744433845292, -2.7717217566590513, -2.816346947826462, -2.902285159993283, -16.58370042766164, 1.181829016179088, -2.3275629324711042, -0.1007374974208377, -1.7203721539214971, -14.554935079908565, 0.7960567375909715, -1.1973736697008068, -18.87872122275962, -0.7863010214331076, -14.155148567870402, -1.2929516502219003, -15.856842603595277, -17.547286576546604, 0.7064069461107058, -18.555602468830134, 0.609876181508455, -1.0144293529529063, -0.6646491721092467, 0.719530020257867, -0.9053568305889781, -2.27566408751494, -1.4396491098293676, -16.315699768165832, 0.5521396118533415, -0.5162515971186183, -18.65550329249182, -15.817403594999623, -14.680384366596236, -16.587550207801577, -18.53202651595433, 1.0915876936728446, -14.986128842977596, -16.86923157529254, -18.05211356206087, -2.149898231904523, -17.34253349048034, 0.4825644663629877, -2.023565165763533, -17.941139503559256, -15.072965241113792]}],\n",
              "                        {\"template\": {\"data\": {\"bar\": [{\"error_x\": {\"color\": \"#2a3f5f\"}, \"error_y\": {\"color\": \"#2a3f5f\"}, \"marker\": {\"line\": {\"color\": \"#E5ECF6\", \"width\": 0.5}}, \"type\": \"bar\"}], \"barpolar\": [{\"marker\": {\"line\": {\"color\": \"#E5ECF6\", \"width\": 0.5}}, \"type\": \"barpolar\"}], \"carpet\": [{\"aaxis\": {\"endlinecolor\": \"#2a3f5f\", \"gridcolor\": \"white\", \"linecolor\": \"white\", \"minorgridcolor\": \"white\", \"startlinecolor\": \"#2a3f5f\"}, \"baxis\": {\"endlinecolor\": \"#2a3f5f\", \"gridcolor\": \"white\", \"linecolor\": \"white\", \"minorgridcolor\": \"white\", \"startlinecolor\": \"#2a3f5f\"}, \"type\": \"carpet\"}], \"choropleth\": [{\"colorbar\": {\"outlinewidth\": 0, \"ticks\": \"\"}, \"type\": \"choropleth\"}], \"contour\": [{\"colorbar\": {\"outlinewidth\": 0, \"ticks\": \"\"}, \"colorscale\": [[0.0, \"#0d0887\"], [0.1111111111111111, \"#46039f\"], [0.2222222222222222, \"#7201a8\"], [0.3333333333333333, \"#9c179e\"], [0.4444444444444444, \"#bd3786\"], [0.5555555555555556, \"#d8576b\"], [0.6666666666666666, \"#ed7953\"], [0.7777777777777778, \"#fb9f3a\"], [0.8888888888888888, \"#fdca26\"], [1.0, \"#f0f921\"]], \"type\": \"contour\"}], \"contourcarpet\": [{\"colorbar\": {\"outlinewidth\": 0, \"ticks\": \"\"}, \"type\": \"contourcarpet\"}], \"heatmap\": [{\"colorbar\": {\"outlinewidth\": 0, \"ticks\": \"\"}, \"colorscale\": [[0.0, \"#0d0887\"], [0.1111111111111111, \"#46039f\"], [0.2222222222222222, \"#7201a8\"], [0.3333333333333333, \"#9c179e\"], [0.4444444444444444, \"#bd3786\"], [0.5555555555555556, \"#d8576b\"], [0.6666666666666666, \"#ed7953\"], [0.7777777777777778, \"#fb9f3a\"], [0.8888888888888888, \"#fdca26\"], [1.0, \"#f0f921\"]], \"type\": \"heatmap\"}], \"heatmapgl\": [{\"colorbar\": {\"outlinewidth\": 0, \"ticks\": \"\"}, \"colorscale\": [[0.0, \"#0d0887\"], [0.1111111111111111, \"#46039f\"], [0.2222222222222222, \"#7201a8\"], [0.3333333333333333, \"#9c179e\"], [0.4444444444444444, \"#bd3786\"], [0.5555555555555556, \"#d8576b\"], [0.6666666666666666, \"#ed7953\"], [0.7777777777777778, \"#fb9f3a\"], [0.8888888888888888, \"#fdca26\"], [1.0, \"#f0f921\"]], \"type\": \"heatmapgl\"}], \"histogram\": [{\"marker\": {\"colorbar\": {\"outlinewidth\": 0, \"ticks\": \"\"}}, \"type\": \"histogram\"}], \"histogram2d\": [{\"colorbar\": {\"outlinewidth\": 0, \"ticks\": \"\"}, \"colorscale\": [[0.0, \"#0d0887\"], [0.1111111111111111, \"#46039f\"], [0.2222222222222222, \"#7201a8\"], [0.3333333333333333, \"#9c179e\"], [0.4444444444444444, \"#bd3786\"], [0.5555555555555556, \"#d8576b\"], [0.6666666666666666, \"#ed7953\"], [0.7777777777777778, \"#fb9f3a\"], [0.8888888888888888, \"#fdca26\"], [1.0, \"#f0f921\"]], \"type\": \"histogram2d\"}], \"histogram2dcontour\": [{\"colorbar\": {\"outlinewidth\": 0, \"ticks\": \"\"}, \"colorscale\": [[0.0, \"#0d0887\"], [0.1111111111111111, \"#46039f\"], [0.2222222222222222, \"#7201a8\"], [0.3333333333333333, \"#9c179e\"], [0.4444444444444444, \"#bd3786\"], [0.5555555555555556, \"#d8576b\"], [0.6666666666666666, \"#ed7953\"], [0.7777777777777778, \"#fb9f3a\"], [0.8888888888888888, \"#fdca26\"], [1.0, \"#f0f921\"]], \"type\": \"histogram2dcontour\"}], \"mesh3d\": [{\"colorbar\": {\"outlinewidth\": 0, \"ticks\": \"\"}, \"type\": \"mesh3d\"}], \"parcoords\": [{\"line\": {\"colorbar\": {\"outlinewidth\": 0, \"ticks\": \"\"}}, \"type\": \"parcoords\"}], \"pie\": [{\"automargin\": true, \"type\": \"pie\"}], \"scatter\": [{\"marker\": {\"colorbar\": {\"outlinewidth\": 0, \"ticks\": \"\"}}, \"type\": \"scatter\"}], \"scatter3d\": [{\"line\": {\"colorbar\": {\"outlinewidth\": 0, \"ticks\": \"\"}}, \"marker\": {\"colorbar\": {\"outlinewidth\": 0, \"ticks\": \"\"}}, \"type\": \"scatter3d\"}], \"scattercarpet\": [{\"marker\": {\"colorbar\": {\"outlinewidth\": 0, \"ticks\": \"\"}}, \"type\": \"scattercarpet\"}], \"scattergeo\": [{\"marker\": {\"colorbar\": {\"outlinewidth\": 0, \"ticks\": \"\"}}, \"type\": \"scattergeo\"}], \"scattergl\": [{\"marker\": {\"colorbar\": {\"outlinewidth\": 0, \"ticks\": \"\"}}, \"type\": \"scattergl\"}], \"scattermapbox\": [{\"marker\": {\"colorbar\": {\"outlinewidth\": 0, \"ticks\": \"\"}}, \"type\": \"scattermapbox\"}], \"scatterpolar\": [{\"marker\": {\"colorbar\": {\"outlinewidth\": 0, \"ticks\": \"\"}}, \"type\": \"scatterpolar\"}], \"scatterpolargl\": [{\"marker\": {\"colorbar\": {\"outlinewidth\": 0, \"ticks\": \"\"}}, \"type\": \"scatterpolargl\"}], \"scatterternary\": [{\"marker\": {\"colorbar\": {\"outlinewidth\": 0, \"ticks\": \"\"}}, \"type\": \"scatterternary\"}], \"surface\": [{\"colorbar\": {\"outlinewidth\": 0, \"ticks\": \"\"}, \"colorscale\": [[0.0, \"#0d0887\"], [0.1111111111111111, \"#46039f\"], [0.2222222222222222, \"#7201a8\"], [0.3333333333333333, \"#9c179e\"], [0.4444444444444444, \"#bd3786\"], [0.5555555555555556, \"#d8576b\"], [0.6666666666666666, \"#ed7953\"], [0.7777777777777778, \"#fb9f3a\"], [0.8888888888888888, \"#fdca26\"], [1.0, \"#f0f921\"]], \"type\": \"surface\"}], \"table\": [{\"cells\": {\"fill\": {\"color\": \"#EBF0F8\"}, \"line\": {\"color\": \"white\"}}, \"header\": {\"fill\": {\"color\": \"#C8D4E3\"}, \"line\": {\"color\": \"white\"}}, \"type\": \"table\"}]}, \"layout\": {\"annotationdefaults\": {\"arrowcolor\": \"#2a3f5f\", \"arrowhead\": 0, \"arrowwidth\": 1}, \"coloraxis\": {\"colorbar\": {\"outlinewidth\": 0, \"ticks\": \"\"}}, \"colorscale\": {\"diverging\": [[0, \"#8e0152\"], [0.1, \"#c51b7d\"], [0.2, \"#de77ae\"], [0.3, \"#f1b6da\"], [0.4, \"#fde0ef\"], [0.5, \"#f7f7f7\"], [0.6, \"#e6f5d0\"], [0.7, \"#b8e186\"], [0.8, \"#7fbc41\"], [0.9, \"#4d9221\"], [1, \"#276419\"]], \"sequential\": [[0.0, \"#0d0887\"], [0.1111111111111111, \"#46039f\"], [0.2222222222222222, \"#7201a8\"], [0.3333333333333333, \"#9c179e\"], [0.4444444444444444, \"#bd3786\"], [0.5555555555555556, \"#d8576b\"], [0.6666666666666666, \"#ed7953\"], [0.7777777777777778, \"#fb9f3a\"], [0.8888888888888888, \"#fdca26\"], [1.0, \"#f0f921\"]], \"sequentialminus\": [[0.0, \"#0d0887\"], [0.1111111111111111, \"#46039f\"], [0.2222222222222222, \"#7201a8\"], [0.3333333333333333, \"#9c179e\"], [0.4444444444444444, \"#bd3786\"], [0.5555555555555556, \"#d8576b\"], [0.6666666666666666, \"#ed7953\"], [0.7777777777777778, \"#fb9f3a\"], [0.8888888888888888, \"#fdca26\"], [1.0, \"#f0f921\"]]}, \"colorway\": [\"#636efa\", \"#EF553B\", \"#00cc96\", \"#ab63fa\", \"#FFA15A\", \"#19d3f3\", \"#FF6692\", \"#B6E880\", \"#FF97FF\", \"#FECB52\"], \"font\": {\"color\": \"#2a3f5f\"}, \"geo\": {\"bgcolor\": \"white\", \"lakecolor\": \"white\", \"landcolor\": \"#E5ECF6\", \"showlakes\": true, \"showland\": true, \"subunitcolor\": \"white\"}, \"hoverlabel\": {\"align\": \"left\"}, \"hovermode\": \"closest\", \"mapbox\": {\"style\": \"light\"}, \"paper_bgcolor\": \"white\", \"plot_bgcolor\": \"#E5ECF6\", \"polar\": {\"angularaxis\": {\"gridcolor\": \"white\", \"linecolor\": \"white\", \"ticks\": \"\"}, \"bgcolor\": \"#E5ECF6\", \"radialaxis\": {\"gridcolor\": \"white\", \"linecolor\": \"white\", \"ticks\": \"\"}}, \"scene\": {\"xaxis\": {\"backgroundcolor\": \"#E5ECF6\", \"gridcolor\": \"white\", \"gridwidth\": 2, \"linecolor\": \"white\", \"showbackground\": true, \"ticks\": \"\", \"zerolinecolor\": \"white\"}, \"yaxis\": {\"backgroundcolor\": \"#E5ECF6\", \"gridcolor\": \"white\", \"gridwidth\": 2, \"linecolor\": \"white\", \"showbackground\": true, \"ticks\": \"\", \"zerolinecolor\": \"white\"}, \"zaxis\": {\"backgroundcolor\": \"#E5ECF6\", \"gridcolor\": \"white\", \"gridwidth\": 2, \"linecolor\": \"white\", \"showbackground\": true, \"ticks\": \"\", \"zerolinecolor\": \"white\"}}, \"shapedefaults\": {\"line\": {\"color\": \"#2a3f5f\"}}, \"ternary\": {\"aaxis\": {\"gridcolor\": \"white\", \"linecolor\": \"white\", \"ticks\": \"\"}, \"baxis\": {\"gridcolor\": \"white\", \"linecolor\": \"white\", \"ticks\": \"\"}, \"bgcolor\": \"#E5ECF6\", \"caxis\": {\"gridcolor\": \"white\", \"linecolor\": \"white\", \"ticks\": \"\"}}, \"title\": {\"x\": 0.05}, \"xaxis\": {\"automargin\": true, \"gridcolor\": \"white\", \"linecolor\": \"white\", \"ticks\": \"\", \"title\": {\"standoff\": 15}, \"zerolinecolor\": \"white\", \"zerolinewidth\": 2}, \"yaxis\": {\"automargin\": true, \"gridcolor\": \"white\", \"linecolor\": \"white\", \"ticks\": \"\", \"title\": {\"standoff\": 15}, \"zerolinecolor\": \"white\", \"zerolinewidth\": 2}}}, \"title\": {\"text\": \"Energies\"}, \"xaxis\": {\"title\": {\"text\": \"Theoretical\"}}, \"yaxis\": {\"title\": {\"text\": \"Empirical\"}}},\n",
              "                        {\"responsive\": true}\n",
              "                    ).then(function(){\n",
              "                            \n",
              "var gd = document.getElementById('e43395b4-7846-4e83-a6fa-358ce99fe35a');\n",
              "var x = new MutationObserver(function (mutations, observer) {{\n",
              "        var display = window.getComputedStyle(gd).display;\n",
              "        if (!display || display === 'none') {{\n",
              "            console.log([gd, 'removed!']);\n",
              "            Plotly.purge(gd);\n",
              "            observer.disconnect();\n",
              "        }}\n",
              "}});\n",
              "\n",
              "// Listen for the removal of the full notebook cells\n",
              "var notebookContainer = gd.closest('#notebook-container');\n",
              "if (notebookContainer) {{\n",
              "    x.observe(notebookContainer, {childList: true});\n",
              "}}\n",
              "\n",
              "// Listen for the clearing of the current output cell\n",
              "var outputEl = gd.closest('.output');\n",
              "if (outputEl) {{\n",
              "    x.observe(outputEl, {childList: true});\n",
              "}}\n",
              "\n",
              "                        })\n",
              "                };\n",
              "                \n",
              "            </script>\n",
              "        </div>\n",
              "</body>\n",
              "</html>"
            ]
          },
          "metadata": {
            "tags": []
          }
        }
      ]
    },
    {
      "cell_type": "markdown",
      "metadata": {
        "id": "Mt_P9MmiWCkN"
      },
      "source": [
        "## Test with Harmonic Oscillator"
      ]
    },
    {
      "cell_type": "code",
      "metadata": {
        "id": "IemdBVP3Nl5T",
        "cellView": "form"
      },
      "source": [
        "#@title Class to generate data of the Harmonic Oscillator\n",
        "#@markdown Double click to see the code\n",
        "import numpy as np\n",
        "from scipy.special import eval_hermite\n",
        "import math \n",
        "\n",
        "class Harmonic_Oscillator2D:\n",
        "\n",
        "  def __init__(self, omega_min = 0.001, omega_max = 1, x0_min = -0.5, x0_max = 0.5,\n",
        "               hbar = 1, m = 1, xmin = -8, xmax = 8, n_points = 200):\n",
        "    self.omega_min = omega_min # omega ~ U(omega_min, omega_max)\n",
        "    self.omega_max = omega_max\n",
        "    self.x0_min = x0_min\n",
        "    self.x0_max = x0_max\n",
        "    self.hbar = hbar\n",
        "    self.m = m\n",
        "    self.n_points = n_points # Number of points of the grid \n",
        "    self.omega_x=np.array([None])\n",
        "    self.omega_y = np.array([None])\n",
        "    self.x0 = np.array([None])\n",
        "    self.y0 = np.array([None])\n",
        "    self.xmin = xmin\n",
        "    self.xmax = xmax\n",
        "\n",
        "\n",
        "  def generate_omega(self, N):\n",
        "    self.omega_x = np.random.uniform(self.omega_min, self.omega_max, N)\n",
        "    self.omega_y = np.random.uniform(self.omega_min, self.omega_max, N)\n",
        "    self.x0 = np.random.uniform(self.x0_min, self.x0_max, N)\n",
        "    self.y0 = np.random.uniform(self.x0_min, self.x0_max, N)\n",
        "    \n",
        "  def order_energy(self,n_state, omegax, omegay):\n",
        "    \"\"\"\n",
        "    Given omegax, omegay, we find the n_state-th excited state\n",
        "    Args:\n",
        "      n_state (int): Number of excited state\n",
        "      omegax (float): omega in the x direction\n",
        "      omegay (float): omega in the y direction\n",
        "    Returns:\n",
        "      (int) nx of the n_state excited state\n",
        "      (int) ny of the n_state excited state\n",
        "    \"\"\"\n",
        "\n",
        "    # With these omegas we create a list of the pairs (nx,ny) ordered by energy E = hbar*(omega_x*(nx+1/2) + omega_y*(ny+1/2))\n",
        "    # Up to n_state (so nx,ny<= n_state), and then we order them by energy\n",
        "    nxs = np.zeros((n_state+1)**2)\n",
        "    nys = np.zeros((n_state+1)**2)\n",
        "    Es = np.zeros((n_state+1)**2)\n",
        "    i=0\n",
        "    for nx in range(n_state+1):\n",
        "      for ny in range(n_state+1): \n",
        "          nxs[i] = nx\n",
        "          nys[i] = ny\n",
        "          Es[i] = self.hbar*(omegax*(nx+1/2) + omegay*(ny + 1/2))\n",
        "          i+=1\n",
        "    \n",
        "    idxs = np.argsort(Es)\n",
        "    nxs = nxs[idxs]\n",
        "    nys = nys[idxs]\n",
        "    return int(nxs[n_state]), int(nys[n_state])\n",
        "\n",
        "\n",
        "  def HO_wavefunction(self,n, x0, omega, n_points):\n",
        "      '''\n",
        "      Returns the nth eigenfunction of the harmonic oscillator in the points x\n",
        "      Args:\n",
        "        n (int): Energy level\n",
        "        x0 (float):  Value of x0\n",
        "        omega (float): Value of omega\n",
        "        n_points (int): Number of points between xmin and xmax\n",
        "      Returns:\n",
        "        phi_n (np.array): size n_points. Phi_n(x)\n",
        "      '''\n",
        "\n",
        "      x = np.arange(self.xmin, self.xmax, (self.xmax - self.xmin)/self.n_points)\n",
        "      sigma_inv = np.sqrt(self.m*omega/self.hbar)\n",
        "      all_x = (x - x0)*sigma_inv # It is a matrix of dim (num_x_points), \n",
        "      herm = eval_hermite(n, all_x) # H_n(x/sigma)\n",
        "      exp = np.exp(- all_x**2/2) # Exponential term\n",
        "      phi_n = exp*herm\n",
        "\n",
        "      potential = (x-x0)**2 * 1/2*self.m*omega**2\n",
        "\n",
        "      return phi_n, potential,x\n",
        "\n",
        "  def generate_data(self, N=None, n = 0, new_omega=True):\n",
        "    '''\n",
        "    Generates N random data points from the energetic level n\n",
        "    '''\n",
        "    if new_omega or (self.omega_x==None).any() or (self.omega_y==None).any() or (self.y0==None).any() or (self.x0==None).any():\n",
        "      self.generate_omega(N)\n",
        "\n",
        "    # Generate x and y wavefunctions\n",
        "    potential_x = np.zeros((N,n_points))\n",
        "    potential_y = np.zeros((N,n_points))\n",
        "    phi_x = np.zeros((N,n_points))\n",
        "    phi_y = np.zeros((N,n_points))\n",
        "    nxs = np.zeros(N)\n",
        "    nys = np.zeros(N)\n",
        "\n",
        "    for sample in range(N):\n",
        "      nx, ny = self.order_energy(n, self.omega_x[sample], self.omega_y[sample])\n",
        "      nxs[sample] = nx\n",
        "      nys[sample] = ny\n",
        "      p_x, pot_x, x = self.HO_wavefunction(nx, self.x0[sample], self.omega_x[sample], self.n_points)\n",
        "      p_y, pot_y, y = self.HO_wavefunction(ny, self.y0[sample], self.omega_y[sample], self.n_points)\n",
        "      phi_x[sample,:] = p_x\n",
        "      phi_y[sample,:] = p_y\n",
        "      potential_x[sample,:] = pot_x\n",
        "      potential_y[sample,:] = pot_y\n",
        "\n",
        "    phi = np.zeros((N, self.n_points, self.n_points))\n",
        "    potential = np.zeros((N, self.n_points, self.n_points))\n",
        "    ones = np.repeat(1,self.n_points)\n",
        "    h = (self.xmax - self.xmin)/self.n_points\n",
        "    for i in range(N):\n",
        "      phi_xi = np.tensordot(phi_x[i,:], ones, axes=0).T\n",
        "      phi_yi = np.tensordot(phi_y[i,:], ones, axes=0)\n",
        "      phi_i = phi_xi*phi_yi #np.outer(phi_x[i,:], phi_y[i,:].T)\n",
        "      C = 1./np.sqrt(np.sum(phi_i*phi_i*h*h)) # Normalization constant\n",
        "      phi[i,:,:] = C*phi_i\n",
        "      # Potential\n",
        "      pot_x = np.tensordot(potential_x[i,:], ones, axes=0).T\n",
        "      pot_y = np.tensordot(potential_y[i,:], ones, axes=0)\n",
        "      potential[i,:,:] = pot_x + pot_y\n",
        "\n",
        "    return phi, x, self.omega_x, self.omega_y, self.x0, self.y0, potential, nxs, nys\n",
        "\n",
        "  def get_energy(self, n, omega_x=np.array([None]), omega_y=np.array([None])):\n",
        "    if (omega_x==None).any() or (omega_y==None).any():\n",
        "      omega_x = self.omega_x\n",
        "      omega_y = self.omega_y\n",
        "    nx,ny = get_nx_ny(n)\n",
        "    E = self.hbar*(omega_x*(nx+1/2) + omega_y*(ny + 1/2))\n",
        "    return E.flatten()\n",
        "\n"
      ],
      "execution_count": 24,
      "outputs": []
    },
    {
      "cell_type": "code",
      "metadata": {
        "id": "eBuSYr4XXlkg"
      },
      "source": [
        "#@title Generate H.O data { form-width: \"30%\" }\n",
        "ho = Harmonic_Oscillator2D(n_points =n_points, xmin=-8, xmax=8, omega_min=0.3, \n",
        "                           omega_max = 1.0, x0_min = -0.05, x0_max = 0.05)\n",
        "\n",
        "phi_0, x, omega_x, omega_y, x0, y0, potential, nxs, nys = ho.generate_data(500,0)"
      ],
      "execution_count": 25,
      "outputs": []
    },
    {
      "cell_type": "code",
      "metadata": {
        "id": "N6FInLeDfSm4",
        "cellView": "form",
        "colab": {
          "base_uri": "https://localhost:8080/",
          "height": 350
        },
        "outputId": "4a93e1d0-6bef-44b2-d117-e6f684d8541a"
      },
      "source": [
        "#@title Example of potential and wavefunction\n",
        "import matplotlib.pyplot as plt\n",
        "from matplotlib import ticker, cm\n",
        "\n",
        "idx = 0\n",
        "fig, (ax1, ax2) = plt.subplots(1, 2,figsize=(15,5))\n",
        "\n",
        "cs1 = ax1.contourf(phi_0[idx,:,:])\n",
        "ax1.set_title(\"Wavefunction\")\n",
        "ax1.set_xlabel(\"x\")\n",
        "ax1.set_ylabel(\"y\")\n",
        "cs2 = ax2.contourf(potential[idx,:,:])\n",
        "ax2.set_title(\"Potential\")\n",
        "ax2.set_xlabel(\"x\")\n",
        "ax2.set_ylabel(\"y\")\n",
        "cbar1 = fig.colorbar(cs1, ax=ax1)\n",
        "cbar2 = fig.colorbar(cs2, ax=ax2)\n",
        "plt.show()"
      ],
      "execution_count": 26,
      "outputs": [
        {
          "output_type": "display_data",
          "data": {
            "image/png": "[encoded data removed]",
            "text/plain": [
              "<Figure size 1080x360 with 4 Axes>"
            ]
          },
          "metadata": {
            "tags": [],
            "needs_background": "light"
          }
        }
      ]
    },
    {
      "cell_type": "code",
      "metadata": {
        "id": "aU0QTXDFXlZ0",
        "colab": {
          "base_uri": "https://localhost:8080/"
        },
        "outputId": "c286d1e1-c565-4cf1-b82d-f9cd41876d44"
      },
      "source": [
        "#@title Predict wavefunctions\n",
        "pred = conv_model(potential)\n",
        "print(\"Test MSE: %f\" % train.loss(pred, phi_0))\n",
        "pred = pred.numpy().reshape(-1,n_points, n_points)"
      ],
      "execution_count": 27,
      "outputs": [
        {
          "output_type": "stream",
          "text": [
            "Test MSE: 0.000011\n"
          ],
          "name": "stdout"
        }
      ]
    },
    {
      "cell_type": "code",
      "metadata": {
        "id": "0fpntaE0XlXB",
        "colab": {
          "base_uri": "https://localhost:8080/",
          "height": 350
        },
        "cellView": "form",
        "outputId": "5a8cb86e-5a7b-4e11-83a0-777e700c802a"
      },
      "source": [
        "#@title Real and predicted wavefunctions\n",
        "import matplotlib.pyplot as plt\n",
        "from matplotlib import ticker, cm\n",
        "\n",
        "idx +=1\n",
        "fig, (ax1, ax2,ax3) = plt.subplots(1, 3,figsize=(17,5))\n",
        "\n",
        "cs1 = ax1.contourf(phi_0[idx,:,:])\n",
        "ax1.set_title(\"Real\")\n",
        "ax1.set_xlabel(\"x\")\n",
        "ax1.set_ylabel(\"y\")\n",
        "\n",
        "\n",
        "cs2 = ax2.contourf(pred[idx,:,:])\n",
        "ax2.set_title(\"Predicted\")\n",
        "ax2.set_xlabel(\"x\")\n",
        "ax2.set_ylabel(\"y\")\n",
        "\n",
        "cs3 = ax3.contourf(potential[idx,:,:])\n",
        "ax3.set_title(\"Potential\")\n",
        "ax3.set_xlabel(\"x\")\n",
        "ax3.set_ylabel(\"y\")\n",
        "\n",
        "cbar1 = fig.colorbar(cs1, ax=ax1)\n",
        "cbar2 = fig.colorbar(cs2, ax=ax2)\n",
        "cbar3 = fig.colorbar(cs3, ax=ax3)\n",
        "plt.show()"
      ],
      "execution_count": 28,
      "outputs": [
        {
          "output_type": "display_data",
          "data": {
            "image/png": "[encoded data removed]",
            "text/plain": [
              "<Figure size 1224x360 with 6 Axes>"
            ]
          },
          "metadata": {
            "tags": [],
            "needs_background": "light"
          }
        }
      ]
    },
    {
      "cell_type": "code",
      "metadata": {
        "id": "SekfCdp7Yz99",
        "colab": {
          "base_uri": "https://localhost:8080/"
        },
        "outputId": "2918327b-5616-4367-d4d5-974d19758347"
      },
      "source": [
        "E = empirical_energy(phi_0, potential,xmin=-10, xmax = 10, n_points=100)\n",
        "E_emp = empirical_energy(pred, potential,xmin=-10, xmax = 10, n_points= 100)\n",
        "print('MSE(E) = ', np.mean((E-E_emp)**2))"
      ],
      "execution_count": 30,
      "outputs": [
        {
          "output_type": "stream",
          "text": [
            "MSE(E) =  3.5261500494603186e-05\n"
          ],
          "name": "stdout"
        }
      ]
    },
    {
      "cell_type": "code",
      "metadata": {
        "id": "phulMMXnY_44",
        "cellView": "form",
        "colab": {
          "base_uri": "https://localhost:8080/",
          "height": 542
        },
        "outputId": "d4d6a1da-cb8a-475a-b557-2764fa23f920"
      },
      "source": [
        "#@title Real and predicted mean energies\n",
        "import plotly\n",
        "from plotly.graph_objs import graph_objs as go\n",
        "from plotly.subplots import make_subplots\n",
        "from plotly.offline import iplot\n",
        "\n",
        "fig = go.Figure()\n",
        "fig.add_trace(go.Scatter(\n",
        "    x=E,\n",
        "    y=E_emp,\n",
        "    mode=\"markers\", name = \"empirical\"))\n",
        "\n",
        "fig.add_trace(go.Scatter(\n",
        "    x=E,\n",
        "    y=E,\n",
        "    mode=\"lines\", name = \"theorerical\"))\n",
        "\n",
        "fig.update_layout(\n",
        "    title=\"Harmonic oscillator energies\",\n",
        "    xaxis_title=\"Theoretical\",\n",
        "    yaxis_title=\"Empirical\")\n",
        "\n",
        "fig.show()"
      ],
      "execution_count": null,
      "outputs": [
        {
          "output_type": "display_data",
          "data": {
            "text/html": [
              "<html>\n",
              "<head><meta charset=\"utf-8\" /></head>\n",
              "<body>\n",
              "    <div>\n",
              "            <script src=\"https://cdnjs.cloudflare.com/ajax/libs/mathjax/2.7.5/MathJax.js?config=TeX-AMS-MML_SVG\"></script><script type=\"text/javascript\">if (window.MathJax) {MathJax.Hub.Config({SVG: {font: \"STIX-Web\"}});}</script>\n",
              "                <script type=\"text/javascript\">window.PlotlyConfig = {MathJaxConfig: 'local'};</script>\n",
              "        <script src=\"https://cdn.plot.ly/plotly-latest.min.js\"></script>    \n",
              "            <div id=\"173d1b67-89cd-4c09-a6cc-a5b944e7d5da\" class=\"plotly-graph-div\" style=\"height:525px; width:100%;\"></div>\n",
              "            <script type=\"text/javascript\">\n",
              "                \n",
              "                    window.PLOTLYENV=window.PLOTLYENV || {};\n",
              "                    \n",
              "                if (document.getElementById(\"173d1b67-89cd-4c09-a6cc-a5b944e7d5da\")) {\n",
              "                    Plotly.newPlot(\n",
              "                        '173d1b67-89cd-4c09-a6cc-a5b944e7d5da',\n",
              "                        [{\"mode\": \"markers\", \"name\": \"empirical\", \"type\": \"scatter\", \"x\": [0.6098433698544977, 0.8909079730663924, 0.7486006568093342, 0.7589796322298783, 0.5786756205470469, 0.8125919272424984, 0.8979777427036602, 1.0729506736519594, 0.7125945575367443, 0.712261384916617, 0.6559890682530325, 0.4013346771936827, 0.9950654147612419, 1.0686745539368554, 0.7987544505836179, 1.0236408788918796, 0.7146657682957251, 0.7083633654848664, 0.8735886557022703, 0.4980429832631175, 0.47789919214648685, 0.6787096754943323, 0.9793347870517511, 0.7791068942662003, 0.710076524005061, 0.9876504014457704, 0.9454624723965607, 0.6184053830683113, 0.9687804398893252, 0.7030353223751885, 0.7616499644626744, 0.8927104997869512, 0.9837188184120617, 0.7656159029135455, 0.52871042089726, 0.8279797004601738, 0.7564921513035504, 1.051173438849206, 0.85229624986628, 0.7963651175871367, 0.7218914634128337, 0.9143860103156978, 0.798129043619873, 0.6886953376123589, 0.9547717905924948, 0.7820049137508011, 1.1769795575173476, 0.8545059202614855, 0.7138090011972895, 0.641799100784882, 0.8180996493534779, 0.8752691735474306, 0.6596962159016566, 0.7506501430888246, 0.9572354800544776, 1.0375429273530397, 0.9815786109379991, 0.9750179255787408, 0.6594562389062131, 0.5751615893390284, 0.7069286835104499, 0.44185404687007, 0.7963481977332747, 0.7537505369063551, 1.0050288195682942, 0.6255514983588678, 1.005579992679903, 1.0827131597669388, 0.6853992360377841, 1.1244722049431064, 0.6370603720896209, 0.8465963741595516, 0.5906203570546152, 1.0733257837208474, 0.4827161071666392, 0.8420967289009905, 0.7432256512553116, 0.6228985808994737, 0.7846104686861265, 0.5972488092954548, 0.8017944403226788, 0.5693856454303919, 0.879399585070543, 0.7495831979228447, 0.9064400332368721, 0.6373228839152849, 1.0754111052500512, 0.5548323232714473, 0.49940940634804115, 0.8003958978037108, 0.44299151745663035, 0.64978960985998, 0.7730903166536285, 0.8747796527715007, 0.5142596141514078, 0.6975469377658081, 0.8584941225525743, 0.6213212775824601, 0.8722190134307792, 1.0923154580652135, 0.6222322691338916, 1.2164407276453348, 0.4790110810788031, 0.7988206927955991, 0.4490315314004912, 0.8874070065053226, 0.7606572117299252, 0.5761269343524399, 1.104900520734688, 0.5800065195796821, 0.591116121832694, 0.624497858672298, 0.9894487713352785, 1.058526526075759, 0.7760157782819672, 0.8295745582665338, 0.7103466694613317, 0.4447839770024783, 1.00594036823995, 0.5906622490922339, 0.9748184393641728, 0.8076423392010608, 0.4903772827985453, 0.7404969527929232, 0.5364282472190885, 1.0508742687633674, 0.7916252448369379, 1.2584957493791766, 1.036275202000808, 1.2249556083086615, 0.8617003623617564, 0.5931795645415308, 0.5951093063286975, 0.5337890491795814, 1.171400008106687, 1.146687616566447, 0.8078589757399265, 0.8189538680038542, 0.63499922100696, 0.6488907482883494, 0.838332130570088, 0.6441314200772394, 0.9752707391714329, 0.7286642957943537, 0.6386651778820193, 0.777905573507458, 0.7772270189315251, 0.8126179018493641, 0.8909993471593987, 0.6065153474643166, 0.8200480397584317, 0.9730871006958527, 0.8857239319693025, 1.0152491614991483, 0.8324010301701579, 0.6833452920359161, 1.151849346846736, 1.1897665504453072, 0.7647615811695222, 0.7726134022710484, 0.6612059229744888, 0.6528944334422396, 0.7123992053326048, 0.5262390783390397, 0.7466277699530421, 0.5664470233747745, 0.6786040776457838, 0.7558490068756836, 0.8923188065623949, 0.8773375837420846, 0.740419326181983, 1.0383518981985094, 0.758027801663652, 0.6281938419544207, 0.7270515266257531, 1.0149579090846088, 0.7457342331175348, 1.1401541293357107, 1.051075580508013, 0.8737269033081516, 0.6504906707348695, 0.6709114239752527, 0.5274010962032398, 1.0199938865282696, 1.0058762988949577, 1.0700716485392592, 0.5076685765805722, 1.115827441791827, 0.7220440696687267, 0.6685499264964698, 0.989482490055253, 0.5817252360018081, 0.9653189620998757, 0.9429883652799639, 0.8807434618081085, 0.9298262036111935, 1.0668350003974207, 0.7824620634294586, 0.7385161257776007, 1.0157566897928827, 0.8363180323312988, 0.8135781595830048, 0.9191137556821118, 1.0026258596762851, 1.045002999698314, 0.8608257896295958, 0.8740411341030414, 1.0801542080707283, 0.8976781551125118, 1.04168537191948, 0.571589146537007, 0.7693564743698278, 0.8038358933341564, 0.963331736828359, 0.5845982390710494, 0.7949815504502508, 0.6844379810318422, 0.8620415676159238, 0.7247536186948413, 1.0600107695294574, 0.7412323927448973, 0.8768757826784489, 1.0807253736830884, 0.5303721311297604, 1.032403933455156, 0.8341559087578684, 0.9529509783748827, 0.5512977278991805, 0.7101230322332062, 0.8014788537584046, 0.8509268535369138, 0.7335595540153524, 0.7255673755437404, 1.109016887972171, 0.6726858417811172, 0.8363283480376801, 0.952604831144892, 1.1316749118933078, 0.9037854721438159, 0.799512106016884, 0.8355672673263645, 0.5442608175360422, 0.9241095454669923, 0.4414237293163414, 0.8994337001849142, 0.6295419781294157, 0.6027400411041725, 0.5330191140483636, 0.9176366912905678, 0.982438170100584, 0.9953849010820404, 0.9584264822725965, 1.0592947308804466, 0.7039024390350674, 0.9792045235366058, 0.756074292274739, 0.6370709069477813, 1.0457524789820012, 0.845197423085908, 1.016819352997644, 1.2110564123204994, 0.9818221812543522, 0.9548640078061253, 0.8470295302278993, 0.8662331401078053, 0.8989030415354902, 0.8757378790195075, 0.5602674742383756, 0.7244381201163778, 0.677329842126447, 0.7455183567649699, 0.8851977617718514, 0.6543962919482568, 0.788069796298068, 0.6038170242807598, 1.1442338568500818, 1.1343445414865136, 1.0045796201152595, 0.7207473053103748, 1.0321534372091923, 1.1025273083600626, 0.8454832476696229, 0.564403762632045, 0.7205804681762888, 0.9035112440599073, 0.6225934738532397, 1.039091724571871, 0.5975546336904661, 0.5691217328045884, 0.51171928307345, 0.8719226426883402, 0.6190558307107709, 1.0252422758464015, 1.011766500111045, 0.8364968700515454, 1.0278796628731977, 1.1358605440446454, 1.1968606421970176, 1.2137407767198984, 0.9163895285215644, 0.9783531631040998, 0.9488965012744146, 1.24666082027881, 1.1534985886937987, 0.8515070362769758, 0.856448007200346, 0.7799602371943828, 0.566676947001869, 1.0051213366920757, 0.8864973899179677, 0.94976071841196, 0.6137393817436879, 1.0425015263313266, 0.944661472388657, 0.9857389847617761, 0.8422822690779939, 0.9329146581994339, 0.5048463342334224, 0.9373236932797029, 1.0947350010979122, 0.9751770505457433, 0.8788057245373528, 0.6867691362944796, 0.6769250466777013, 0.6105045228642875, 0.869406273512303, 0.4482690732486133, 0.937764445089446, 0.7922640690296876, 0.993633456710883, 0.7607352400802612, 0.7712551042921659, 0.5306723128525133, 0.877681548145919, 1.0028451186393403, 0.7612127454951326, 0.9092174749041799, 0.7011206600999944, 0.8379753135912906, 0.8905073921670486, 0.7100292460508412, 0.7576799303787112, 0.9573774271707561, 0.6185548673181637, 0.9193493319051237, 0.8482605566884562, 0.8600029406159955, 0.9373818468482941, 0.640760891620534, 0.9438393250320024, 0.7142529660593332, 0.8858303963716941, 0.877612009895459, 0.6088285665956279, 0.9868685067753816, 0.8616979329142818, 1.170132791294532, 0.9707485620192196, 0.7898314566250401, 0.5282704420421884, 0.8230267122332268, 1.0020813362403453, 0.7645758669822537, 0.6081725169652827, 0.7504281645339208, 0.7089052889357069, 0.9876973226803775, 0.7445321608315262, 0.5502440744660233, 0.7960929303888364, 0.4451079311192167, 0.9562254176471467, 0.9418955420221319, 0.7456953299583194, 0.8075454048978442, 0.8317155781352065, 0.8351846362635655, 0.6285187720821483, 0.8560007606724545, 0.7861898574389697, 0.9289668351641895, 1.0090610259379458, 0.8391845144093061, 1.2232791164074046, 0.79275266233185, 0.9306569280776849, 0.7332226295941295, 0.545820914704138, 0.5581409131170332, 1.0146745961190085, 0.8786498313049214, 0.9328459960141621, 0.8722765979130434, 0.8998939837419615, 0.8788006525682533, 0.9772233751688031, 0.8521504215794613, 0.9177450709886547, 0.7783677887964598, 0.5343039018635799, 0.7234183137062218, 0.5559031932453397, 0.9673424918526305, 0.9310661140729337, 0.8639308620638155, 0.8533133196977258, 1.1782585611500238, 0.7933934305506986, 0.8525717541479856, 0.7121812863594642, 0.9672394610438834, 0.9618608205056594, 0.7267377467227463, 0.6639345964525144, 0.5517386501194723, 0.6674092069867115, 0.8149950717529173, 0.9124629255212697, 0.9638916584977457, 0.775896374429527, 0.9176074510480333, 0.6905577270226123, 1.023126415194209, 0.9920527024820271, 1.1402289457537078, 0.7896677756458468, 1.010399636931932, 0.9400544784246565, 1.046493203043273, 0.6816716605965927, 0.983663654899395, 0.8074977399519732, 0.8798115914574911, 1.2472821114037274, 0.9666017611327599, 0.8644845660358195, 1.163419386223147, 0.7316679175780292, 0.6603502212829762, 1.0773468942630862, 0.878942019890216, 0.7811497440315102, 0.7376148480023684, 0.6411719096649097, 0.8393953745718851, 1.1118512938711962, 0.9464666305462563, 0.9001402279449581, 0.6690559513311267, 0.9147750352745326, 0.8414691201892279, 0.9152087782421147, 0.7902160180624912, 1.192215729592581, 0.5175439293094903, 0.5399934232277671, 1.1235905309650804, 0.6977782841827724, 0.6046530639462981, 0.6740041455851302, 0.9532854663773107, 0.6576163324999779, 0.543484740232257, 0.5366345085365846, 0.5998551001420197, 0.7930523268650437, 0.7942714930533167, 0.9191822204182787, 0.6861169762710119, 0.7489153971514403, 0.9766851847903534, 1.0076162525145231, 1.0118549532908925, 1.119782420176872, 1.0910060100969563, 0.8631864418279619, 0.8895176984558997, 0.4592495191812891, 0.7475643051937901, 0.9702602248976863, 0.693902236459771, 0.5531686112662025, 0.704874502476596, 0.986808860168099, 0.5799215176565216, 0.5905198207323762, 0.9619372801422406, 0.6894356986474313, 0.809312210451932, 0.44143318307171103, 0.6823481937440445, 0.9353845901283521, 0.9376145260869649, 0.8658559290843985, 0.9086309305798842, 0.9705039344096418, 0.8813634698946954, 1.095104839946531, 0.8312150614742062, 0.9166530590864085], \"y\": [0.5919048863090047, 0.8799166848537463, 0.7122810865473311, 0.7343921507625887, 0.5751112744892553, 0.7830885256212595, 0.882710429586973, 1.0762969923789174, 0.6845031312143868, 0.6821440843087632, 0.6525561928472127, 0.4045529234343749, 0.9936440978603603, 1.0602286086378763, 0.7699529641670454, 1.0198279346888677, 0.6844586331331297, 0.6731980209700675, 0.8556484543503575, 0.5059555900573823, 0.47873985095252136, 0.6520779349087407, 0.9704969185639335, 0.7834789891379838, 0.6809414590101355, 0.9810653460342884, 0.9362287969333176, 0.6183812097784033, 0.962352818312998, 0.7110962409441987, 0.744721125984066, 0.8667074533727825, 0.9768727779641003, 0.7331026130096224, 0.5264158775450647, 0.7927544472125588, 0.7393724329253476, 1.0489563206404546, 0.8501762201166182, 0.7537846681633569, 0.7012318268435745, 0.9045368092017816, 0.7695046615180304, 0.6624890552970221, 0.9506322787240845, 0.7476613050672521, 1.1750652267658714, 0.8310787073254357, 0.697149861262736, 0.6163129840793029, 0.7947429768338599, 0.859114302712207, 0.6476933550453712, 0.7345744075451249, 0.9484519066232675, 1.0294980211586249, 0.9820532181439219, 0.9720186275484513, 0.635282349621658, 0.571039642384351, 0.6880414595088582, 0.44258829289546686, 0.7537824672825456, 0.7193260691554159, 0.9963994025572775, 0.6185912805910841, 0.9974598014102142, 1.0791739730712597, 0.6716978098530944, 1.1208336259892409, 0.6155834591765608, 0.8020049978013739, 0.586261817686982, 1.0670993896857324, 0.48839113845874893, 0.831297907517423, 0.7160261076331725, 0.6242952171538338, 0.7433452132352909, 0.5887463180964225, 0.7789386403572884, 0.5575844601073803, 0.8668527656990364, 0.7124033923023413, 0.8972206742961366, 0.6172055035854089, 1.0690425590821266, 0.5597803120943353, 0.5021952244575629, 0.766761091494207, 0.4436381701075885, 0.6800356064920613, 0.7664463978257429, 0.8633351451134409, 0.5147617466578333, 0.6725428299910672, 0.8337104020925358, 0.6274899339300914, 0.8545727365421089, 1.0822069121164481, 0.6010514864353165, 1.2129572929989088, 0.4797030082900056, 0.7529634694792302, 0.45047902413545626, 0.86578790820723, 0.7241010724872814, 0.5825958831913837, 1.1007990184215148, 0.5800657419223099, 0.5826783660398965, 0.6248863285337839, 0.98027510085784, 1.0504575227034154, 0.7886592792000449, 0.8356968493614334, 0.6799635003342877, 0.4460421054243641, 0.9970054000469412, 0.5873215071848612, 0.969486354896698, 0.7661197223334345, 0.49292484902701833, 0.7273193111429336, 0.5287596037446258, 1.0405442695970677, 0.8088213363122406, 1.2535846900928054, 1.0324463765085126, 1.221537887532214, 0.8112450077716693, 0.5751280843509621, 0.577140594964632, 0.5316780476100698, 1.1663489204732187, 1.1409900784888087, 0.7627455201380627, 0.8029953547892174, 0.6150967273614149, 0.6251945552770534, 0.8112427214944491, 0.6321084461508323, 0.9691277000638091, 0.6927295397278189, 0.6291860057250172, 0.7408425187643699, 0.8075259972870368, 0.7941506534023686, 0.8777676210275378, 0.5885814206407377, 0.8079529885085142, 0.9643413323105061, 0.874638959214491, 1.0106564454279332, 0.7730179659370737, 0.677582115579329, 1.1471335501842643, 1.1838916653363132, 0.7574673976424082, 0.7337881684793034, 0.6422881778084204, 0.6298579917000896, 0.7046680666636024, 0.5258370712922332, 0.7275906974619415, 0.5534758057078258, 0.6595374242993917, 0.720109543441703, 0.8816516749781228, 0.8693404391204915, 0.7101849571759126, 1.0314633716798576, 0.7281488287624375, 0.6415029455182689, 0.6922620720399913, 1.0158690821822653, 0.7142770731946506, 1.135662093429067, 1.0470633694594986, 0.8628623276656033, 0.6668427106228111, 0.645862738623509, 0.5312295286080904, 1.0131258682072326, 1.000246726722811, 1.067849813551655, 0.512996112131154, 1.1162921987540175, 0.6895590690068621, 0.6574689572372836, 0.9841407084090072, 0.6045252419331876, 0.9581529816417202, 0.9342519714448602, 0.869426842703817, 0.9151490044324861, 1.0659971015577274, 0.83394071506508, 0.7034816717896308, 1.008994747637336, 0.7870649808775789, 0.8284062681053765, 0.9082507680370696, 0.9966940987176441, 1.0476462140000136, 0.8234589431731132, 0.8602401810648921, 1.0755198450370484, 0.8570429454124726, 1.0368909910310349, 0.570859616644734, 0.7378941350816179, 0.7799750622500689, 0.9549455386964355, 0.5820547199719531, 0.7792912079396945, 0.6616257503046458, 0.8233949528614216, 0.7808259895525616, 1.0541547142443328, 0.7151772073352254, 0.8547772165258435, 1.0763110392157822, 0.5382817070176505, 1.0289398847533233, 0.8050107687464179, 0.9439304784405808, 0.541572180993182, 0.6832351398255273, 0.7873975959063754, 0.81929088252869, 0.7020620865216557, 0.6956910601905838, 1.1039609948753966, 0.645216543836084, 0.8292980790292135, 0.9472470417731644, 1.1254793907284817, 0.8936198237206443, 0.7587057201603735, 0.8243322528671871, 0.5349956471634522, 0.9124211668117475, 0.44362635661199895, 0.8879703719518809, 0.6111677305998595, 0.5834453081763684, 0.5268481491657832, 0.9100182651867003, 0.9733598061009074, 0.9931304935328521, 0.9521590593115375, 1.052566986304445, 0.6798335255086817, 0.9710274404388084, 0.7868538998308343, 0.6344235466641049, 1.0371032002537708, 0.8328447913203203, 1.0155572036676153, 1.207084714557403, 0.9815271656206516, 0.9423002787122112, 0.8289431843968881, 0.8615966023992668, 0.8876859331017479, 0.8644278549427173, 0.5803340524294366, 0.7549794152831291, 0.664847443752933, 0.7197190572998535, 0.8453437461759531, 0.662817449665974, 0.750835445661985, 0.6115970491258463, 1.142493724121891, 1.1325231695547877, 0.9989585318018447, 0.683130100110909, 1.0283882562146436, 1.101145566135381, 0.8340359455921934, 0.5850862992796305, 0.6887305476367535, 0.8900266672409024, 0.6138745286256203, 1.031706308048568, 0.5816362394927284, 0.5832952212528407, 0.5132016926856922, 0.8539188772047999, 0.6286786808028214, 1.0253183215456232, 1.007132421314952, 0.8091855831045729, 1.0188200572985615, 1.132894618598469, 1.1941376592501987, 1.207651315389766, 0.8877900133583658, 0.9712458181122755, 0.9431996471633802, 1.2417853419525835, 1.147676048565751, 0.8410455433324514, 0.8399460708578403, 0.7760161865392703, 0.5533514634517017, 1.0017273555273014, 0.870737897199025, 0.9453304183438151, 0.5972414188839529, 1.0324762138572736, 0.9370682551425346, 0.9778453956583398, 0.8221062849543687, 0.9249157375851512, 0.5154543247510337, 0.9290311430113968, 1.0911505148855387, 0.9695726768871594, 0.8687703586599078, 0.6619064757412618, 0.6583814535107696, 0.5917195664421762, 0.8465157804638659, 0.4501875097016181, 0.9204091196160997, 0.7561624269695947, 0.9861971231927491, 0.7307167314027182, 0.731590831267916, 0.5281655162351789, 0.8654633902915184, 0.9961928379201798, 0.8154708430951265, 0.9028577935809176, 0.671030764453424, 0.8102202179771928, 0.877309319215097, 0.696746722887809, 0.7286728423412518, 0.9508411156076749, 0.6019447591367101, 0.9119212688027833, 0.8514310189920001, 0.8471268090808499, 0.931682127324264, 0.6784899448564217, 0.9282139278528564, 0.6968559396326779, 0.8733274812463516, 0.8479335313437413, 0.6031154817798278, 0.9796087091069539, 0.8440577337961406, 1.1675150244919195, 0.9682237847589629, 0.8027646032782935, 0.5258157245866004, 0.7992504902494314, 0.9951109193436961, 0.7314185672416991, 0.5885463460473729, 0.727551216314011, 0.6804613100645583, 0.9832905129650469, 0.7371359476966756, 0.5602396988905719, 0.7671646386103084, 0.4478149284214349, 0.9487886907017883, 0.9329681881449364, 0.7199536582237551, 0.775802847793461, 0.8103400828591878, 0.8081408468438611, 0.6087736949854391, 0.8278882577192432, 0.7727560435466417, 0.9029226551490886, 1.0052461055928574, 0.843095654391154, 1.219187464352069, 0.758273139982287, 0.9210474193617301, 0.7363915271030963, 0.5606991290350419, 0.5692591786530893, 1.0052138567734525, 0.8683956911077405, 0.9226166351501338, 0.8602581274555754, 0.8693897482576931, 0.8665476435119771, 0.973898034668454, 0.8249676985125554, 0.9085916456897862, 0.7409049313305466, 0.528490650928418, 0.6954028344820569, 0.5608775837066865, 0.9589926634043254, 0.9258791906111026, 0.8539448081220198, 0.8155257776886763, 1.174906037483958, 0.7629598315942694, 0.8373288965343649, 0.6848161263455257, 0.958938999880478, 0.9554341473354702, 0.7069152023091855, 0.646323419150372, 0.552463470154029, 0.6490376732607046, 0.7701097387352346, 0.8915881082673961, 0.9485853734697856, 0.7430562057270873, 0.9081902677165542, 0.6733042006053997, 1.014518607279586, 0.9866115460195919, 1.1340793686638289, 0.8103010223155693, 1.0014914024283135, 0.9316415201388928, 1.038532821470127, 0.6610020691719118, 0.9765335157520142, 0.7824337941455937, 0.8417775158783275, 1.2440539853211166, 0.9638807322037037, 0.8498576317555496, 1.1585083517894206, 0.7074658143664356, 0.6442092113790888, 1.0778036345480593, 0.8484903863704412, 0.7488060223875803, 0.699362360097052, 0.6430387941061044, 0.813198103174193, 1.1042832925478678, 0.9377888135179416, 0.8799627007407073, 0.6530308483477231, 0.9051984594334667, 0.8153834009587424, 0.9006242623798523, 0.7499515126058101, 1.1869049663976834, 0.5298039411267915, 0.5315641620622048, 1.1207790894182599, 0.6960831569376609, 0.5878297807257671, 0.644247631229412, 0.9485586257196353, 0.6363111370921232, 0.5345566368003382, 0.5341600052549704, 0.5862737744373837, 0.7590708303044507, 0.7465128218717934, 0.9091801575556471, 0.6818444884446865, 0.710010953042132, 0.9759574660038208, 1.0052781580004464, 1.0101139854948067, 1.1138758434510756, 1.0871022887399804, 0.8064816568194473, 0.8805084864008733, 0.4615913740513697, 0.7192919758094133, 0.9667548249535716, 0.6974563297751742, 0.542697517375702, 0.7004417440302356, 0.9787889871323439, 0.5930057753514351, 0.5943139776906906, 0.9545723781710281, 0.6597085644860021, 0.828311188844015, 0.44338134292567166, 0.6575738973718291, 0.9271644246624751, 0.9342135282924742, 0.853217640993773, 0.9007568839126545, 0.9618541683230645, 0.8826024902135547, 1.0898752913097107, 0.8092798283605096, 0.8821816842894474]}, {\"mode\": \"lines\", \"name\": \"theorerical\", \"type\": \"scatter\", \"x\": [0.6098433698544977, 0.8909079730663924, 0.7486006568093342, 0.7589796322298783, 0.5786756205470469, 0.8125919272424984, 0.8979777427036602, 1.0729506736519594, 0.7125945575367443, 0.712261384916617, 0.6559890682530325, 0.4013346771936827, 0.9950654147612419, 1.0686745539368554, 0.7987544505836179, 1.0236408788918796, 0.7146657682957251, 0.7083633654848664, 0.8735886557022703, 0.4980429832631175, 0.47789919214648685, 0.6787096754943323, 0.9793347870517511, 0.7791068942662003, 0.710076524005061, 0.9876504014457704, 0.9454624723965607, 0.6184053830683113, 0.9687804398893252, 0.7030353223751885, 0.7616499644626744, 0.8927104997869512, 0.9837188184120617, 0.7656159029135455, 0.52871042089726, 0.8279797004601738, 0.7564921513035504, 1.051173438849206, 0.85229624986628, 0.7963651175871367, 0.7218914634128337, 0.9143860103156978, 0.798129043619873, 0.6886953376123589, 0.9547717905924948, 0.7820049137508011, 1.1769795575173476, 0.8545059202614855, 0.7138090011972895, 0.641799100784882, 0.8180996493534779, 0.8752691735474306, 0.6596962159016566, 0.7506501430888246, 0.9572354800544776, 1.0375429273530397, 0.9815786109379991, 0.9750179255787408, 0.6594562389062131, 0.5751615893390284, 0.7069286835104499, 0.44185404687007, 0.7963481977332747, 0.7537505369063551, 1.0050288195682942, 0.6255514983588678, 1.005579992679903, 1.0827131597669388, 0.6853992360377841, 1.1244722049431064, 0.6370603720896209, 0.8465963741595516, 0.5906203570546152, 1.0733257837208474, 0.4827161071666392, 0.8420967289009905, 0.7432256512553116, 0.6228985808994737, 0.7846104686861265, 0.5972488092954548, 0.8017944403226788, 0.5693856454303919, 0.879399585070543, 0.7495831979228447, 0.9064400332368721, 0.6373228839152849, 1.0754111052500512, 0.5548323232714473, 0.49940940634804115, 0.8003958978037108, 0.44299151745663035, 0.64978960985998, 0.7730903166536285, 0.8747796527715007, 0.5142596141514078, 0.6975469377658081, 0.8584941225525743, 0.6213212775824601, 0.8722190134307792, 1.0923154580652135, 0.6222322691338916, 1.2164407276453348, 0.4790110810788031, 0.7988206927955991, 0.4490315314004912, 0.8874070065053226, 0.7606572117299252, 0.5761269343524399, 1.104900520734688, 0.5800065195796821, 0.591116121832694, 0.624497858672298, 0.9894487713352785, 1.058526526075759, 0.7760157782819672, 0.8295745582665338, 0.7103466694613317, 0.4447839770024783, 1.00594036823995, 0.5906622490922339, 0.9748184393641728, 0.8076423392010608, 0.4903772827985453, 0.7404969527929232, 0.5364282472190885, 1.0508742687633674, 0.7916252448369379, 1.2584957493791766, 1.036275202000808, 1.2249556083086615, 0.8617003623617564, 0.5931795645415308, 0.5951093063286975, 0.5337890491795814, 1.171400008106687, 1.146687616566447, 0.8078589757399265, 0.8189538680038542, 0.63499922100696, 0.6488907482883494, 0.838332130570088, 0.6441314200772394, 0.9752707391714329, 0.7286642957943537, 0.6386651778820193, 0.777905573507458, 0.7772270189315251, 0.8126179018493641, 0.8909993471593987, 0.6065153474643166, 0.8200480397584317, 0.9730871006958527, 0.8857239319693025, 1.0152491614991483, 0.8324010301701579, 0.6833452920359161, 1.151849346846736, 1.1897665504453072, 0.7647615811695222, 0.7726134022710484, 0.6612059229744888, 0.6528944334422396, 0.7123992053326048, 0.5262390783390397, 0.7466277699530421, 0.5664470233747745, 0.6786040776457838, 0.7558490068756836, 0.8923188065623949, 0.8773375837420846, 0.740419326181983, 1.0383518981985094, 0.758027801663652, 0.6281938419544207, 0.7270515266257531, 1.0149579090846088, 0.7457342331175348, 1.1401541293357107, 1.051075580508013, 0.8737269033081516, 0.6504906707348695, 0.6709114239752527, 0.5274010962032398, 1.0199938865282696, 1.0058762988949577, 1.0700716485392592, 0.5076685765805722, 1.115827441791827, 0.7220440696687267, 0.6685499264964698, 0.989482490055253, 0.5817252360018081, 0.9653189620998757, 0.9429883652799639, 0.8807434618081085, 0.9298262036111935, 1.0668350003974207, 0.7824620634294586, 0.7385161257776007, 1.0157566897928827, 0.8363180323312988, 0.8135781595830048, 0.9191137556821118, 1.0026258596762851, 1.045002999698314, 0.8608257896295958, 0.8740411341030414, 1.0801542080707283, 0.8976781551125118, 1.04168537191948, 0.571589146537007, 0.7693564743698278, 0.8038358933341564, 0.963331736828359, 0.5845982390710494, 0.7949815504502508, 0.6844379810318422, 0.8620415676159238, 0.7247536186948413, 1.0600107695294574, 0.7412323927448973, 0.8768757826784489, 1.0807253736830884, 0.5303721311297604, 1.032403933455156, 0.8341559087578684, 0.9529509783748827, 0.5512977278991805, 0.7101230322332062, 0.8014788537584046, 0.8509268535369138, 0.7335595540153524, 0.7255673755437404, 1.109016887972171, 0.6726858417811172, 0.8363283480376801, 0.952604831144892, 1.1316749118933078, 0.9037854721438159, 0.799512106016884, 0.8355672673263645, 0.5442608175360422, 0.9241095454669923, 0.4414237293163414, 0.8994337001849142, 0.6295419781294157, 0.6027400411041725, 0.5330191140483636, 0.9176366912905678, 0.982438170100584, 0.9953849010820404, 0.9584264822725965, 1.0592947308804466, 0.7039024390350674, 0.9792045235366058, 0.756074292274739, 0.6370709069477813, 1.0457524789820012, 0.845197423085908, 1.016819352997644, 1.2110564123204994, 0.9818221812543522, 0.9548640078061253, 0.8470295302278993, 0.8662331401078053, 0.8989030415354902, 0.8757378790195075, 0.5602674742383756, 0.7244381201163778, 0.677329842126447, 0.7455183567649699, 0.8851977617718514, 0.6543962919482568, 0.788069796298068, 0.6038170242807598, 1.1442338568500818, 1.1343445414865136, 1.0045796201152595, 0.7207473053103748, 1.0321534372091923, 1.1025273083600626, 0.8454832476696229, 0.564403762632045, 0.7205804681762888, 0.9035112440599073, 0.6225934738532397, 1.039091724571871, 0.5975546336904661, 0.5691217328045884, 0.51171928307345, 0.8719226426883402, 0.6190558307107709, 1.0252422758464015, 1.011766500111045, 0.8364968700515454, 1.0278796628731977, 1.1358605440446454, 1.1968606421970176, 1.2137407767198984, 0.9163895285215644, 0.9783531631040998, 0.9488965012744146, 1.24666082027881, 1.1534985886937987, 0.8515070362769758, 0.856448007200346, 0.7799602371943828, 0.566676947001869, 1.0051213366920757, 0.8864973899179677, 0.94976071841196, 0.6137393817436879, 1.0425015263313266, 0.944661472388657, 0.9857389847617761, 0.8422822690779939, 0.9329146581994339, 0.5048463342334224, 0.9373236932797029, 1.0947350010979122, 0.9751770505457433, 0.8788057245373528, 0.6867691362944796, 0.6769250466777013, 0.6105045228642875, 0.869406273512303, 0.4482690732486133, 0.937764445089446, 0.7922640690296876, 0.993633456710883, 0.7607352400802612, 0.7712551042921659, 0.5306723128525133, 0.877681548145919, 1.0028451186393403, 0.7612127454951326, 0.9092174749041799, 0.7011206600999944, 0.8379753135912906, 0.8905073921670486, 0.7100292460508412, 0.7576799303787112, 0.9573774271707561, 0.6185548673181637, 0.9193493319051237, 0.8482605566884562, 0.8600029406159955, 0.9373818468482941, 0.640760891620534, 0.9438393250320024, 0.7142529660593332, 0.8858303963716941, 0.877612009895459, 0.6088285665956279, 0.9868685067753816, 0.8616979329142818, 1.170132791294532, 0.9707485620192196, 0.7898314566250401, 0.5282704420421884, 0.8230267122332268, 1.0020813362403453, 0.7645758669822537, 0.6081725169652827, 0.7504281645339208, 0.7089052889357069, 0.9876973226803775, 0.7445321608315262, 0.5502440744660233, 0.7960929303888364, 0.4451079311192167, 0.9562254176471467, 0.9418955420221319, 0.7456953299583194, 0.8075454048978442, 0.8317155781352065, 0.8351846362635655, 0.6285187720821483, 0.8560007606724545, 0.7861898574389697, 0.9289668351641895, 1.0090610259379458, 0.8391845144093061, 1.2232791164074046, 0.79275266233185, 0.9306569280776849, 0.7332226295941295, 0.545820914704138, 0.5581409131170332, 1.0146745961190085, 0.8786498313049214, 0.9328459960141621, 0.8722765979130434, 0.8998939837419615, 0.8788006525682533, 0.9772233751688031, 0.8521504215794613, 0.9177450709886547, 0.7783677887964598, 0.5343039018635799, 0.7234183137062218, 0.5559031932453397, 0.9673424918526305, 0.9310661140729337, 0.8639308620638155, 0.8533133196977258, 1.1782585611500238, 0.7933934305506986, 0.8525717541479856, 0.7121812863594642, 0.9672394610438834, 0.9618608205056594, 0.7267377467227463, 0.6639345964525144, 0.5517386501194723, 0.6674092069867115, 0.8149950717529173, 0.9124629255212697, 0.9638916584977457, 0.775896374429527, 0.9176074510480333, 0.6905577270226123, 1.023126415194209, 0.9920527024820271, 1.1402289457537078, 0.7896677756458468, 1.010399636931932, 0.9400544784246565, 1.046493203043273, 0.6816716605965927, 0.983663654899395, 0.8074977399519732, 0.8798115914574911, 1.2472821114037274, 0.9666017611327599, 0.8644845660358195, 1.163419386223147, 0.7316679175780292, 0.6603502212829762, 1.0773468942630862, 0.878942019890216, 0.7811497440315102, 0.7376148480023684, 0.6411719096649097, 0.8393953745718851, 1.1118512938711962, 0.9464666305462563, 0.9001402279449581, 0.6690559513311267, 0.9147750352745326, 0.8414691201892279, 0.9152087782421147, 0.7902160180624912, 1.192215729592581, 0.5175439293094903, 0.5399934232277671, 1.1235905309650804, 0.6977782841827724, 0.6046530639462981, 0.6740041455851302, 0.9532854663773107, 0.6576163324999779, 0.543484740232257, 0.5366345085365846, 0.5998551001420197, 0.7930523268650437, 0.7942714930533167, 0.9191822204182787, 0.6861169762710119, 0.7489153971514403, 0.9766851847903534, 1.0076162525145231, 1.0118549532908925, 1.119782420176872, 1.0910060100969563, 0.8631864418279619, 0.8895176984558997, 0.4592495191812891, 0.7475643051937901, 0.9702602248976863, 0.693902236459771, 0.5531686112662025, 0.704874502476596, 0.986808860168099, 0.5799215176565216, 0.5905198207323762, 0.9619372801422406, 0.6894356986474313, 0.809312210451932, 0.44143318307171103, 0.6823481937440445, 0.9353845901283521, 0.9376145260869649, 0.8658559290843985, 0.9086309305798842, 0.9705039344096418, 0.8813634698946954, 1.095104839946531, 0.8312150614742062, 0.9166530590864085], \"y\": [0.6098433698544977, 0.8909079730663924, 0.7486006568093342, 0.7589796322298783, 0.5786756205470469, 0.8125919272424984, 0.8979777427036602, 1.0729506736519594, 0.7125945575367443, 0.712261384916617, 0.6559890682530325, 0.4013346771936827, 0.9950654147612419, 1.0686745539368554, 0.7987544505836179, 1.0236408788918796, 0.7146657682957251, 0.7083633654848664, 0.8735886557022703, 0.4980429832631175, 0.47789919214648685, 0.6787096754943323, 0.9793347870517511, 0.7791068942662003, 0.710076524005061, 0.9876504014457704, 0.9454624723965607, 0.6184053830683113, 0.9687804398893252, 0.7030353223751885, 0.7616499644626744, 0.8927104997869512, 0.9837188184120617, 0.7656159029135455, 0.52871042089726, 0.8279797004601738, 0.7564921513035504, 1.051173438849206, 0.85229624986628, 0.7963651175871367, 0.7218914634128337, 0.9143860103156978, 0.798129043619873, 0.6886953376123589, 0.9547717905924948, 0.7820049137508011, 1.1769795575173476, 0.8545059202614855, 0.7138090011972895, 0.641799100784882, 0.8180996493534779, 0.8752691735474306, 0.6596962159016566, 0.7506501430888246, 0.9572354800544776, 1.0375429273530397, 0.9815786109379991, 0.9750179255787408, 0.6594562389062131, 0.5751615893390284, 0.7069286835104499, 0.44185404687007, 0.7963481977332747, 0.7537505369063551, 1.0050288195682942, 0.6255514983588678, 1.005579992679903, 1.0827131597669388, 0.6853992360377841, 1.1244722049431064, 0.6370603720896209, 0.8465963741595516, 0.5906203570546152, 1.0733257837208474, 0.4827161071666392, 0.8420967289009905, 0.7432256512553116, 0.6228985808994737, 0.7846104686861265, 0.5972488092954548, 0.8017944403226788, 0.5693856454303919, 0.879399585070543, 0.7495831979228447, 0.9064400332368721, 0.6373228839152849, 1.0754111052500512, 0.5548323232714473, 0.49940940634804115, 0.8003958978037108, 0.44299151745663035, 0.64978960985998, 0.7730903166536285, 0.8747796527715007, 0.5142596141514078, 0.6975469377658081, 0.8584941225525743, 0.6213212775824601, 0.8722190134307792, 1.0923154580652135, 0.6222322691338916, 1.2164407276453348, 0.4790110810788031, 0.7988206927955991, 0.4490315314004912, 0.8874070065053226, 0.7606572117299252, 0.5761269343524399, 1.104900520734688, 0.5800065195796821, 0.591116121832694, 0.624497858672298, 0.9894487713352785, 1.058526526075759, 0.7760157782819672, 0.8295745582665338, 0.7103466694613317, 0.4447839770024783, 1.00594036823995, 0.5906622490922339, 0.9748184393641728, 0.8076423392010608, 0.4903772827985453, 0.7404969527929232, 0.5364282472190885, 1.0508742687633674, 0.7916252448369379, 1.2584957493791766, 1.036275202000808, 1.2249556083086615, 0.8617003623617564, 0.5931795645415308, 0.5951093063286975, 0.5337890491795814, 1.171400008106687, 1.146687616566447, 0.8078589757399265, 0.8189538680038542, 0.63499922100696, 0.6488907482883494, 0.838332130570088, 0.6441314200772394, 0.9752707391714329, 0.7286642957943537, 0.6386651778820193, 0.777905573507458, 0.7772270189315251, 0.8126179018493641, 0.8909993471593987, 0.6065153474643166, 0.8200480397584317, 0.9730871006958527, 0.8857239319693025, 1.0152491614991483, 0.8324010301701579, 0.6833452920359161, 1.151849346846736, 1.1897665504453072, 0.7647615811695222, 0.7726134022710484, 0.6612059229744888, 0.6528944334422396, 0.7123992053326048, 0.5262390783390397, 0.7466277699530421, 0.5664470233747745, 0.6786040776457838, 0.7558490068756836, 0.8923188065623949, 0.8773375837420846, 0.740419326181983, 1.0383518981985094, 0.758027801663652, 0.6281938419544207, 0.7270515266257531, 1.0149579090846088, 0.7457342331175348, 1.1401541293357107, 1.051075580508013, 0.8737269033081516, 0.6504906707348695, 0.6709114239752527, 0.5274010962032398, 1.0199938865282696, 1.0058762988949577, 1.0700716485392592, 0.5076685765805722, 1.115827441791827, 0.7220440696687267, 0.6685499264964698, 0.989482490055253, 0.5817252360018081, 0.9653189620998757, 0.9429883652799639, 0.8807434618081085, 0.9298262036111935, 1.0668350003974207, 0.7824620634294586, 0.7385161257776007, 1.0157566897928827, 0.8363180323312988, 0.8135781595830048, 0.9191137556821118, 1.0026258596762851, 1.045002999698314, 0.8608257896295958, 0.8740411341030414, 1.0801542080707283, 0.8976781551125118, 1.04168537191948, 0.571589146537007, 0.7693564743698278, 0.8038358933341564, 0.963331736828359, 0.5845982390710494, 0.7949815504502508, 0.6844379810318422, 0.8620415676159238, 0.7247536186948413, 1.0600107695294574, 0.7412323927448973, 0.8768757826784489, 1.0807253736830884, 0.5303721311297604, 1.032403933455156, 0.8341559087578684, 0.9529509783748827, 0.5512977278991805, 0.7101230322332062, 0.8014788537584046, 0.8509268535369138, 0.7335595540153524, 0.7255673755437404, 1.109016887972171, 0.6726858417811172, 0.8363283480376801, 0.952604831144892, 1.1316749118933078, 0.9037854721438159, 0.799512106016884, 0.8355672673263645, 0.5442608175360422, 0.9241095454669923, 0.4414237293163414, 0.8994337001849142, 0.6295419781294157, 0.6027400411041725, 0.5330191140483636, 0.9176366912905678, 0.982438170100584, 0.9953849010820404, 0.9584264822725965, 1.0592947308804466, 0.7039024390350674, 0.9792045235366058, 0.756074292274739, 0.6370709069477813, 1.0457524789820012, 0.845197423085908, 1.016819352997644, 1.2110564123204994, 0.9818221812543522, 0.9548640078061253, 0.8470295302278993, 0.8662331401078053, 0.8989030415354902, 0.8757378790195075, 0.5602674742383756, 0.7244381201163778, 0.677329842126447, 0.7455183567649699, 0.8851977617718514, 0.6543962919482568, 0.788069796298068, 0.6038170242807598, 1.1442338568500818, 1.1343445414865136, 1.0045796201152595, 0.7207473053103748, 1.0321534372091923, 1.1025273083600626, 0.8454832476696229, 0.564403762632045, 0.7205804681762888, 0.9035112440599073, 0.6225934738532397, 1.039091724571871, 0.5975546336904661, 0.5691217328045884, 0.51171928307345, 0.8719226426883402, 0.6190558307107709, 1.0252422758464015, 1.011766500111045, 0.8364968700515454, 1.0278796628731977, 1.1358605440446454, 1.1968606421970176, 1.2137407767198984, 0.9163895285215644, 0.9783531631040998, 0.9488965012744146, 1.24666082027881, 1.1534985886937987, 0.8515070362769758, 0.856448007200346, 0.7799602371943828, 0.566676947001869, 1.0051213366920757, 0.8864973899179677, 0.94976071841196, 0.6137393817436879, 1.0425015263313266, 0.944661472388657, 0.9857389847617761, 0.8422822690779939, 0.9329146581994339, 0.5048463342334224, 0.9373236932797029, 1.0947350010979122, 0.9751770505457433, 0.8788057245373528, 0.6867691362944796, 0.6769250466777013, 0.6105045228642875, 0.869406273512303, 0.4482690732486133, 0.937764445089446, 0.7922640690296876, 0.993633456710883, 0.7607352400802612, 0.7712551042921659, 0.5306723128525133, 0.877681548145919, 1.0028451186393403, 0.7612127454951326, 0.9092174749041799, 0.7011206600999944, 0.8379753135912906, 0.8905073921670486, 0.7100292460508412, 0.7576799303787112, 0.9573774271707561, 0.6185548673181637, 0.9193493319051237, 0.8482605566884562, 0.8600029406159955, 0.9373818468482941, 0.640760891620534, 0.9438393250320024, 0.7142529660593332, 0.8858303963716941, 0.877612009895459, 0.6088285665956279, 0.9868685067753816, 0.8616979329142818, 1.170132791294532, 0.9707485620192196, 0.7898314566250401, 0.5282704420421884, 0.8230267122332268, 1.0020813362403453, 0.7645758669822537, 0.6081725169652827, 0.7504281645339208, 0.7089052889357069, 0.9876973226803775, 0.7445321608315262, 0.5502440744660233, 0.7960929303888364, 0.4451079311192167, 0.9562254176471467, 0.9418955420221319, 0.7456953299583194, 0.8075454048978442, 0.8317155781352065, 0.8351846362635655, 0.6285187720821483, 0.8560007606724545, 0.7861898574389697, 0.9289668351641895, 1.0090610259379458, 0.8391845144093061, 1.2232791164074046, 0.79275266233185, 0.9306569280776849, 0.7332226295941295, 0.545820914704138, 0.5581409131170332, 1.0146745961190085, 0.8786498313049214, 0.9328459960141621, 0.8722765979130434, 0.8998939837419615, 0.8788006525682533, 0.9772233751688031, 0.8521504215794613, 0.9177450709886547, 0.7783677887964598, 0.5343039018635799, 0.7234183137062218, 0.5559031932453397, 0.9673424918526305, 0.9310661140729337, 0.8639308620638155, 0.8533133196977258, 1.1782585611500238, 0.7933934305506986, 0.8525717541479856, 0.7121812863594642, 0.9672394610438834, 0.9618608205056594, 0.7267377467227463, 0.6639345964525144, 0.5517386501194723, 0.6674092069867115, 0.8149950717529173, 0.9124629255212697, 0.9638916584977457, 0.775896374429527, 0.9176074510480333, 0.6905577270226123, 1.023126415194209, 0.9920527024820271, 1.1402289457537078, 0.7896677756458468, 1.010399636931932, 0.9400544784246565, 1.046493203043273, 0.6816716605965927, 0.983663654899395, 0.8074977399519732, 0.8798115914574911, 1.2472821114037274, 0.9666017611327599, 0.8644845660358195, 1.163419386223147, 0.7316679175780292, 0.6603502212829762, 1.0773468942630862, 0.878942019890216, 0.7811497440315102, 0.7376148480023684, 0.6411719096649097, 0.8393953745718851, 1.1118512938711962, 0.9464666305462563, 0.9001402279449581, 0.6690559513311267, 0.9147750352745326, 0.8414691201892279, 0.9152087782421147, 0.7902160180624912, 1.192215729592581, 0.5175439293094903, 0.5399934232277671, 1.1235905309650804, 0.6977782841827724, 0.6046530639462981, 0.6740041455851302, 0.9532854663773107, 0.6576163324999779, 0.543484740232257, 0.5366345085365846, 0.5998551001420197, 0.7930523268650437, 0.7942714930533167, 0.9191822204182787, 0.6861169762710119, 0.7489153971514403, 0.9766851847903534, 1.0076162525145231, 1.0118549532908925, 1.119782420176872, 1.0910060100969563, 0.8631864418279619, 0.8895176984558997, 0.4592495191812891, 0.7475643051937901, 0.9702602248976863, 0.693902236459771, 0.5531686112662025, 0.704874502476596, 0.986808860168099, 0.5799215176565216, 0.5905198207323762, 0.9619372801422406, 0.6894356986474313, 0.809312210451932, 0.44143318307171103, 0.6823481937440445, 0.9353845901283521, 0.9376145260869649, 0.8658559290843985, 0.9086309305798842, 0.9705039344096418, 0.8813634698946954, 1.095104839946531, 0.8312150614742062, 0.9166530590864085]}],\n",
              "                        {\"template\": {\"data\": {\"bar\": [{\"error_x\": {\"color\": \"#2a3f5f\"}, \"error_y\": {\"color\": \"#2a3f5f\"}, \"marker\": {\"line\": {\"color\": \"#E5ECF6\", \"width\": 0.5}}, \"type\": \"bar\"}], \"barpolar\": [{\"marker\": {\"line\": {\"color\": \"#E5ECF6\", \"width\": 0.5}}, \"type\": \"barpolar\"}], \"carpet\": [{\"aaxis\": {\"endlinecolor\": \"#2a3f5f\", \"gridcolor\": \"white\", \"linecolor\": \"white\", \"minorgridcolor\": \"white\", \"startlinecolor\": \"#2a3f5f\"}, \"baxis\": {\"endlinecolor\": \"#2a3f5f\", \"gridcolor\": \"white\", \"linecolor\": \"white\", \"minorgridcolor\": \"white\", \"startlinecolor\": \"#2a3f5f\"}, \"type\": \"carpet\"}], \"choropleth\": [{\"colorbar\": {\"outlinewidth\": 0, \"ticks\": \"\"}, \"type\": \"choropleth\"}], \"contour\": [{\"colorbar\": {\"outlinewidth\": 0, \"ticks\": \"\"}, \"colorscale\": [[0.0, \"#0d0887\"], [0.1111111111111111, \"#46039f\"], [0.2222222222222222, \"#7201a8\"], [0.3333333333333333, \"#9c179e\"], [0.4444444444444444, \"#bd3786\"], [0.5555555555555556, \"#d8576b\"], [0.6666666666666666, \"#ed7953\"], [0.7777777777777778, \"#fb9f3a\"], [0.8888888888888888, \"#fdca26\"], [1.0, \"#f0f921\"]], \"type\": \"contour\"}], \"contourcarpet\": [{\"colorbar\": {\"outlinewidth\": 0, \"ticks\": \"\"}, \"type\": \"contourcarpet\"}], \"heatmap\": [{\"colorbar\": {\"outlinewidth\": 0, \"ticks\": \"\"}, \"colorscale\": [[0.0, \"#0d0887\"], [0.1111111111111111, \"#46039f\"], [0.2222222222222222, \"#7201a8\"], [0.3333333333333333, \"#9c179e\"], [0.4444444444444444, \"#bd3786\"], [0.5555555555555556, \"#d8576b\"], [0.6666666666666666, \"#ed7953\"], [0.7777777777777778, \"#fb9f3a\"], [0.8888888888888888, \"#fdca26\"], [1.0, \"#f0f921\"]], \"type\": \"heatmap\"}], \"heatmapgl\": [{\"colorbar\": {\"outlinewidth\": 0, \"ticks\": \"\"}, \"colorscale\": [[0.0, \"#0d0887\"], [0.1111111111111111, \"#46039f\"], [0.2222222222222222, \"#7201a8\"], [0.3333333333333333, \"#9c179e\"], [0.4444444444444444, \"#bd3786\"], [0.5555555555555556, \"#d8576b\"], [0.6666666666666666, \"#ed7953\"], [0.7777777777777778, \"#fb9f3a\"], [0.8888888888888888, \"#fdca26\"], [1.0, \"#f0f921\"]], \"type\": \"heatmapgl\"}], \"histogram\": [{\"marker\": {\"colorbar\": {\"outlinewidth\": 0, \"ticks\": \"\"}}, \"type\": \"histogram\"}], \"histogram2d\": [{\"colorbar\": {\"outlinewidth\": 0, \"ticks\": \"\"}, \"colorscale\": [[0.0, \"#0d0887\"], [0.1111111111111111, \"#46039f\"], [0.2222222222222222, \"#7201a8\"], [0.3333333333333333, \"#9c179e\"], [0.4444444444444444, \"#bd3786\"], [0.5555555555555556, \"#d8576b\"], [0.6666666666666666, \"#ed7953\"], [0.7777777777777778, \"#fb9f3a\"], [0.8888888888888888, \"#fdca26\"], [1.0, \"#f0f921\"]], \"type\": \"histogram2d\"}], \"histogram2dcontour\": [{\"colorbar\": {\"outlinewidth\": 0, \"ticks\": \"\"}, \"colorscale\": [[0.0, \"#0d0887\"], [0.1111111111111111, \"#46039f\"], [0.2222222222222222, \"#7201a8\"], [0.3333333333333333, \"#9c179e\"], [0.4444444444444444, \"#bd3786\"], [0.5555555555555556, \"#d8576b\"], [0.6666666666666666, \"#ed7953\"], [0.7777777777777778, \"#fb9f3a\"], [0.8888888888888888, \"#fdca26\"], [1.0, \"#f0f921\"]], \"type\": \"histogram2dcontour\"}], \"mesh3d\": [{\"colorbar\": {\"outlinewidth\": 0, \"ticks\": \"\"}, \"type\": \"mesh3d\"}], \"parcoords\": [{\"line\": {\"colorbar\": {\"outlinewidth\": 0, \"ticks\": \"\"}}, \"type\": \"parcoords\"}], \"pie\": [{\"automargin\": true, \"type\": \"pie\"}], \"scatter\": [{\"marker\": {\"colorbar\": {\"outlinewidth\": 0, \"ticks\": \"\"}}, \"type\": \"scatter\"}], \"scatter3d\": [{\"line\": {\"colorbar\": {\"outlinewidth\": 0, \"ticks\": \"\"}}, \"marker\": {\"colorbar\": {\"outlinewidth\": 0, \"ticks\": \"\"}}, \"type\": \"scatter3d\"}], \"scattercarpet\": [{\"marker\": {\"colorbar\": {\"outlinewidth\": 0, \"ticks\": \"\"}}, \"type\": \"scattercarpet\"}], \"scattergeo\": [{\"marker\": {\"colorbar\": {\"outlinewidth\": 0, \"ticks\": \"\"}}, \"type\": \"scattergeo\"}], \"scattergl\": [{\"marker\": {\"colorbar\": {\"outlinewidth\": 0, \"ticks\": \"\"}}, \"type\": \"scattergl\"}], \"scattermapbox\": [{\"marker\": {\"colorbar\": {\"outlinewidth\": 0, \"ticks\": \"\"}}, \"type\": \"scattermapbox\"}], \"scatterpolar\": [{\"marker\": {\"colorbar\": {\"outlinewidth\": 0, \"ticks\": \"\"}}, \"type\": \"scatterpolar\"}], \"scatterpolargl\": [{\"marker\": {\"colorbar\": {\"outlinewidth\": 0, \"ticks\": \"\"}}, \"type\": \"scatterpolargl\"}], \"scatterternary\": [{\"marker\": {\"colorbar\": {\"outlinewidth\": 0, \"ticks\": \"\"}}, \"type\": \"scatterternary\"}], \"surface\": [{\"colorbar\": {\"outlinewidth\": 0, \"ticks\": \"\"}, \"colorscale\": [[0.0, \"#0d0887\"], [0.1111111111111111, \"#46039f\"], [0.2222222222222222, \"#7201a8\"], [0.3333333333333333, \"#9c179e\"], [0.4444444444444444, \"#bd3786\"], [0.5555555555555556, \"#d8576b\"], [0.6666666666666666, \"#ed7953\"], [0.7777777777777778, \"#fb9f3a\"], [0.8888888888888888, \"#fdca26\"], [1.0, \"#f0f921\"]], \"type\": \"surface\"}], \"table\": [{\"cells\": {\"fill\": {\"color\": \"#EBF0F8\"}, \"line\": {\"color\": \"white\"}}, \"header\": {\"fill\": {\"color\": \"#C8D4E3\"}, \"line\": {\"color\": \"white\"}}, \"type\": \"table\"}]}, \"layout\": {\"annotationdefaults\": {\"arrowcolor\": \"#2a3f5f\", \"arrowhead\": 0, \"arrowwidth\": 1}, \"coloraxis\": {\"colorbar\": {\"outlinewidth\": 0, \"ticks\": \"\"}}, \"colorscale\": {\"diverging\": [[0, \"#8e0152\"], [0.1, \"#c51b7d\"], [0.2, \"#de77ae\"], [0.3, \"#f1b6da\"], [0.4, \"#fde0ef\"], [0.5, \"#f7f7f7\"], [0.6, \"#e6f5d0\"], [0.7, \"#b8e186\"], [0.8, \"#7fbc41\"], [0.9, \"#4d9221\"], [1, \"#276419\"]], \"sequential\": [[0.0, \"#0d0887\"], [0.1111111111111111, \"#46039f\"], [0.2222222222222222, \"#7201a8\"], [0.3333333333333333, \"#9c179e\"], [0.4444444444444444, \"#bd3786\"], [0.5555555555555556, \"#d8576b\"], [0.6666666666666666, \"#ed7953\"], [0.7777777777777778, \"#fb9f3a\"], [0.8888888888888888, \"#fdca26\"], [1.0, \"#f0f921\"]], \"sequentialminus\": [[0.0, \"#0d0887\"], [0.1111111111111111, \"#46039f\"], [0.2222222222222222, \"#7201a8\"], [0.3333333333333333, \"#9c179e\"], [0.4444444444444444, \"#bd3786\"], [0.5555555555555556, \"#d8576b\"], [0.6666666666666666, \"#ed7953\"], [0.7777777777777778, \"#fb9f3a\"], [0.8888888888888888, \"#fdca26\"], [1.0, \"#f0f921\"]]}, \"colorway\": [\"#636efa\", \"#EF553B\", \"#00cc96\", \"#ab63fa\", \"#FFA15A\", \"#19d3f3\", \"#FF6692\", \"#B6E880\", \"#FF97FF\", \"#FECB52\"], \"font\": {\"color\": \"#2a3f5f\"}, \"geo\": {\"bgcolor\": \"white\", \"lakecolor\": \"white\", \"landcolor\": \"#E5ECF6\", \"showlakes\": true, \"showland\": true, \"subunitcolor\": \"white\"}, \"hoverlabel\": {\"align\": \"left\"}, \"hovermode\": \"closest\", \"mapbox\": {\"style\": \"light\"}, \"paper_bgcolor\": \"white\", \"plot_bgcolor\": \"#E5ECF6\", \"polar\": {\"angularaxis\": {\"gridcolor\": \"white\", \"linecolor\": \"white\", \"ticks\": \"\"}, \"bgcolor\": \"#E5ECF6\", \"radialaxis\": {\"gridcolor\": \"white\", \"linecolor\": \"white\", \"ticks\": \"\"}}, \"scene\": {\"xaxis\": {\"backgroundcolor\": \"#E5ECF6\", \"gridcolor\": \"white\", \"gridwidth\": 2, \"linecolor\": \"white\", \"showbackground\": true, \"ticks\": \"\", \"zerolinecolor\": \"white\"}, \"yaxis\": {\"backgroundcolor\": \"#E5ECF6\", \"gridcolor\": \"white\", \"gridwidth\": 2, \"linecolor\": \"white\", \"showbackground\": true, \"ticks\": \"\", \"zerolinecolor\": \"white\"}, \"zaxis\": {\"backgroundcolor\": \"#E5ECF6\", \"gridcolor\": \"white\", \"gridwidth\": 2, \"linecolor\": \"white\", \"showbackground\": true, \"ticks\": \"\", \"zerolinecolor\": \"white\"}}, \"shapedefaults\": {\"line\": {\"color\": \"#2a3f5f\"}}, \"ternary\": {\"aaxis\": {\"gridcolor\": \"white\", \"linecolor\": \"white\", \"ticks\": \"\"}, \"baxis\": {\"gridcolor\": \"white\", \"linecolor\": \"white\", \"ticks\": \"\"}, \"bgcolor\": \"#E5ECF6\", \"caxis\": {\"gridcolor\": \"white\", \"linecolor\": \"white\", \"ticks\": \"\"}}, \"title\": {\"x\": 0.05}, \"xaxis\": {\"automargin\": true, \"gridcolor\": \"white\", \"linecolor\": \"white\", \"ticks\": \"\", \"title\": {\"standoff\": 15}, \"zerolinecolor\": \"white\", \"zerolinewidth\": 2}, \"yaxis\": {\"automargin\": true, \"gridcolor\": \"white\", \"linecolor\": \"white\", \"ticks\": \"\", \"title\": {\"standoff\": 15}, \"zerolinecolor\": \"white\", \"zerolinewidth\": 2}}}, \"title\": {\"text\": \"Harmonic oscillator energies\"}, \"xaxis\": {\"title\": {\"text\": \"Theoretical\"}}, \"yaxis\": {\"title\": {\"text\": \"Empirical\"}}},\n",
              "                        {\"responsive\": true}\n",
              "                    ).then(function(){\n",
              "                            \n",
              "var gd = document.getElementById('173d1b67-89cd-4c09-a6cc-a5b944e7d5da');\n",
              "var x = new MutationObserver(function (mutations, observer) {{\n",
              "        var display = window.getComputedStyle(gd).display;\n",
              "        if (!display || display === 'none') {{\n",
              "            console.log([gd, 'removed!']);\n",
              "            Plotly.purge(gd);\n",
              "            observer.disconnect();\n",
              "        }}\n",
              "}});\n",
              "\n",
              "// Listen for the removal of the full notebook cells\n",
              "var notebookContainer = gd.closest('#notebook-container');\n",
              "if (notebookContainer) {{\n",
              "    x.observe(notebookContainer, {childList: true});\n",
              "}}\n",
              "\n",
              "// Listen for the clearing of the current output cell\n",
              "var outputEl = gd.closest('.output');\n",
              "if (outputEl) {{\n",
              "    x.observe(outputEl, {childList: true});\n",
              "}}\n",
              "\n",
              "                        })\n",
              "                };\n",
              "                \n",
              "            </script>\n",
              "        </div>\n",
              "</body>\n",
              "</html>"
            ]
          },
          "metadata": {
            "tags": []
          }
        }
      ]
    },
    {
      "cell_type": "markdown",
      "metadata": {
        "id": "iuGP-0XEWFTN"
      },
      "source": [
        "## Test with Morse potential"
      ]
    },
    {
      "cell_type": "code",
      "metadata": {
        "id": "THwx2quUNly9",
        "cellView": "form"
      },
      "source": [
        "#@title Class to generate Morse potential and wavefunctions\n",
        "#@markdown Double click to see the code\n",
        "import numpy as np\n",
        "from scipy.special import eval_genlaguerre\n",
        "from scipy.special import gamma, factorial\n",
        "\n",
        "class Morse2D:\n",
        "\n",
        "  def __init__(self, a_min = 0.05, a_max = 0.1, hbar = 1, De_min= 0.1,\n",
        "               De_max = 0.5, xe_min =-5, xe_max = 5, m=1,\n",
        "               x_min = -8, x_max=8, y_min = -8, y_max=8, n_points = 200):\n",
        "    self.a_min = a_min # a ~ U(a_min, a_max)\n",
        "    self.a_max = a_max\n",
        "    self.m = m\n",
        "    self.xe_min = xe_min\n",
        "    self.xe_max = xe_max\n",
        "    self.hbar = hbar\n",
        "    self.De_min = De_min\n",
        "    self.De_max = De_max\n",
        "    self.xmin = x_min\n",
        "    self.xmax = x_max\n",
        "    self.ymin = y_min\n",
        "    self.ymax = y_max\n",
        "    self.n_points = n_points # Number of points of the grid \n",
        "    self.a_x=None\n",
        "    self.a_y=None\n",
        "    self.xe = None\n",
        "    self.ye = None\n",
        "    self.De_x = None\n",
        "    self.De_y = None\n",
        "\n",
        "  def generate_a(self, N):\n",
        "    if N==None:\n",
        "      N = 100\n",
        "    self.a_x = np.random.uniform(self.a_min, self.a_max, N).reshape(-1,1)\n",
        "    self.a_y = np.random.uniform(self.a_min, self.a_max, N).reshape(-1,1)\n",
        "    self.xe = np.random.uniform(self.xe_min, self.xe_max, N).reshape(-1,1)\n",
        "    self.ye = np.random.uniform(self.xe_min, self.xe_max, N).reshape(-1,1)\n",
        "    self.De_x = np.random.uniform(self.De_min, self.De_max, N).reshape(-1,1)\n",
        "    self.De_y = np.random.uniform(self.De_min, self.De_max, N).reshape(-1,1)\n",
        "\n",
        "  def order_energy(self,n_state, Dex, ax, Dey, ay):\n",
        "    \"\"\"\n",
        "    Given omegax, omegay, we find the n_state-th excited state\n",
        "    Args:\n",
        "      n_state (int): Number of excited state\n",
        "      omegax (float): omega in the x direction\n",
        "      omegay (float): omega in the y direction\n",
        "    Returns:\n",
        "      (int) nx of the n_state excited state\n",
        "      (int) ny of the n_state excited state\n",
        "    \"\"\"\n",
        "    # With these omegas we create a list of the pairs (nx,ny) ordered by energy E = hbar*(omega_x*(nx+1/2) + omega_y*(ny+1/2))\n",
        "    # Up to n_state (so nx,ny<= n_state), and then we order them by energy\n",
        "    n = n_state+1\n",
        "    nxs = np.zeros(n**2)\n",
        "    nys = np.zeros(n**2)\n",
        "    Es = np.zeros(n**2)\n",
        "    i=0\n",
        "    for nx in range(n):\n",
        "      for ny in range(n): \n",
        "          nxs[i] = nx\n",
        "          nys[i] = ny\n",
        "          # Energy x\n",
        "          lambx= np.sqrt(2*self.m*Dex)/(ax*self.hbar)\n",
        "          Ex = - self.hbar*self.hbar*ax*ax/(2*self.m)*(lambx - nx-1/2)**2\n",
        "          # Energy y\n",
        "          lamby = np.sqrt(2*self.m*Dey)/(ay*self.hbar)\n",
        "          Ey = - self.hbar*self.hbar*ay*ay/(2*self.m)*(lamby - ny-1/2)**2\n",
        "          Es[i] = Ex + Ey\n",
        "          i+=1\n",
        "    \n",
        "    idxs = np.argsort(Es)\n",
        "    nxs = nxs[idxs]\n",
        "    nys = nys[idxs]\n",
        "    return int(nxs[n_state]), int(nys[n_state])\n",
        "\n",
        "\n",
        "  def morse_wavefunction(self,x,n, a, De, xe):\n",
        "    \"\"\"\n",
        "    Returns the morse 1D wavefunction\n",
        "    Args:\n",
        "      N (int): Number of samples\n",
        "      n (int): Energetic level\n",
        "      a (np.array): Values of a for every sample\n",
        "      De (np.array): Values of De for every sample\n",
        "    \"\"\"\n",
        "    \n",
        "    # Calculate lambda parameter\n",
        "    lamb = np.sqrt(2*self.m*De)/(a*self.hbar)\n",
        "\n",
        "    y = (x-xe)*a\n",
        "    z = 2*lamb*np.exp(-y)\n",
        "    # Calculate terms of the wavefunction\n",
        "    exp = np.exp(-1/2*z) #exponential term\n",
        "    pot = z**(lamb -n -1/2) # Potential term\n",
        "\n",
        "    laguerre = eval_genlaguerre(n, 2*lamb - 2*n -1, z)\n",
        "    phi_n = pot*exp*laguerre\n",
        "    # Finally, calculate the potential\n",
        "    potential = De*(np.exp(-2*y) - 2*np.exp(-y))\n",
        "\n",
        "    return phi_n, potential, x\n",
        "\n",
        "  def generate_data(self, N=None, n=0, new_a=True, nx=None, ny=None):\n",
        "    '''\n",
        "    Generates N random data points from the energetic level n\n",
        "    '''\n",
        "    if new_a:\n",
        "      self.generate_a(N)\n",
        "\n",
        "    # Generate x and y wavefunctions\n",
        "    potential_x = np.zeros((N,self.n_points))\n",
        "    potential_y = np.zeros((N,self.n_points))\n",
        "    phi_x = np.zeros((N,self.n_points))\n",
        "    phi_y = np.zeros((N,self.n_points))\n",
        "    nxs = np.zeros(N)\n",
        "    nys = np.zeros(N)\n",
        "    # Create grid\n",
        "    x = np.arange(self.xmin, self.xmax, (self.xmax - self.xmin)/self.n_points) # Grid of x values\n",
        "    y = np.arange(self.ymin, self.ymax, (self.ymax - self.ymin)/self.n_points) # Grid of x values\n",
        "\n",
        "    for sample in range(N): \n",
        "      if nx==None or ny==None:\n",
        "        nx, ny = self.order_energy(n, self.De_x[sample], self.a_x[sample],self.De_y[sample], self.a_y[sample])\n",
        "      p_x, pot_x, _ =  self.morse_wavefunction(x,nx, self.a_x[sample], self.De_x[sample], self.xe[sample])\n",
        "      p_y, pot_y, _ =  self.morse_wavefunction(y,ny, self.a_y[sample], self.De_y[sample], self.ye[sample])\n",
        "      phi_x[sample,:] = p_x\n",
        "      phi_y[sample,:] = p_y\n",
        "      potential_x[sample,:] = pot_x\n",
        "      potential_y[sample,:] = pot_y\n",
        "      nxs[sample] = nx\n",
        "      nys[sample] = ny\n",
        "\n",
        "    # Declare the vectors of potential and phi\n",
        "    phi = np.zeros((N, self.n_points, self.n_points))\n",
        "    potential = np.zeros((N, self.n_points, self.n_points))\n",
        "    ones = np.repeat(1,self.n_points)\n",
        "    h1 = (self.xmax - self.xmin)/self.n_points\n",
        "    h2 = (self.ymax - self.ymin)/self.n_points\n",
        "\n",
        "    for i in range(N):\n",
        "        phi_xi = np.tensordot(phi_x[i,:], ones, axes=0).T\n",
        "        phi_yi = np.tensordot(phi_y[i,:], ones, axes=0)\n",
        "        phi_i = phi_xi*phi_yi #np.outer(phi_x[i,:], phi_y[i,:].T)\n",
        "        C = 1./np.sqrt(np.sum(phi_i*phi_i*h1*h2)) # Normalization constant\n",
        "        phi[i,:,:] = C*phi_i\n",
        "        # Potential\n",
        "        pot_x = np.tensordot(potential_x[i,:], ones, axes=0).T\n",
        "        pot_y = np.tensordot(potential_y[i,:], ones, axes=0)\n",
        "        potential[i,:,:] = pot_x + pot_y\n",
        "  \n",
        "    return phi, x,y,potential, self.a_x, self.a_y, self.De_x, self.De_y, self.xe, self.ye, nxs, nys\n",
        "\n",
        "\n",
        "  def get_energy(self, n,nx = None, ny=None, a_x = None, De_x = None, a_y = None, De_y = None):\n",
        "    if (a_x==None).any():\n",
        "      a_x = self.a_x\n",
        "    if (De_x==None).any():\n",
        "      De_x = self.De_x\n",
        "    if (a_y==None).any():\n",
        "      a_y = self.a_y\n",
        "    if (De_y==None).any():\n",
        "      De_y = self.De_y\n",
        "\n",
        "    N = a_x.shape[0]\n",
        "    E = np.zeros(N)\n",
        "    for i in range(N):\n",
        "      if nx==None or ny==None:\n",
        "        nx, ny = self.order_energy(n, De_x[i], a_x[i],De_y[i], a_y[i])\n",
        "      #Energy x\n",
        "      lambx = np.sqrt(2*self.m*De_x[i])/(a_x[i]*self.hbar)\n",
        "      Ex = - self.hbar*self.hbar*a_x[i]**2/(2*self.m)*(lambx - nx-1/2)**2\n",
        "      #Energy y\n",
        "      lamby = np.sqrt(2*self.m*De_y[i])/(a_y[i]*self.hbar)\n",
        "      Ey = - self.hbar*self.hbar*a_y[i]**2/(2*self.m)*(lamby - ny-1/2)**2\n",
        "      E[i] = Ex + Ey\n",
        "    return E\n"
      ],
      "execution_count": 31,
      "outputs": []
    },
    {
      "cell_type": "code",
      "metadata": {
        "id": "86IVHykENbNr"
      },
      "source": [
        "#@title Generate Morse Data { form-width: \"30%\" }\n",
        "n_points=100\n",
        "morse = Morse2D(n_points = n_points,  x_min = -8, x_max=8,y_min = -8, y_max=8, xe_min =-0.05,\n",
        "              xe_max = 0.05, a_min = 0.09, a_max = 0.09, De_max = 10, De_min =7)\n",
        "\n",
        "phi_0, x,y, potential, a_x, a_y, De_x, De_y, xe, ye, nxs, nys = morse.generate_data(500,0, True) \n",
        "idx=0"
      ],
      "execution_count": 32,
      "outputs": []
    },
    {
      "cell_type": "code",
      "metadata": {
        "id": "waVZqJmWh1of",
        "cellView": "form",
        "colab": {
          "base_uri": "https://localhost:8080/",
          "height": 350
        },
        "outputId": "b4afd1c0-1680-4077-9440-ddd824ccbe19"
      },
      "source": [
        "#@title Example of potential and wavefunctions\n",
        "import matplotlib.pyplot as plt\n",
        "from matplotlib import ticker, cm\n",
        "\n",
        "idx +=1\n",
        "fig, (ax1, ax2) = plt.subplots(1, 2,figsize=(15,5))\n",
        "\n",
        "cs1 = ax1.contourf(phi_0[idx,:,:])\n",
        "ax1.set_title(\"Wavefunction\")\n",
        "ax1.set_xlabel(\"x\")\n",
        "ax1.set_ylabel(\"y\")\n",
        "cs2 = ax2.contourf(potential[idx,:,:])\n",
        "ax2.set_title(\"Potential\")\n",
        "ax2.set_xlabel(\"x\")\n",
        "ax2.set_ylabel(\"y\")\n",
        "cbar1 = fig.colorbar(cs1, ax=ax1)\n",
        "cbar2 = fig.colorbar(cs2, ax=ax2)\n",
        "plt.show()"
      ],
      "execution_count": 33,
      "outputs": [
        {
          "output_type": "display_data",
          "data": {
            "image/png": "[encoded data removed]",
            "text/plain": [
              "<Figure size 1080x360 with 4 Axes>"
            ]
          },
          "metadata": {
            "tags": [],
            "needs_background": "light"
          }
        }
      ]
    },
    {
      "cell_type": "code",
      "metadata": {
        "id": "4sJhC6lARWMR",
        "colab": {
          "base_uri": "https://localhost:8080/"
        },
        "outputId": "e4b780fe-9ffa-4356-fb0d-4cad1767dd06"
      },
      "source": [
        "#@title Predict wavefunctions\n",
        "pred = conv_model(potential)\n",
        "print(\"Test MSE: %f\" % train.loss(pred, phi_0))\n",
        "pred = pred.numpy().reshape(-1,n_points, n_points)"
      ],
      "execution_count": 34,
      "outputs": [
        {
          "output_type": "stream",
          "text": [
            "Test MSE: 0.000006\n"
          ],
          "name": "stdout"
        }
      ]
    },
    {
      "cell_type": "code",
      "metadata": {
        "id": "68YNeFjvm4sZ",
        "colab": {
          "base_uri": "https://localhost:8080/",
          "height": 350
        },
        "cellView": "form",
        "outputId": "4f74f99f-1d77-411b-a5cb-8f32e6c47ca1"
      },
      "source": [
        "#@title Real and predicted wavefunctions\n",
        "import matplotlib.pyplot as plt\n",
        "from matplotlib import ticker, cm\n",
        "\n",
        "idx +=1\n",
        "fig, (ax1, ax2,ax3) = plt.subplots(1, 3,figsize=(17,5))\n",
        "\n",
        "cs1 = ax1.contourf(phi_0[idx,:,:])\n",
        "ax1.set_title(\"Real\")\n",
        "ax1.set_xlabel(\"x\")\n",
        "ax1.set_ylabel(\"y\")\n",
        "\n",
        "\n",
        "cs2 = ax2.contourf(pred[idx,:,:])\n",
        "ax2.set_title(\"Predicted\")\n",
        "ax2.set_xlabel(\"x\")\n",
        "ax2.set_ylabel(\"y\")\n",
        "\n",
        "cs3 = ax3.contourf(potential[idx,:,:])\n",
        "ax3.set_title(\"Potential\")\n",
        "ax3.set_xlabel(\"x\")\n",
        "ax3.set_ylabel(\"y\")\n",
        "\n",
        "cbar1 = fig.colorbar(cs1, ax=ax1)\n",
        "cbar2 = fig.colorbar(cs2, ax=ax2)\n",
        "cbar3 = fig.colorbar(cs3, ax=ax3)\n",
        "plt.show()"
      ],
      "execution_count": null,
      "outputs": [
        {
          "output_type": "display_data",
          "data": {
            "image/png": "[encoded data removed]",
            "text/plain": [
              "<Figure size 1224x360 with 6 Axes>"
            ]
          },
          "metadata": {
            "tags": [],
            "needs_background": "light"
          }
        }
      ]
    },
    {
      "cell_type": "code",
      "metadata": {
        "id": "QBTEyWRsm4sn",
        "colab": {
          "base_uri": "https://localhost:8080/"
        },
        "outputId": "d6d1aa5e-4d33-4ede-9294-ae4651bb6831"
      },
      "source": [
        "E = empirical_energy(phi_0, potential,xmin=-10, xmax = 10, n_points=100)\n",
        "E_emp = empirical_energy(pred, potential,xmin=-10, xmax = 10, n_points= 100)\n",
        "print('MSE(E) = ', np.mean((E-E_emp)**2))"
      ],
      "execution_count": null,
      "outputs": [
        {
          "output_type": "stream",
          "text": [
            "MSE(E) =  0.00010798170226293741\n"
          ],
          "name": "stdout"
        }
      ]
    },
    {
      "cell_type": "code",
      "metadata": {
        "id": "UBI3ibktm4sy",
        "cellView": "form",
        "colab": {
          "base_uri": "https://localhost:8080/",
          "height": 542
        },
        "outputId": "814370f6-7857-4e63-db1c-bd03b2f26914"
      },
      "source": [
        "#@title Real and predicted mean energies\n",
        "import plotly\n",
        "from plotly.graph_objs import graph_objs as go\n",
        "from plotly.subplots import make_subplots\n",
        "from plotly.offline import iplot\n",
        "\n",
        "fig = go.Figure()\n",
        "fig.add_trace(go.Scatter(\n",
        "    x=E,\n",
        "    y=E_emp,\n",
        "    mode=\"markers\", name = \"empirical\"))\n",
        "\n",
        "fig.add_trace(go.Scatter(\n",
        "    x=E,\n",
        "    y=E,\n",
        "    mode=\"lines\", name = \"theorerical\"))\n",
        "\n",
        "fig.update_layout(\n",
        "    title=\"Morse potential energies\",\n",
        "    xaxis_title=\"Theoretical\",\n",
        "    yaxis_title=\"Empirical\")\n",
        "\n",
        "fig.show()"
      ],
      "execution_count": null,
      "outputs": [
        {
          "output_type": "display_data",
          "data": {
            "text/html": [
              "<html>\n",
              "<head><meta charset=\"utf-8\" /></head>\n",
              "<body>\n",
              "    <div>\n",
              "            <script src=\"https://cdnjs.cloudflare.com/ajax/libs/mathjax/2.7.5/MathJax.js?config=TeX-AMS-MML_SVG\"></script><script type=\"text/javascript\">if (window.MathJax) {MathJax.Hub.Config({SVG: {font: \"STIX-Web\"}});}</script>\n",
              "                <script type=\"text/javascript\">window.PlotlyConfig = {MathJaxConfig: 'local'};</script>\n",
              "        <script src=\"https://cdn.plot.ly/plotly-latest.min.js\"></script>    \n",
              "            <div id=\"04dc0e87-26fe-4c51-8d8e-0b3392874f53\" class=\"plotly-graph-div\" style=\"height:525px; width:100%;\"></div>\n",
              "            <script type=\"text/javascript\">\n",
              "                \n",
              "                    window.PLOTLYENV=window.PLOTLYENV || {};\n",
              "                    \n",
              "                if (document.getElementById(\"04dc0e87-26fe-4c51-8d8e-0b3392874f53\")) {\n",
              "                    Plotly.newPlot(\n",
              "                        '04dc0e87-26fe-4c51-8d8e-0b3392874f53',\n",
              "                        [{\"mode\": \"markers\", \"name\": \"empirical\", \"type\": \"scatter\", \"x\": [-30.40834545073611, -28.843332649184187, -29.199164573087728, -29.85778996311814, -29.794986341027066, -29.661321979306138, -28.953461814447476, -29.453834515092993, -28.891157387370008, -28.784133112819084, -29.300302866110087, -28.093663040334413, -30.299011085648655, -28.88822555437452, -28.881267249638416, -30.10410721469209, -29.68157509500936, -30.094997925044208, -28.639833338740104, -28.965274666685723, -29.69455408160782, -29.173016271220412, -29.47581899357604, -29.40145697856082, -28.023293053643528, -29.218665043894685, -29.58012783531303, -29.028806556990308, -28.473777719950828, -28.685929514829088, -29.142740733493095, -28.07946975196555, -29.7704537781612, -29.381886911831412, -28.37344512279042, -29.409532838042765, -28.84375758262258, -29.099967627737804, -27.931373160129866, -28.058799329226897, -27.93926653722394, -28.982510891772904, -29.50880222957751, -29.384402171493207, -28.394981806456162, -28.663976270014906, -30.506093016686496, -28.784051413701548, -29.070575681054255, -29.783327033494032, -28.311942098728306, -29.09918012760357, -29.804271952544045, -28.595404934758744, -28.720289882412995, -28.52912847219252, -29.825148654031516, -29.386174344525767, -29.438035394054296, -29.91401680247957, -29.99184553923186, -29.202971098743504, -28.820271422501932, -29.194985181957968, -30.189664154824325, -28.62536556341668, -30.010915192850746, -29.180372364934755, -29.230113071115188, -28.983070467716047, -29.158015481844146, -29.515703519596357, -29.591725441412652, -28.94817787006922, -29.108998279447935, -29.8441887234356, -29.6438399797649, -30.38688585264365, -28.1094354174704, -28.24522243161547, -30.200107035587116, -28.885559103389344, -28.673831711030868, -28.616709538576874, -28.917981431232022, -29.28302288539366, -29.464802493759702, -28.841725670431693, -28.99508618811801, -28.65371456788952, -28.69650141946766, -29.06264778519466, -29.155929007554796, -28.33973314216263, -29.605529472855324, -28.57198378280891, -29.08447293094818, -29.424447245065227, -28.34962937712292, -28.50321681357924, -27.93454290344269, -29.770689379362963, -28.959890237370438, -29.380837910146848, -28.708414859491814, -28.06087172648305, -28.431654828275192, -28.725357114048485, -29.093629097856674, -29.38800420055257, -29.646402513610216, -27.9551626522343, -29.056448840974106, -28.22219882821175, -28.67467199904645, -30.177917400252554, -29.99181754145663, -29.208471753202858, -29.906907117258694, -29.294250497424862, -29.590112058336288, -29.86394703521675, -29.20623467151708, -28.249765498032517, -28.844113572399923, -28.48695614710466, -28.34509242010378, -29.31955850569102, -28.995592281304486, -29.13057959523704, -29.34219651277566, -30.29444677196947, -30.619753248095485, -29.604840281385968, -28.654278064102964, -28.55837694955616, -28.231807741049664, -30.274507609354607, -29.206890267989383, -29.30479336308902, -27.804637551122767, -30.312424260817554, -29.10700418231261, -28.608543391181392, -30.69404243202144, -28.338715948541815, -29.195382010336385, -27.99490246829803, -30.18088012472707, -29.245832435110497, -28.807043104713767, -29.494542477600707, -29.16259048427463, -29.540952081509232, -28.644982551435646, -30.446566084631215, -29.563634679208555, -28.55460663716851, -29.954090251191836, -29.150389765930704, -28.373072992184436, -29.3860839041139, -28.731105584649757, -28.817524088839473, -28.535996143873597, -29.763829210860457, -29.61954356653091, -30.10229280357007, -28.537003920969717, -28.291051762238375, -29.09017224105626, -28.193483586278834, -28.729643057539622, -28.30872839527653, -28.82576104178025, -28.835554199411376, -28.65069981986454, -29.318898899317695, -29.633402781638438, -30.152520807332607, -30.07670546771709, -28.665004392108678, -29.090056830883583, -29.18459356662836, -29.139034575954724, -29.110416296805223, -29.26226743694397, -28.86302409114132, -29.770182228490835, -29.741183148408542, -28.989572865527975, -29.86068256198158, -30.588440517603726, -28.0146888540539, -28.04953534505893, -28.726822976379363, -29.82437676891376, -30.260880855479794, -29.95455900848172, -28.884831628873073, -29.311145433600238, -28.92885654613915, -29.63022788823714, -29.85041003325849, -28.810450412885228, -29.763710076582953, -29.400031113819907, -29.296427174771758, -29.011622563751292, -28.480669129434244, -29.10203807751975, -29.122162225954572, -29.959754441997973, -28.961386430811118, -29.292857378241994, -28.942333473663087, -29.955601314514688, -28.69771297294364, -28.87346314631834, -28.456208505479523, -30.022481486672977, -29.714739981987933, -28.905414083752618, -29.704743015105493, -30.103673198329087, -28.27806440351238, -28.80516787120247, -30.316171480039305, -30.165024072962176, -29.702599004663323, -28.77528456407669, -29.865224984403994, -28.248439451135532, -27.818762619278075, -30.23706628237738, -29.20937637128669, -29.105716757692132, -28.3893681480708, -30.329163715518547, -28.525122949630838, -28.728543824395636, -28.16084820836762, -29.053423100956465, -29.173937480039587, -28.745069469722125, -29.528712444985732, -27.967784084602332, -28.19474801558132, -29.484830862561125, -30.05792487711969, -30.40449216361901, -29.79636855305312, -30.43324476391823, -29.618845238977798, -29.08810269372061, -29.795909178890888, -29.280374808185215, -28.214989154139023, -28.734693774516337, -29.058482497592056, -29.868888794541974, -28.97731602751663, -29.127212066806248, -27.864401098958076, -30.271012683756222, -29.700762108009894, -29.680737067598407, -29.1756017017833, -27.84483504532595, -30.014433359149468, -29.426236192692553, -29.825142689033072, -30.291299293922773, -29.138184452503456, -28.119370715915025, -29.255737311187826, -28.718669757938834, -30.369407262176264, -28.508728538200383, -29.131808350027285, -29.513362945049728, -29.141527292405986, -29.428312159580095, -29.52151062477887, -28.066456147007084, -29.092551139314303, -29.85131512706146, -28.895241405437176, -28.317603955163587, -28.267401798527036, -29.346438430282433, -29.009288602301567, -29.717140530459446, -29.958613210433594, -30.244509545831544, -30.03664477621285, -27.91159653006445, -30.26938933789597, -29.63054231904808, -28.700994884231214, -29.612987388600374, -29.27281294028647, -29.582397819575476, -28.74926182853064, -29.624483915679086, -30.01596016964704, -30.728321846705946, -28.72013666246038, -29.03672886892304, -28.666229990231564, -28.677058001754702, -29.173474450221367, -29.900283626058496, -29.58260795993916, -28.72969467959533, -28.896894945547295, -28.918654852698587, -29.286976423912908, -29.112295191822216, -28.697409886612895, -29.304074624307578, -28.912773627453824, -29.226468275129747, -29.885988035976716, -29.994208818578805, -27.703570270794604, -29.955871635529572, -29.13911417167882, -28.63164017365826, -29.006422191398354, -28.16870912576087, -29.63011167970293, -29.904964796656156, -28.4703208988286, -29.93901642279245, -28.25027304929514, -29.14815211642163, -29.663214149729956, -29.9420065212977, -28.944293299806667, -30.43971067618568, -29.309535807066336, -29.430037219742847, -28.923128378725977, -29.765167548480502, -29.528924133680942, -28.559765814109035, -28.304688289237106, -30.568327774949562, -29.680669817895655, -28.04985932802495, -28.935858585874975, -28.427978511769098, -28.08957510243469, -29.01503415644983, -28.343937018661205, -28.51884352285088, -29.94193938368129, -28.72275943862665, -30.148488925225625, -29.24444056062237, -28.959463309765752, -28.833674829844554, -28.67751010569993, -30.008157735751027, -27.953564549535614, -29.374012446061236, -30.211274479614794, -29.107415767863927, -29.988500486826855, -28.571849888379575, -28.881852933593432, -29.03491950965758, -28.847401656150005, -28.75187183292721, -29.24661186042461, -28.561864062078676, -28.91745956852874, -29.194302113462754, -28.27602657286383, -28.019563349520443, -28.776224457719515, -29.800194077515187, -29.14358956133382, -28.624401593864924, -29.721398639811742, -29.225382105939328, -28.50134894476689, -29.345795896391238, -28.327639656199267, -30.04042211355005, -28.2670283159448, -28.927098037124825, -28.59093680764842, -29.970270183046253, -29.60494956125395, -29.483344502486013, -29.84593917825603, -28.86927094577192, -28.72991584334727, -29.239789458286918, -28.780723586716885, -30.19504911875545, -29.022815175389542, -29.606355664614558, -28.71894408717581, -28.51289608833421, -28.82889145030019, -28.931781679064414, -28.9489514664755, -29.693275719912968, -29.534108124371578, -29.19864718653143, -29.511003737353892, -28.970153110686045, -29.755514117356498, -29.212142262455693, -29.318821821016474, -28.991271735589798, -29.054665947299956, -28.875030650022428, -30.543067391850023, -29.64693388550403, -28.80488052754826, -29.621898950275664, -29.347469463259173, -30.0205989887756, -30.03927279406049, -28.227318730662983, -29.714302499908932, -29.149747721697356, -28.377214271175493, -29.194307948000713, -29.683136881843648, -28.70954717456441, -29.67498370997224, -29.82332888229598, -28.821378215165236, -28.034215625902508, -28.847643564943642, -28.743405669455885, -28.183706047489878, -30.0410031687994, -30.14644797033824, -29.376892091804503, -28.97960296379144, -28.500830706934547, -28.885117647740564, -28.097788118416535, -29.296504827235356, -30.14054956179734, -28.406086789657515, -30.165454315265045, -30.55764611837483, -29.21243911212058, -28.76027098354178, -28.815448438272238, -28.760203917811683, -30.19548583237304, -28.581718685262476, -29.05950847508857, -28.934047909915417, -28.855601889845534, -29.223015433739654, -28.559201007199782, -30.04129755576325, -28.094368421177542, -28.170303448764365, -29.96772968380602, -28.86557755122302, -29.11554900138984, -28.979766908558915, -28.533526883635826, -29.61968297030092, -28.521111458954994, -28.476167460577983, -28.910618164099848, -28.470998617133983, -30.179321532982794, -28.967681122059755, -29.10735888887498, -28.451258328150058, -29.842318318200565, -29.246363435548133, -30.01557035862717, -28.154678334348006, -28.34331300371354, -29.43912427937663, -29.9109460006497, -28.60357582341443, -30.393175349298726, -30.22722268515493, -29.133769282803787, -28.951801373458142, -30.164016566386962, -29.227406849846417, -28.156798401540307, -29.882218658547842, -30.269441526113983, -29.358180090683238], \"y\": [-30.370725751874367, -28.824448084955737, -29.198604868514387, -29.947139956515027, -29.7873796712009, -29.644307973013532, -28.980081062436927, -29.43821999742422, -28.90230907133773, -28.765985030149196, -29.334642578806367, -28.107530210047983, -30.35727936018063, -28.84489078560945, -28.897632748912212, -30.20373003923391, -29.736402152398814, -30.069650961344045, -28.593650227409444, -28.980022852413747, -29.70652283879219, -29.192197341933902, -29.43024005063734, -29.37258563291649, -27.992328043013, -29.24659644020761, -29.545538750212692, -29.012728408095207, -28.47382788025059, -28.695204110331048, -29.136743094272713, -28.044096068456266, -29.77158099828681, -29.362733878792913, -28.385103283332835, -29.38927889980979, -28.830046429085733, -29.07262586604289, -27.94374964293685, -28.055127883773324, -27.940879260784087, -28.967134115699015, -29.506686741879534, -29.350986672126908, -28.395719739545417, -28.632419891234683, -30.528604219311347, -28.7841451504209, -29.032007804791302, -29.76062592075849, -28.321818789284666, -29.11958123529241, -29.7543390100057, -28.581839678480875, -28.724475986875248, -28.48566782369427, -29.85592515331342, -29.402017686247362, -29.40029803196896, -29.864723768725774, -29.973704081758406, -29.264122838067095, -28.821677650763622, -29.19814713988789, -30.275696278054795, -28.599046303795213, -29.99502204354367, -29.20359797206854, -29.251958696009055, -28.988018253857685, -29.13006551868339, -29.472029691324177, -29.60708003483587, -28.96810756759046, -29.138491850002207, -29.901734758448463, -29.726709940425614, -30.338763090414904, -28.101305476497984, -28.26792221561919, -30.23155501379973, -28.851650473585977, -28.672258040869043, -28.636835434891598, -28.895797327092556, -29.247655268309558, -29.42408101574953, -28.868747113606954, -29.017825029335267, -28.703067546595875, -28.660648026985108, -29.090450131893125, -29.161781053364678, -28.360136295299007, -29.58102845754997, -28.54228628209558, -29.08739318523096, -29.375168061978748, -28.31692377266197, -28.49912405960615, -27.936880997682803, -29.8025236041924, -28.970949411497436, -29.34755388460174, -28.76185026192378, -28.0553201742995, -28.409946436288937, -28.733698874741574, -29.095442346885175, -29.382015912479133, -29.62961413485105, -27.93602860750561, -29.10639162674698, -28.202820668001838, -28.70401483545177, -30.151967958265477, -30.003249663203697, -29.185969660033457, -29.935576133181335, -29.340754969249474, -29.605436241961417, -29.860982447932898, -29.179370568987842, -28.22276489574008, -28.835652427114876, -28.44357411954348, -28.32939215215836, -29.3165805929174, -28.963143835939235, -29.094187432172497, -29.325908021599005, -30.341851982284147, -30.651361273679314, -29.56492971020076, -28.727605548796323, -28.558654145635273, -28.234207797601115, -30.285319342712885, -29.179778950694306, -29.282701047031814, -27.789819969895515, -30.322466775216974, -29.071626201342756, -28.6887652210676, -30.78610026766943, -28.354472337959816, -29.211390237229985, -27.97870669003601, -30.15899998356984, -29.212484526113172, -28.866141337888006, -29.534322721768348, -29.125351109602562, -29.50725980178848, -28.6165201410622, -30.437516650822847, -29.563564542159636, -28.612533010028375, -29.99372920394302, -29.12038197209481, -28.4139699894632, -29.42852661070294, -28.696606556071462, -28.879689227655202, -28.551489623003594, -29.745288395380985, -29.69769312334959, -30.168721922212217, -28.57501435975987, -28.293653506048543, -29.141891841709754, -28.16591577725698, -28.76456406840051, -28.352371910758272, -28.81521986743108, -28.79800664131373, -28.642008047752757, -29.384186480574048, -29.621822097494544, -30.13888768212105, -30.082417050534843, -28.669988103018834, -29.11270217529092, -29.154162066998648, -29.10735286226378, -29.098022440992644, -29.263484568914848, -28.831157589400664, -29.728900559019245, -29.777113224422404, -29.020525144525312, -29.93559992428693, -30.56961795685302, -28.00082172704667, -28.03201911187396, -28.724389324220006, -29.818555341823572, -30.229775701088155, -30.02313052272596, -28.898510844637258, -29.308022241843013, -28.928532345322505, -29.688936519367456, -29.885985444765144, -28.787549600534746, -29.750586348171794, -29.368585935772565, -29.26836916556698, -29.036997667214326, -28.442864261783832, -29.12909898452462, -29.16460122858138, -29.91414203990822, -28.967056571507985, -29.25925769603387, -28.994558415958434, -30.004735371220352, -28.671768427744333, -28.858182445440587, -28.438497485659028, -30.020054712811042, -29.691381529353393, -28.869669645680407, -29.681946171266727, -30.061437927404384, -28.292346181893997, -28.774629646378862, -30.360770592404478, -30.116266388102737, -29.719656200041307, -28.76633556817023, -29.814325572151606, -28.24858664914725, -27.803879018031438, -30.283387924257994, -29.193465080315853, -29.140918796501744, -28.368459265276496, -30.326976219346808, -28.51877556242082, -28.69760985892925, -28.169863875999717, -29.015470804172715, -29.12736788351964, -28.812541575798633, -29.514265102544336, -27.987847645167065, -28.23782908845882, -29.499437170021626, -30.12535721263271, -30.452854094331304, -29.776258104759577, -30.392277633095723, -29.6297842694619, -29.064400087599513, -29.76530937836922, -29.29277295706, -28.193112134707096, -28.729656827040515, -29.124133856361635, -29.84365339545755, -28.992486708049725, -29.113790091230587, -27.893289922017132, -30.22582885698464, -29.69556317427111, -29.721503322622393, -29.137770855760884, -27.852671613796062, -29.98308212591154, -29.438991158470866, -29.90785307834551, -30.277373515382582, -29.17162899520472, -28.115859191661272, -29.268684714939265, -28.687734404211138, -30.34140802106996, -28.546681723338956, -29.10890228560535, -29.566519892859773, -29.098294194190185, -29.39473787889972, -29.493612629809665, -28.06239911977304, -29.087045504569133, -29.814442096543605, -28.857814787412124, -28.343348205420526, -28.243878004804113, -29.4222630449336, -29.018717944561736, -29.69726025586343, -29.926599962678218, -30.332895117999065, -30.001171328899822, -27.89223963724305, -30.298853653592076, -29.611832190464302, -28.669653581474147, -29.667893117148743, -29.34211473727968, -29.536728103626217, -28.77029186396784, -29.586448447272378, -29.99993138984821, -30.6955158477148, -28.710915725286398, -29.021166229112804, -28.634034354190153, -28.6644462551196, -29.170398036227258, -29.96063039349147, -29.584858574205217, -28.74675742433324, -28.97529950617569, -28.90999337094385, -29.263017503537252, -29.07321464526456, -28.746938776154167, -29.340718699701057, -28.951513404304837, -29.258249436955165, -29.867323466362524, -29.94476040963992, -27.694711769818245, -29.97024672603603, -29.192122338609803, -28.624851068225517, -29.00427612689251, -28.146075833275713, -29.60021283364203, -29.86562667032596, -28.49539466024926, -29.998232203332183, -28.274609181268467, -29.153292103840815, -29.6269622908156, -29.958143086485098, -28.963412025314646, -30.397353740649496, -29.30544676853174, -29.446672559684945, -28.93973813843001, -29.80673341735697, -29.52592631775192, -28.55068645132729, -28.278442758082992, -30.560294194986785, -29.660609999683242, -28.039190125150363, -28.932124705898495, -28.413449280672086, -28.070588307362904, -28.9863060411829, -28.325778297827984, -28.541838237796668, -29.9896653058546, -28.719764107916948, -30.14566409940719, -29.278583506165656, -28.966601611697538, -28.85220049399829, -28.64517571374673, -30.00623558129711, -27.94642487102197, -29.36663645845101, -30.186120593599544, -29.07050609848434, -29.984883652844502, -28.54156619154657, -28.898618442936133, -29.042546696062356, -28.83221025875227, -28.717529111160392, -29.2480119288016, -28.528404850466583, -28.87787238748856, -29.266984334389893, -28.257760139008305, -28.04652564404621, -28.817956458432224, -29.791951840551118, -29.168891157205863, -28.677274623717157, -29.743079892383086, -29.184412611727083, -28.50308744046513, -29.33739270301622, -28.30354989703577, -29.985756646620846, -28.27553229075867, -28.88456593421823, -28.594917236723166, -29.99965607438975, -29.592194525069942, -29.44992602024846, -29.85436191346231, -28.87456561762787, -28.70486792782135, -29.215486921670472, -28.760264613339572, -30.157587218809553, -29.066729074908668, -29.61939486931391, -28.702178614231595, -28.49456922118586, -28.846798903999332, -28.963672383098466, -28.956297071492287, -29.66080269452345, -29.589957072796793, -29.160702347653196, -29.482710989251068, -28.95985019561303, -29.780560491360582, -29.207413072095907, -29.329167839995424, -28.98924096625415, -29.146268847203967, -28.912292394303627, -30.564513453616588, -29.631136877164902, -28.834215905749037, -29.65890283594831, -29.404289462345833, -29.981675579070362, -30.0468490146382, -28.214560847592196, -29.67802816073647, -29.169548165145113, -28.40724604354113, -29.173129068085515, -29.66230367123156, -28.749317160771145, -29.641519862729826, -29.80799269209586, -28.89821042041845, -28.03636405346865, -28.911003219061207, -28.739181834981473, -28.222670500447247, -29.995345209157758, -30.206103754122, -29.34278133828834, -28.934148015924233, -28.499846063225093, -28.890290736031282, -28.094666055164794, -29.356865297601022, -30.1449914121297, -28.492121844170107, -30.166792358816284, -30.52517901176245, -29.20298961702633, -28.731057156442816, -28.839057329144044, -28.752970247725603, -30.19286973302324, -28.587807951759917, -29.028320294998494, -28.937172419649883, -28.804801239401492, -29.244018908948814, -28.55917489729032, -30.082874093179015, -28.0764215826107, -28.20155990747656, -29.928743936823142, -28.825232575811995, -29.103782188899395, -29.01777409906726, -28.567937843552986, -29.631036188042756, -28.505910089245177, -28.505760482511107, -28.892320971548006, -28.436709647984447, -30.20339885560992, -29.008121204355536, -29.155917633529057, -28.465673834824823, -29.83827225042212, -29.22772275090318, -29.99365875048317, -28.195495523669784, -28.379950447083232, -29.42798559890016, -29.952714655487533, -28.58093745362821, -30.3651437006387, -30.24383179447125, -29.11549721726408, -28.921075591812077, -30.189913639247923, -29.258241772615015, -28.11711119673385, -29.846815463018256, -30.240521689723717, -29.34338337084502]}, {\"mode\": \"lines\", \"name\": \"theorerical\", \"type\": \"scatter\", \"x\": [-30.40834545073611, -28.843332649184187, -29.199164573087728, -29.85778996311814, -29.794986341027066, -29.661321979306138, -28.953461814447476, -29.453834515092993, -28.891157387370008, -28.784133112819084, -29.300302866110087, -28.093663040334413, -30.299011085648655, -28.88822555437452, -28.881267249638416, -30.10410721469209, -29.68157509500936, -30.094997925044208, -28.639833338740104, -28.965274666685723, -29.69455408160782, -29.173016271220412, -29.47581899357604, -29.40145697856082, -28.023293053643528, -29.218665043894685, -29.58012783531303, -29.028806556990308, -28.473777719950828, -28.685929514829088, -29.142740733493095, -28.07946975196555, -29.7704537781612, -29.381886911831412, -28.37344512279042, -29.409532838042765, -28.84375758262258, -29.099967627737804, -27.931373160129866, -28.058799329226897, -27.93926653722394, -28.982510891772904, -29.50880222957751, -29.384402171493207, -28.394981806456162, -28.663976270014906, -30.506093016686496, -28.784051413701548, -29.070575681054255, -29.783327033494032, -28.311942098728306, -29.09918012760357, -29.804271952544045, -28.595404934758744, -28.720289882412995, -28.52912847219252, -29.825148654031516, -29.386174344525767, -29.438035394054296, -29.91401680247957, -29.99184553923186, -29.202971098743504, -28.820271422501932, -29.194985181957968, -30.189664154824325, -28.62536556341668, -30.010915192850746, -29.180372364934755, -29.230113071115188, -28.983070467716047, -29.158015481844146, -29.515703519596357, -29.591725441412652, -28.94817787006922, -29.108998279447935, -29.8441887234356, -29.6438399797649, -30.38688585264365, -28.1094354174704, -28.24522243161547, -30.200107035587116, -28.885559103389344, -28.673831711030868, -28.616709538576874, -28.917981431232022, -29.28302288539366, -29.464802493759702, -28.841725670431693, -28.99508618811801, -28.65371456788952, -28.69650141946766, -29.06264778519466, -29.155929007554796, -28.33973314216263, -29.605529472855324, -28.57198378280891, -29.08447293094818, -29.424447245065227, -28.34962937712292, -28.50321681357924, -27.93454290344269, -29.770689379362963, -28.959890237370438, -29.380837910146848, -28.708414859491814, -28.06087172648305, -28.431654828275192, -28.725357114048485, -29.093629097856674, -29.38800420055257, -29.646402513610216, -27.9551626522343, -29.056448840974106, -28.22219882821175, -28.67467199904645, -30.177917400252554, -29.99181754145663, -29.208471753202858, -29.906907117258694, -29.294250497424862, -29.590112058336288, -29.86394703521675, -29.20623467151708, -28.249765498032517, -28.844113572399923, -28.48695614710466, -28.34509242010378, -29.31955850569102, -28.995592281304486, -29.13057959523704, -29.34219651277566, -30.29444677196947, -30.619753248095485, -29.604840281385968, -28.654278064102964, -28.55837694955616, -28.231807741049664, -30.274507609354607, -29.206890267989383, -29.30479336308902, -27.804637551122767, -30.312424260817554, -29.10700418231261, -28.608543391181392, -30.69404243202144, -28.338715948541815, -29.195382010336385, -27.99490246829803, -30.18088012472707, -29.245832435110497, -28.807043104713767, -29.494542477600707, -29.16259048427463, -29.540952081509232, -28.644982551435646, -30.446566084631215, -29.563634679208555, -28.55460663716851, -29.954090251191836, -29.150389765930704, -28.373072992184436, -29.3860839041139, -28.731105584649757, -28.817524088839473, -28.535996143873597, -29.763829210860457, -29.61954356653091, -30.10229280357007, -28.537003920969717, -28.291051762238375, -29.09017224105626, -28.193483586278834, -28.729643057539622, -28.30872839527653, -28.82576104178025, -28.835554199411376, -28.65069981986454, -29.318898899317695, -29.633402781638438, -30.152520807332607, -30.07670546771709, -28.665004392108678, -29.090056830883583, -29.18459356662836, -29.139034575954724, -29.110416296805223, -29.26226743694397, -28.86302409114132, -29.770182228490835, -29.741183148408542, -28.989572865527975, -29.86068256198158, -30.588440517603726, -28.0146888540539, -28.04953534505893, -28.726822976379363, -29.82437676891376, -30.260880855479794, -29.95455900848172, -28.884831628873073, -29.311145433600238, -28.92885654613915, -29.63022788823714, -29.85041003325849, -28.810450412885228, -29.763710076582953, -29.400031113819907, -29.296427174771758, -29.011622563751292, -28.480669129434244, -29.10203807751975, -29.122162225954572, -29.959754441997973, -28.961386430811118, -29.292857378241994, -28.942333473663087, -29.955601314514688, -28.69771297294364, -28.87346314631834, -28.456208505479523, -30.022481486672977, -29.714739981987933, -28.905414083752618, -29.704743015105493, -30.103673198329087, -28.27806440351238, -28.80516787120247, -30.316171480039305, -30.165024072962176, -29.702599004663323, -28.77528456407669, -29.865224984403994, -28.248439451135532, -27.818762619278075, -30.23706628237738, -29.20937637128669, -29.105716757692132, -28.3893681480708, -30.329163715518547, -28.525122949630838, -28.728543824395636, -28.16084820836762, -29.053423100956465, -29.173937480039587, -28.745069469722125, -29.528712444985732, -27.967784084602332, -28.19474801558132, -29.484830862561125, -30.05792487711969, -30.40449216361901, -29.79636855305312, -30.43324476391823, -29.618845238977798, -29.08810269372061, -29.795909178890888, -29.280374808185215, -28.214989154139023, -28.734693774516337, -29.058482497592056, -29.868888794541974, -28.97731602751663, -29.127212066806248, -27.864401098958076, -30.271012683756222, -29.700762108009894, -29.680737067598407, -29.1756017017833, -27.84483504532595, -30.014433359149468, -29.426236192692553, -29.825142689033072, -30.291299293922773, -29.138184452503456, -28.119370715915025, -29.255737311187826, -28.718669757938834, -30.369407262176264, -28.508728538200383, -29.131808350027285, -29.513362945049728, -29.141527292405986, -29.428312159580095, -29.52151062477887, -28.066456147007084, -29.092551139314303, -29.85131512706146, -28.895241405437176, -28.317603955163587, -28.267401798527036, -29.346438430282433, -29.009288602301567, -29.717140530459446, -29.958613210433594, -30.244509545831544, -30.03664477621285, -27.91159653006445, -30.26938933789597, -29.63054231904808, -28.700994884231214, -29.612987388600374, -29.27281294028647, -29.582397819575476, -28.74926182853064, -29.624483915679086, -30.01596016964704, -30.728321846705946, -28.72013666246038, -29.03672886892304, -28.666229990231564, -28.677058001754702, -29.173474450221367, -29.900283626058496, -29.58260795993916, -28.72969467959533, -28.896894945547295, -28.918654852698587, -29.286976423912908, -29.112295191822216, -28.697409886612895, -29.304074624307578, -28.912773627453824, -29.226468275129747, -29.885988035976716, -29.994208818578805, -27.703570270794604, -29.955871635529572, -29.13911417167882, -28.63164017365826, -29.006422191398354, -28.16870912576087, -29.63011167970293, -29.904964796656156, -28.4703208988286, -29.93901642279245, -28.25027304929514, -29.14815211642163, -29.663214149729956, -29.9420065212977, -28.944293299806667, -30.43971067618568, -29.309535807066336, -29.430037219742847, -28.923128378725977, -29.765167548480502, -29.528924133680942, -28.559765814109035, -28.304688289237106, -30.568327774949562, -29.680669817895655, -28.04985932802495, -28.935858585874975, -28.427978511769098, -28.08957510243469, -29.01503415644983, -28.343937018661205, -28.51884352285088, -29.94193938368129, -28.72275943862665, -30.148488925225625, -29.24444056062237, -28.959463309765752, -28.833674829844554, -28.67751010569993, -30.008157735751027, -27.953564549535614, -29.374012446061236, -30.211274479614794, -29.107415767863927, -29.988500486826855, -28.571849888379575, -28.881852933593432, -29.03491950965758, -28.847401656150005, -28.75187183292721, -29.24661186042461, -28.561864062078676, -28.91745956852874, -29.194302113462754, -28.27602657286383, -28.019563349520443, -28.776224457719515, -29.800194077515187, -29.14358956133382, -28.624401593864924, -29.721398639811742, -29.225382105939328, -28.50134894476689, -29.345795896391238, -28.327639656199267, -30.04042211355005, -28.2670283159448, -28.927098037124825, -28.59093680764842, -29.970270183046253, -29.60494956125395, -29.483344502486013, -29.84593917825603, -28.86927094577192, -28.72991584334727, -29.239789458286918, -28.780723586716885, -30.19504911875545, -29.022815175389542, -29.606355664614558, -28.71894408717581, -28.51289608833421, -28.82889145030019, -28.931781679064414, -28.9489514664755, -29.693275719912968, -29.534108124371578, -29.19864718653143, -29.511003737353892, -28.970153110686045, -29.755514117356498, -29.212142262455693, -29.318821821016474, -28.991271735589798, -29.054665947299956, -28.875030650022428, -30.543067391850023, -29.64693388550403, -28.80488052754826, -29.621898950275664, -29.347469463259173, -30.0205989887756, -30.03927279406049, -28.227318730662983, -29.714302499908932, -29.149747721697356, -28.377214271175493, -29.194307948000713, -29.683136881843648, -28.70954717456441, -29.67498370997224, -29.82332888229598, -28.821378215165236, -28.034215625902508, -28.847643564943642, -28.743405669455885, -28.183706047489878, -30.0410031687994, -30.14644797033824, -29.376892091804503, -28.97960296379144, -28.500830706934547, -28.885117647740564, -28.097788118416535, -29.296504827235356, -30.14054956179734, -28.406086789657515, -30.165454315265045, -30.55764611837483, -29.21243911212058, -28.76027098354178, -28.815448438272238, -28.760203917811683, -30.19548583237304, -28.581718685262476, -29.05950847508857, -28.934047909915417, -28.855601889845534, -29.223015433739654, -28.559201007199782, -30.04129755576325, -28.094368421177542, -28.170303448764365, -29.96772968380602, -28.86557755122302, -29.11554900138984, -28.979766908558915, -28.533526883635826, -29.61968297030092, -28.521111458954994, -28.476167460577983, -28.910618164099848, -28.470998617133983, -30.179321532982794, -28.967681122059755, -29.10735888887498, -28.451258328150058, -29.842318318200565, -29.246363435548133, -30.01557035862717, -28.154678334348006, -28.34331300371354, -29.43912427937663, -29.9109460006497, -28.60357582341443, -30.393175349298726, -30.22722268515493, -29.133769282803787, -28.951801373458142, -30.164016566386962, -29.227406849846417, -28.156798401540307, -29.882218658547842, -30.269441526113983, -29.358180090683238], \"y\": [-30.40834545073611, -28.843332649184187, -29.199164573087728, -29.85778996311814, -29.794986341027066, -29.661321979306138, -28.953461814447476, -29.453834515092993, -28.891157387370008, -28.784133112819084, -29.300302866110087, -28.093663040334413, -30.299011085648655, -28.88822555437452, -28.881267249638416, -30.10410721469209, -29.68157509500936, -30.094997925044208, -28.639833338740104, -28.965274666685723, -29.69455408160782, -29.173016271220412, -29.47581899357604, -29.40145697856082, -28.023293053643528, -29.218665043894685, -29.58012783531303, -29.028806556990308, -28.473777719950828, -28.685929514829088, -29.142740733493095, -28.07946975196555, -29.7704537781612, -29.381886911831412, -28.37344512279042, -29.409532838042765, -28.84375758262258, -29.099967627737804, -27.931373160129866, -28.058799329226897, -27.93926653722394, -28.982510891772904, -29.50880222957751, -29.384402171493207, -28.394981806456162, -28.663976270014906, -30.506093016686496, -28.784051413701548, -29.070575681054255, -29.783327033494032, -28.311942098728306, -29.09918012760357, -29.804271952544045, -28.595404934758744, -28.720289882412995, -28.52912847219252, -29.825148654031516, -29.386174344525767, -29.438035394054296, -29.91401680247957, -29.99184553923186, -29.202971098743504, -28.820271422501932, -29.194985181957968, -30.189664154824325, -28.62536556341668, -30.010915192850746, -29.180372364934755, -29.230113071115188, -28.983070467716047, -29.158015481844146, -29.515703519596357, -29.591725441412652, -28.94817787006922, -29.108998279447935, -29.8441887234356, -29.6438399797649, -30.38688585264365, -28.1094354174704, -28.24522243161547, -30.200107035587116, -28.885559103389344, -28.673831711030868, -28.616709538576874, -28.917981431232022, -29.28302288539366, -29.464802493759702, -28.841725670431693, -28.99508618811801, -28.65371456788952, -28.69650141946766, -29.06264778519466, -29.155929007554796, -28.33973314216263, -29.605529472855324, -28.57198378280891, -29.08447293094818, -29.424447245065227, -28.34962937712292, -28.50321681357924, -27.93454290344269, -29.770689379362963, -28.959890237370438, -29.380837910146848, -28.708414859491814, -28.06087172648305, -28.431654828275192, -28.725357114048485, -29.093629097856674, -29.38800420055257, -29.646402513610216, -27.9551626522343, -29.056448840974106, -28.22219882821175, -28.67467199904645, -30.177917400252554, -29.99181754145663, -29.208471753202858, -29.906907117258694, -29.294250497424862, -29.590112058336288, -29.86394703521675, -29.20623467151708, -28.249765498032517, -28.844113572399923, -28.48695614710466, -28.34509242010378, -29.31955850569102, -28.995592281304486, -29.13057959523704, -29.34219651277566, -30.29444677196947, -30.619753248095485, -29.604840281385968, -28.654278064102964, -28.55837694955616, -28.231807741049664, -30.274507609354607, -29.206890267989383, -29.30479336308902, -27.804637551122767, -30.312424260817554, -29.10700418231261, -28.608543391181392, -30.69404243202144, -28.338715948541815, -29.195382010336385, -27.99490246829803, -30.18088012472707, -29.245832435110497, -28.807043104713767, -29.494542477600707, -29.16259048427463, -29.540952081509232, -28.644982551435646, -30.446566084631215, -29.563634679208555, -28.55460663716851, -29.954090251191836, -29.150389765930704, -28.373072992184436, -29.3860839041139, -28.731105584649757, -28.817524088839473, -28.535996143873597, -29.763829210860457, -29.61954356653091, -30.10229280357007, -28.537003920969717, -28.291051762238375, -29.09017224105626, -28.193483586278834, -28.729643057539622, -28.30872839527653, -28.82576104178025, -28.835554199411376, -28.65069981986454, -29.318898899317695, -29.633402781638438, -30.152520807332607, -30.07670546771709, -28.665004392108678, -29.090056830883583, -29.18459356662836, -29.139034575954724, -29.110416296805223, -29.26226743694397, -28.86302409114132, -29.770182228490835, -29.741183148408542, -28.989572865527975, -29.86068256198158, -30.588440517603726, -28.0146888540539, -28.04953534505893, -28.726822976379363, -29.82437676891376, -30.260880855479794, -29.95455900848172, -28.884831628873073, -29.311145433600238, -28.92885654613915, -29.63022788823714, -29.85041003325849, -28.810450412885228, -29.763710076582953, -29.400031113819907, -29.296427174771758, -29.011622563751292, -28.480669129434244, -29.10203807751975, -29.122162225954572, -29.959754441997973, -28.961386430811118, -29.292857378241994, -28.942333473663087, -29.955601314514688, -28.69771297294364, -28.87346314631834, -28.456208505479523, -30.022481486672977, -29.714739981987933, -28.905414083752618, -29.704743015105493, -30.103673198329087, -28.27806440351238, -28.80516787120247, -30.316171480039305, -30.165024072962176, -29.702599004663323, -28.77528456407669, -29.865224984403994, -28.248439451135532, -27.818762619278075, -30.23706628237738, -29.20937637128669, -29.105716757692132, -28.3893681480708, -30.329163715518547, -28.525122949630838, -28.728543824395636, -28.16084820836762, -29.053423100956465, -29.173937480039587, -28.745069469722125, -29.528712444985732, -27.967784084602332, -28.19474801558132, -29.484830862561125, -30.05792487711969, -30.40449216361901, -29.79636855305312, -30.43324476391823, -29.618845238977798, -29.08810269372061, -29.795909178890888, -29.280374808185215, -28.214989154139023, -28.734693774516337, -29.058482497592056, -29.868888794541974, -28.97731602751663, -29.127212066806248, -27.864401098958076, -30.271012683756222, -29.700762108009894, -29.680737067598407, -29.1756017017833, -27.84483504532595, -30.014433359149468, -29.426236192692553, -29.825142689033072, -30.291299293922773, -29.138184452503456, -28.119370715915025, -29.255737311187826, -28.718669757938834, -30.369407262176264, -28.508728538200383, -29.131808350027285, -29.513362945049728, -29.141527292405986, -29.428312159580095, -29.52151062477887, -28.066456147007084, -29.092551139314303, -29.85131512706146, -28.895241405437176, -28.317603955163587, -28.267401798527036, -29.346438430282433, -29.009288602301567, -29.717140530459446, -29.958613210433594, -30.244509545831544, -30.03664477621285, -27.91159653006445, -30.26938933789597, -29.63054231904808, -28.700994884231214, -29.612987388600374, -29.27281294028647, -29.582397819575476, -28.74926182853064, -29.624483915679086, -30.01596016964704, -30.728321846705946, -28.72013666246038, -29.03672886892304, -28.666229990231564, -28.677058001754702, -29.173474450221367, -29.900283626058496, -29.58260795993916, -28.72969467959533, -28.896894945547295, -28.918654852698587, -29.286976423912908, -29.112295191822216, -28.697409886612895, -29.304074624307578, -28.912773627453824, -29.226468275129747, -29.885988035976716, -29.994208818578805, -27.703570270794604, -29.955871635529572, -29.13911417167882, -28.63164017365826, -29.006422191398354, -28.16870912576087, -29.63011167970293, -29.904964796656156, -28.4703208988286, -29.93901642279245, -28.25027304929514, -29.14815211642163, -29.663214149729956, -29.9420065212977, -28.944293299806667, -30.43971067618568, -29.309535807066336, -29.430037219742847, -28.923128378725977, -29.765167548480502, -29.528924133680942, -28.559765814109035, -28.304688289237106, -30.568327774949562, -29.680669817895655, -28.04985932802495, -28.935858585874975, -28.427978511769098, -28.08957510243469, -29.01503415644983, -28.343937018661205, -28.51884352285088, -29.94193938368129, -28.72275943862665, -30.148488925225625, -29.24444056062237, -28.959463309765752, -28.833674829844554, -28.67751010569993, -30.008157735751027, -27.953564549535614, -29.374012446061236, -30.211274479614794, -29.107415767863927, -29.988500486826855, -28.571849888379575, -28.881852933593432, -29.03491950965758, -28.847401656150005, -28.75187183292721, -29.24661186042461, -28.561864062078676, -28.91745956852874, -29.194302113462754, -28.27602657286383, -28.019563349520443, -28.776224457719515, -29.800194077515187, -29.14358956133382, -28.624401593864924, -29.721398639811742, -29.225382105939328, -28.50134894476689, -29.345795896391238, -28.327639656199267, -30.04042211355005, -28.2670283159448, -28.927098037124825, -28.59093680764842, -29.970270183046253, -29.60494956125395, -29.483344502486013, -29.84593917825603, -28.86927094577192, -28.72991584334727, -29.239789458286918, -28.780723586716885, -30.19504911875545, -29.022815175389542, -29.606355664614558, -28.71894408717581, -28.51289608833421, -28.82889145030019, -28.931781679064414, -28.9489514664755, -29.693275719912968, -29.534108124371578, -29.19864718653143, -29.511003737353892, -28.970153110686045, -29.755514117356498, -29.212142262455693, -29.318821821016474, -28.991271735589798, -29.054665947299956, -28.875030650022428, -30.543067391850023, -29.64693388550403, -28.80488052754826, -29.621898950275664, -29.347469463259173, -30.0205989887756, -30.03927279406049, -28.227318730662983, -29.714302499908932, -29.149747721697356, -28.377214271175493, -29.194307948000713, -29.683136881843648, -28.70954717456441, -29.67498370997224, -29.82332888229598, -28.821378215165236, -28.034215625902508, -28.847643564943642, -28.743405669455885, -28.183706047489878, -30.0410031687994, -30.14644797033824, -29.376892091804503, -28.97960296379144, -28.500830706934547, -28.885117647740564, -28.097788118416535, -29.296504827235356, -30.14054956179734, -28.406086789657515, -30.165454315265045, -30.55764611837483, -29.21243911212058, -28.76027098354178, -28.815448438272238, -28.760203917811683, -30.19548583237304, -28.581718685262476, -29.05950847508857, -28.934047909915417, -28.855601889845534, -29.223015433739654, -28.559201007199782, -30.04129755576325, -28.094368421177542, -28.170303448764365, -29.96772968380602, -28.86557755122302, -29.11554900138984, -28.979766908558915, -28.533526883635826, -29.61968297030092, -28.521111458954994, -28.476167460577983, -28.910618164099848, -28.470998617133983, -30.179321532982794, -28.967681122059755, -29.10735888887498, -28.451258328150058, -29.842318318200565, -29.246363435548133, -30.01557035862717, -28.154678334348006, -28.34331300371354, -29.43912427937663, -29.9109460006497, -28.60357582341443, -30.393175349298726, -30.22722268515493, -29.133769282803787, -28.951801373458142, -30.164016566386962, -29.227406849846417, -28.156798401540307, -29.882218658547842, -30.269441526113983, -29.358180090683238]}],\n",
              "                        {\"template\": {\"data\": {\"bar\": [{\"error_x\": {\"color\": \"#2a3f5f\"}, \"error_y\": {\"color\": \"#2a3f5f\"}, \"marker\": {\"line\": {\"color\": \"#E5ECF6\", \"width\": 0.5}}, \"type\": \"bar\"}], \"barpolar\": [{\"marker\": {\"line\": {\"color\": \"#E5ECF6\", \"width\": 0.5}}, \"type\": \"barpolar\"}], \"carpet\": [{\"aaxis\": {\"endlinecolor\": \"#2a3f5f\", \"gridcolor\": \"white\", \"linecolor\": \"white\", \"minorgridcolor\": \"white\", \"startlinecolor\": \"#2a3f5f\"}, \"baxis\": {\"endlinecolor\": \"#2a3f5f\", \"gridcolor\": \"white\", \"linecolor\": \"white\", \"minorgridcolor\": \"white\", \"startlinecolor\": \"#2a3f5f\"}, \"type\": \"carpet\"}], \"choropleth\": [{\"colorbar\": {\"outlinewidth\": 0, \"ticks\": \"\"}, \"type\": \"choropleth\"}], \"contour\": [{\"colorbar\": {\"outlinewidth\": 0, \"ticks\": \"\"}, \"colorscale\": [[0.0, \"#0d0887\"], [0.1111111111111111, \"#46039f\"], [0.2222222222222222, \"#7201a8\"], [0.3333333333333333, \"#9c179e\"], [0.4444444444444444, \"#bd3786\"], [0.5555555555555556, \"#d8576b\"], [0.6666666666666666, \"#ed7953\"], [0.7777777777777778, \"#fb9f3a\"], [0.8888888888888888, \"#fdca26\"], [1.0, \"#f0f921\"]], \"type\": \"contour\"}], \"contourcarpet\": [{\"colorbar\": {\"outlinewidth\": 0, \"ticks\": \"\"}, \"type\": \"contourcarpet\"}], \"heatmap\": [{\"colorbar\": {\"outlinewidth\": 0, \"ticks\": \"\"}, \"colorscale\": [[0.0, \"#0d0887\"], [0.1111111111111111, \"#46039f\"], [0.2222222222222222, \"#7201a8\"], [0.3333333333333333, \"#9c179e\"], [0.4444444444444444, \"#bd3786\"], [0.5555555555555556, \"#d8576b\"], [0.6666666666666666, \"#ed7953\"], [0.7777777777777778, \"#fb9f3a\"], [0.8888888888888888, \"#fdca26\"], [1.0, \"#f0f921\"]], \"type\": \"heatmap\"}], \"heatmapgl\": [{\"colorbar\": {\"outlinewidth\": 0, \"ticks\": \"\"}, \"colorscale\": [[0.0, \"#0d0887\"], [0.1111111111111111, \"#46039f\"], [0.2222222222222222, \"#7201a8\"], [0.3333333333333333, \"#9c179e\"], [0.4444444444444444, \"#bd3786\"], [0.5555555555555556, \"#d8576b\"], [0.6666666666666666, \"#ed7953\"], [0.7777777777777778, \"#fb9f3a\"], [0.8888888888888888, \"#fdca26\"], [1.0, \"#f0f921\"]], \"type\": \"heatmapgl\"}], \"histogram\": [{\"marker\": {\"colorbar\": {\"outlinewidth\": 0, \"ticks\": \"\"}}, \"type\": \"histogram\"}], \"histogram2d\": [{\"colorbar\": {\"outlinewidth\": 0, \"ticks\": \"\"}, \"colorscale\": [[0.0, \"#0d0887\"], [0.1111111111111111, \"#46039f\"], [0.2222222222222222, \"#7201a8\"], [0.3333333333333333, \"#9c179e\"], [0.4444444444444444, \"#bd3786\"], [0.5555555555555556, \"#d8576b\"], [0.6666666666666666, \"#ed7953\"], [0.7777777777777778, \"#fb9f3a\"], [0.8888888888888888, \"#fdca26\"], [1.0, \"#f0f921\"]], \"type\": \"histogram2d\"}], \"histogram2dcontour\": [{\"colorbar\": {\"outlinewidth\": 0, \"ticks\": \"\"}, \"colorscale\": [[0.0, \"#0d0887\"], [0.1111111111111111, \"#46039f\"], [0.2222222222222222, \"#7201a8\"], [0.3333333333333333, \"#9c179e\"], [0.4444444444444444, \"#bd3786\"], [0.5555555555555556, \"#d8576b\"], [0.6666666666666666, \"#ed7953\"], [0.7777777777777778, \"#fb9f3a\"], [0.8888888888888888, \"#fdca26\"], [1.0, \"#f0f921\"]], \"type\": \"histogram2dcontour\"}], \"mesh3d\": [{\"colorbar\": {\"outlinewidth\": 0, \"ticks\": \"\"}, \"type\": \"mesh3d\"}], \"parcoords\": [{\"line\": {\"colorbar\": {\"outlinewidth\": 0, \"ticks\": \"\"}}, \"type\": \"parcoords\"}], \"pie\": [{\"automargin\": true, \"type\": \"pie\"}], \"scatter\": [{\"marker\": {\"colorbar\": {\"outlinewidth\": 0, \"ticks\": \"\"}}, \"type\": \"scatter\"}], \"scatter3d\": [{\"line\": {\"colorbar\": {\"outlinewidth\": 0, \"ticks\": \"\"}}, \"marker\": {\"colorbar\": {\"outlinewidth\": 0, \"ticks\": \"\"}}, \"type\": \"scatter3d\"}], \"scattercarpet\": [{\"marker\": {\"colorbar\": {\"outlinewidth\": 0, \"ticks\": \"\"}}, \"type\": \"scattercarpet\"}], \"scattergeo\": [{\"marker\": {\"colorbar\": {\"outlinewidth\": 0, \"ticks\": \"\"}}, \"type\": \"scattergeo\"}], \"scattergl\": [{\"marker\": {\"colorbar\": {\"outlinewidth\": 0, \"ticks\": \"\"}}, \"type\": \"scattergl\"}], \"scattermapbox\": [{\"marker\": {\"colorbar\": {\"outlinewidth\": 0, \"ticks\": \"\"}}, \"type\": \"scattermapbox\"}], \"scatterpolar\": [{\"marker\": {\"colorbar\": {\"outlinewidth\": 0, \"ticks\": \"\"}}, \"type\": \"scatterpolar\"}], \"scatterpolargl\": [{\"marker\": {\"colorbar\": {\"outlinewidth\": 0, \"ticks\": \"\"}}, \"type\": \"scatterpolargl\"}], \"scatterternary\": [{\"marker\": {\"colorbar\": {\"outlinewidth\": 0, \"ticks\": \"\"}}, \"type\": \"scatterternary\"}], \"surface\": [{\"colorbar\": {\"outlinewidth\": 0, \"ticks\": \"\"}, \"colorscale\": [[0.0, \"#0d0887\"], [0.1111111111111111, \"#46039f\"], [0.2222222222222222, \"#7201a8\"], [0.3333333333333333, \"#9c179e\"], [0.4444444444444444, \"#bd3786\"], [0.5555555555555556, \"#d8576b\"], [0.6666666666666666, \"#ed7953\"], [0.7777777777777778, \"#fb9f3a\"], [0.8888888888888888, \"#fdca26\"], [1.0, \"#f0f921\"]], \"type\": \"surface\"}], \"table\": [{\"cells\": {\"fill\": {\"color\": \"#EBF0F8\"}, \"line\": {\"color\": \"white\"}}, \"header\": {\"fill\": {\"color\": \"#C8D4E3\"}, \"line\": {\"color\": \"white\"}}, \"type\": \"table\"}]}, \"layout\": {\"annotationdefaults\": {\"arrowcolor\": \"#2a3f5f\", \"arrowhead\": 0, \"arrowwidth\": 1}, \"coloraxis\": {\"colorbar\": {\"outlinewidth\": 0, \"ticks\": \"\"}}, \"colorscale\": {\"diverging\": [[0, \"#8e0152\"], [0.1, \"#c51b7d\"], [0.2, \"#de77ae\"], [0.3, \"#f1b6da\"], [0.4, \"#fde0ef\"], [0.5, \"#f7f7f7\"], [0.6, \"#e6f5d0\"], [0.7, \"#b8e186\"], [0.8, \"#7fbc41\"], [0.9, \"#4d9221\"], [1, \"#276419\"]], \"sequential\": [[0.0, \"#0d0887\"], [0.1111111111111111, \"#46039f\"], [0.2222222222222222, \"#7201a8\"], [0.3333333333333333, \"#9c179e\"], [0.4444444444444444, \"#bd3786\"], [0.5555555555555556, \"#d8576b\"], [0.6666666666666666, \"#ed7953\"], [0.7777777777777778, \"#fb9f3a\"], [0.8888888888888888, \"#fdca26\"], [1.0, \"#f0f921\"]], \"sequentialminus\": [[0.0, \"#0d0887\"], [0.1111111111111111, \"#46039f\"], [0.2222222222222222, \"#7201a8\"], [0.3333333333333333, \"#9c179e\"], [0.4444444444444444, \"#bd3786\"], [0.5555555555555556, \"#d8576b\"], [0.6666666666666666, \"#ed7953\"], [0.7777777777777778, \"#fb9f3a\"], [0.8888888888888888, \"#fdca26\"], [1.0, \"#f0f921\"]]}, \"colorway\": [\"#636efa\", \"#EF553B\", \"#00cc96\", \"#ab63fa\", \"#FFA15A\", \"#19d3f3\", \"#FF6692\", \"#B6E880\", \"#FF97FF\", \"#FECB52\"], \"font\": {\"color\": \"#2a3f5f\"}, \"geo\": {\"bgcolor\": \"white\", \"lakecolor\": \"white\", \"landcolor\": \"#E5ECF6\", \"showlakes\": true, \"showland\": true, \"subunitcolor\": \"white\"}, \"hoverlabel\": {\"align\": \"left\"}, \"hovermode\": \"closest\", \"mapbox\": {\"style\": \"light\"}, \"paper_bgcolor\": \"white\", \"plot_bgcolor\": \"#E5ECF6\", \"polar\": {\"angularaxis\": {\"gridcolor\": \"white\", \"linecolor\": \"white\", \"ticks\": \"\"}, \"bgcolor\": \"#E5ECF6\", \"radialaxis\": {\"gridcolor\": \"white\", \"linecolor\": \"white\", \"ticks\": \"\"}}, \"scene\": {\"xaxis\": {\"backgroundcolor\": \"#E5ECF6\", \"gridcolor\": \"white\", \"gridwidth\": 2, \"linecolor\": \"white\", \"showbackground\": true, \"ticks\": \"\", \"zerolinecolor\": \"white\"}, \"yaxis\": {\"backgroundcolor\": \"#E5ECF6\", \"gridcolor\": \"white\", \"gridwidth\": 2, \"linecolor\": \"white\", \"showbackground\": true, \"ticks\": \"\", \"zerolinecolor\": \"white\"}, \"zaxis\": {\"backgroundcolor\": \"#E5ECF6\", \"gridcolor\": \"white\", \"gridwidth\": 2, \"linecolor\": \"white\", \"showbackground\": true, \"ticks\": \"\", \"zerolinecolor\": \"white\"}}, \"shapedefaults\": {\"line\": {\"color\": \"#2a3f5f\"}}, \"ternary\": {\"aaxis\": {\"gridcolor\": \"white\", \"linecolor\": \"white\", \"ticks\": \"\"}, \"baxis\": {\"gridcolor\": \"white\", \"linecolor\": \"white\", \"ticks\": \"\"}, \"bgcolor\": \"#E5ECF6\", \"caxis\": {\"gridcolor\": \"white\", \"linecolor\": \"white\", \"ticks\": \"\"}}, \"title\": {\"x\": 0.05}, \"xaxis\": {\"automargin\": true, \"gridcolor\": \"white\", \"linecolor\": \"white\", \"ticks\": \"\", \"title\": {\"standoff\": 15}, \"zerolinecolor\": \"white\", \"zerolinewidth\": 2}, \"yaxis\": {\"automargin\": true, \"gridcolor\": \"white\", \"linecolor\": \"white\", \"ticks\": \"\", \"title\": {\"standoff\": 15}, \"zerolinecolor\": \"white\", \"zerolinewidth\": 2}}}, \"title\": {\"text\": \"Morse potential energies\"}, \"xaxis\": {\"title\": {\"text\": \"Theoretical\"}}, \"yaxis\": {\"title\": {\"text\": \"Empirical\"}}},\n",
              "                        {\"responsive\": true}\n",
              "                    ).then(function(){\n",
              "                            \n",
              "var gd = document.getElementById('04dc0e87-26fe-4c51-8d8e-0b3392874f53');\n",
              "var x = new MutationObserver(function (mutations, observer) {{\n",
              "        var display = window.getComputedStyle(gd).display;\n",
              "        if (!display || display === 'none') {{\n",
              "            console.log([gd, 'removed!']);\n",
              "            Plotly.purge(gd);\n",
              "            observer.disconnect();\n",
              "        }}\n",
              "}});\n",
              "\n",
              "// Listen for the removal of the full notebook cells\n",
              "var notebookContainer = gd.closest('#notebook-container');\n",
              "if (notebookContainer) {{\n",
              "    x.observe(notebookContainer, {childList: true});\n",
              "}}\n",
              "\n",
              "// Listen for the clearing of the current output cell\n",
              "var outputEl = gd.closest('.output');\n",
              "if (outputEl) {{\n",
              "    x.observe(outputEl, {childList: true});\n",
              "}}\n",
              "\n",
              "                        })\n",
              "                };\n",
              "                \n",
              "            </script>\n",
              "        </div>\n",
              "</body>\n",
              "</html>"
            ]
          },
          "metadata": {
            "tags": []
          }
        }
      ]
    }
  ]
}